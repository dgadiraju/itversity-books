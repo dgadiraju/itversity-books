{
 "cells": [
  {
   "cell_type": "markdown",
   "metadata": {},
   "source": [
    "# Quick Recap of Scala"
   ]
  },
  {
   "cell_type": "markdown",
   "metadata": {},
   "source": [
    "As part of this topic, let us quickly review basic concepts of Scala before jumping into Spark APIs. Scala is a programming language and Spark APIs are compatible with Scala (along with Python, Java etc). It is imperative to master at least one of the programming languages to build applications using Spark.\n",
    "\n",
    "Let us revise below concepts before jumping into programming using Spark base APIs\n",
    "\n",
    "* Overview of REPL and Getting Started\n",
    "* Functions – pre-defined, user-defined and lambda functions\n",
    "* Basic File I/O\n",
    "* Collections, Tuple, and Map Reduce APIs\n",
    "* Development Life Cycle using IDE"
   ]
  },
  {
   "cell_type": "markdown",
   "metadata": {},
   "source": [
    "### Overview of REPL and Getting Started\n",
    "\n",
    "Let us see details about REPL and how we can get started with Scala.\n",
    "\n",
    "* We can launch Scala REPL using **Scala**\n",
    "* REPL stands for Read, Evaluate, Print, and Loop. It is an interactive way of building logic.\n",
    "* You can perform arithmetic operations, invoke functions, or even develop functions.\n",
    "* Each line of code is evaluated separately by being compiled into Java bytecode. Hence many times each line can be treated in an isolated way. Due to that, we should be able to define variables with the same name.\n",
    "\n",
    "***Defining Variables***\n",
    "\n",
    "We have to specify whether a variable is mutable or immutable while defining it.\n",
    "\n",
    "* val is for immutable variable\n",
    "* var is for mutable variable\n",
    "* Once an immutable variable is created using val, we will not be able to reassign into it.\n",
    "* It is optional to define a variable with the Data Type and mandatory to assign with a value.\n",
    "* Based on the value assigned, the variable will inherit Data Type.\n",
    "* Even though we do not have to explicitly define variables, Scala Variable is still a Statically Typed.\n",
    "\n",
    "***Getting Help***\n",
    "\n",
    "We can get some usage related information on the functions and classes as part of REPL. We will give a demo of the following.\n",
    "\n",
    "* Listing Functions\n",
    "* Getting a list of overloaded functions with arguments\n",
    "* Getting a list of all functions along with few details for a given Class.\n",
    "\n",
    "### Functions Overview\n",
    "\n",
    "There are different things, which you need to understand about Functions and Arguments.\n",
    "\n",
    "* Pre-defined Functions (example String Manipulation Functions)\n",
    "* User-defined Functions (sum of integers using loops)\n",
    "* Functions with a Varying number of Arguments\n",
    "* Lambda or Anonymous Functions."
   ]
  },
  {
   "cell_type": "code",
   "execution_count": null,
   "metadata": {},
   "outputs": [],
   "source": [
    "// functions-01-sumOfIntegers.scala\n",
    "\n",
    "def sumOfIntegers(lb: Int, ub: Int) = {\n",
    "  var total = 0\n",
    "  for (i <- (lb to ub))\n",
    "    total += i\n",
    "  total\n",
    "}\n",
    "\n",
    "print(sumOfIntegers(5, 10))"
   ]
  },
  {
   "cell_type": "code",
   "execution_count": null,
   "metadata": {},
   "outputs": [],
   "source": [
    "// functions-02-sumOfIntegers-varying.scala\n",
    "\n",
    "def sumOfIntegers(i: Int*) = {\n",
    "  i.toList.sum\n",
    "}\n",
    "\n",
    "sumOfIntegers(1, 2, 3)"
   ]
  },
  {
   "cell_type": "code",
   "execution_count": null,
   "metadata": {},
   "outputs": [],
   "source": [
    "// functions-03-sumOfIntegers-anonymous.scala\n",
    "\n",
    "def sum(lb: Int, ub: Int, f: Int => Int) = {\n",
    "  var total = 0\n",
    "  for (i <- (lb to ub))\n",
    "    total += f(i)\n",
    "  total\n",
    "}\n",
    "\n",
    "print(sum(5, 10, i => i))\n",
    "print(sum(5, 10, i => i * i))\n",
    "print(sum(5, 10, i => if(i%2 == 0) i else 0))"
   ]
  },
  {
   "cell_type": "markdown",
   "metadata": {},
   "source": [
    "### Basic File I/O\n",
    "\n",
    "Let us see how we can perform basic file I/O using Scala.\n",
    "\n",
    "* scala.io package has few simple APIs which read data from the source into memory.\n",
    "* To read data from File we can use this API – **scala.io.Source.fromFile(“PATH_TO_FILE”)**\n",
    "* It will create an object of type BufferedSource\n",
    "* We can apply getLines on top of BufferedSource to create non-empty Iterator where each element is of type String (we have passed text file as path earlier)\n",
    "* Once we got the iterator, we can convert into any collection type based upon our requirement."
   ]
  },
  {
   "cell_type": "raw",
   "metadata": {},
   "source": [
    "# ScalaDemo-01-build.sbt\n",
    "\n",
    "name := \"ScalaDemo\"\n",
    "version := \"0.1\"\n",
    "scalaVersion := \"2.11.8\""
   ]
  },
  {
   "cell_type": "raw",
   "metadata": {},
   "source": [
    "//ScalaDemo-02-orderRevenue.scala\n",
    "\n",
    "import scala.io.Source\n",
    "\n",
    "object OrderRevenue {\n",
    "  def main(args: Array[String]) = {\n",
    "    val orderItems = Source.fromFile(args(0)).getLines\n",
    "    val orderRevenue = orderItems.\n",
    "      filter(oi => oi.split(\",\")(1).toInt == 2).\n",
    "      map(orderItem => oi.split(\",\")(4).toFloat).\n",
    "      reduce((t, v) => t + v)\n",
    "    print(orderRevenue)\n",
    "  }\n",
    "}"
   ]
  },
  {
   "cell_type": "markdown",
   "metadata": {},
   "source": [
    "### Collections, Tuples, and Map Reduce APIs\n",
    "\n",
    "Scala has rich collection API. But it is enough to understand the most basic ones.\n",
    "\n",
    "* List – a collection of homogeneous elements\n",
    "* Set – a collection of unique homogeneous elements\n",
    "* Map – a collection of key-value pairs, where keys are unique\n",
    "* Tuple – a collection of heterogeneous elements\n",
    "\n",
    "List or Set or Map is like a Table or Spreadsheet where we have n number of elements of the same type, whereas Tuple is a group of fields in an individual row.\n",
    "\n",
    "We typically create a list or set or map of Tuples depending upon our requirements.\n",
    "\n",
    "**Collection APIs**\n",
    "\n",
    "There are many functions as part of collections such as List, Set, and Map. Let us explore some of them.\n",
    "\n",
    "* Most of these functions are inherited from root trait of collections – Traversable\n",
    "* Here are some of the commonly used functions.\n",
    "    * foreach\n",
    "    * fold or reduce\n",
    "    * map\n",
    "    * filter\n",
    "    * size or length\n",
    "    * exists\n",
    "    * Type conversion functions\n",
    "    * and more\n",
    "\n",
    "**Map Reduce APIs**\n",
    "\n",
    "We have a bunch of APIs from Map-Reduce paradigm.\n",
    "\n",
    "* All these APIs take lambda or anonymous function as an argument\n",
    "* You have to pass business logic based upon the usage of the function\n",
    "* map – row level transformations\n",
    "* filter – filtering out data which are not required\n",
    "* reduce – perform aggregations\n",
    "\n",
    "We have similar functions as part of Spark as well, but they operate on RDDs."
   ]
  },
  {
   "cell_type": "raw",
   "metadata": {},
   "source": [
    "# ScalaDemo-01-build.sbt\n",
    "\n",
    "name := \"ScalaDemo\"\n",
    "version := \"0.1\"\n",
    "scalaVersion := \"2.11.8\""
   ]
  },
  {
   "cell_type": "raw",
   "metadata": {},
   "source": [
    "// ScalaDemo-02-orderRevenue.scala\n",
    "\n",
    "import scala.io.Source\n",
    "\n",
    "object OrderRevenue {\n",
    "  def main(args: Array[String]) = {  \n",
    "    val orderItems = Source.fromFile(args(0)).getLines    \n",
    "    val orderRevenue = orderItems.    \n",
    "      filter(oi => oi.split(\",\")(1).toInt == 2).      \n",
    "      map(orderItem => oi.split(\",\")(4).toFloat).    \n",
    "      reduce((t, v) => t + v)    \n",
    "    print(orderRevenue)   \n",
    "  }\n",
    "}"
   ]
  },
  {
   "cell_type": "markdown",
   "metadata": {},
   "source": [
    "### Development Life Cycle using IDE\n",
    "\n",
    "Now let understand Development Life Cycle using IDE.\n",
    "\n",
    "* We will be using IntelliJ to understand Development Live Cycle.\n",
    "* We will set up the project\n",
    "* Develop code to read data and then filter\n",
    "* Enhance code to extract necessary information and then aggregate using the map and reduce.\n",
    "* We will also see how to compile and run as an application using sbt.\n",
    "\n",
    "**Setup Project**\n",
    "\n",
    "Let us start setting up the project.\n",
    "\n",
    "* Create a project with Scala 2.11.8 using sbt\n",
    "* Make sure to select JDK 1.8\n",
    "* Give a name to the project and it will take some time to dump\n",
    "* We can develop the logic using IDE – let us get revenue for a given order\n",
    "\n",
    "**Read and Filter Data**\n",
    "\n",
    "Let us see how we can read and filter data.\n",
    "\n",
    "* We can read the data using scala.io.Source\n",
    "* It will create BufferedSource object which can be converted into a collection using getLines.\n",
    "* Once the collection is created, we can use the filter to apply the necessary logic to filter the data.\n",
    "\n",
    "**Enhance and Run Program**\n",
    "\n",
    "Now let us actually enhance the code to extract order_item_subtotal and then aggregate.\n",
    "\n",
    "* We can apply the map to extract order_item_subtotal for each record in the collection.\n",
    "* Once we get order_item_subtotal for each item we can add those to get total order revenue.\n",
    "* We can validate using IDE by passing Run Time arguments\n",
    "* Once this is done we can use sbt and build jar file out of it\n",
    "    * Go to the project working directory\n",
    "    * Run sbt package\n",
    "    * You will see jar file under target/scala_2.11\n",
    "* Once jar file is created, we can invoke jar file using either sbt run or java jar –<mark> sbt \"run-main OrderRevenue /mnt/c/data/retail_db/order_items/part-00000\"</mark>"
   ]
  },
  {
   "cell_type": "raw",
   "metadata": {},
   "source": [
    "# ScalaDemo-01-build.sbt\n",
    "\n",
    "name := \"ScalaDemo\"\n",
    "version := \"0.1\"\n",
    "scalaVersion := \"2.11.8\""
   ]
  },
  {
   "cell_type": "raw",
   "metadata": {},
   "source": [
    "// ScalaDemo-02-orderRevenue.scala\n",
    "\n",
    "import scala.io.Source\n",
    "\n",
    "object OrderRevenue {\n",
    "  def main(args: Array[String]) = {\n",
    "    val orderItems = Source.fromFile(args(0)).getLines\n",
    "    val orderRevenue = orderItems.\n",
    "      filter(oi => oi.split(\",\")(1).toInt == 2).\n",
    "      map(orderItem => oi.split(\",\")(4).toFloat).\n",
    "      reduce((t, v) => t + v)\n",
    "    print(orderRevenue)\n",
    "  }\n",
    "}"
   ]
  },
  {
   "cell_type": "markdown",
   "metadata": {},
   "source": [
    "### Integrating 3rd Party Plugins\n",
    "As we have developed a simple program using IDE leveraging core modules of Scala, let us also review how we can integrate 3rd Party Plugins.\n",
    "\n",
    "* One of the requirements of the applications is to externalize runtime properties\n",
    "* For the previous problem, if we have to deploy any other environment the code is bound to fail as the path is hardcoded.\n",
    "* One of the approaches is to externalize the properties and load at runtime leveraging 3rd party plugins.\n",
    "* Here we will be using typesafe config.\n",
    "* First we need to update build.sbt using artifact id, group id and version of the package.\n",
    "* We can bundle the external properties as part of application. For it, we need to create directory resources under src/main and then add file with one of the typesafe config standard names – application.properties\n",
    "* Now you can have properties defined in the form of key value pairs.\n",
    "* We can use typesafe config’s ConfigFactory.load method to load this standard file from resources and all the properties will be available at run time.\n",
    "* Once development is done we can use sbt and build jar file out of it\n",
    "    * Go to the project working directory\n",
    "    * Run sbt package\n",
    "    * You will see jar file under target/scala_2.11\n",
    "* Once jar file is created, we can invoke jar file using either sbt run or java jar – <mark>sbt \"run-main OrderRevenue /mnt/c/data/retail_db/order_items/part-00000\"</mark>"
   ]
  },
  {
   "cell_type": "code",
   "execution_count": null,
   "metadata": {},
   "outputs": [],
   "source": [
    "# ScalaDemo-ExternalizeProperties-01-build.sbt\n",
    "name := \"ScalaDemo\"\n",
    "\n",
    "version := \"0.1\"\n",
    "\n",
    "scalaVersion := \"2.11.8\"\n",
    "\n",
    "libraryDependencies += \"com.typesafe\" % \"config\" % \"1.3.2\""
   ]
  },
  {
   "cell_type": "code",
   "execution_count": null,
   "metadata": {},
   "outputs": [],
   "source": [
    "dev.data.path /mnt/c/data/retail_db/order_items/part-00000"
   ]
  },
  {
   "cell_type": "raw",
   "metadata": {},
   "source": [
    "// ScalaDemo-ExternalizeProperties-03-OrderRevenue.scala \n",
    "\n",
    "import com.typesafe.config.ConfigFactory\n",
    "\n",
    "import scala.io.Source\n",
    "\n",
    "object OrderRevenue {\n",
    "  def main(args: Array[String]) = {\n",
    "    val conf = ConfigFactory.load\n",
    "    val orderItems = Source.\n",
    "      fromFile(conf.getString(\"dev.data.path\")).\n",
    "      getLines\n",
    "    val orderRevenue = orderItems.\n",
    "      filter(oi => oi.split(\",\")(1).toInt == 2).\n",
    "      map(orderItem => orderItem.split(\",\")(4).toFloat).\n",
    "      reduce((t, v) => t + v)\n",
    "    print(orderRevenue)\n",
    "  }\n",
    "}"
   ]
  },
  {
   "cell_type": "code",
   "execution_count": null,
   "metadata": {},
   "outputs": [],
   "source": []
  }
 ],
 "metadata": {
  "kernelspec": {
   "display_name": "Apache Toree - Scala",
   "language": "scala",
   "name": "apache_toree_scala"
  },
  "language_info": {
   "codemirror_mode": "text/x-scala",
   "file_extension": ".scala",
   "mimetype": "text/x-scala",
   "name": "scala",
   "pygments_lexer": "scala",
   "version": "2.11.12"
  }
 },
 "nbformat": 4,
 "nbformat_minor": 4
}
