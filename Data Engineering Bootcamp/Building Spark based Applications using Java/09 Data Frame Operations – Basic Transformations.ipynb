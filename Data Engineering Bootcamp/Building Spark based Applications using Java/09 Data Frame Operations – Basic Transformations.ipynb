{
 "cells": [
  {
   "cell_type": "markdown",
   "metadata": {},
   "source": [
    "# Data Frame Operations – Basic Transformations"
   ]
  },
  {
   "cell_type": "markdown",
   "metadata": {},
   "source": [
    "Let us explore how we can take care of basic transformations such as row-level transformations, filtering, aggregations, sorting etc using Data Frame Operations or Functions.\n",
    "\n",
    "* Data Frame Operations – APIs\n",
    "* Problem Statement – Get daily product revenue\n",
    "* Projecting Data\n",
    "* Filtering Data\n",
    "* Joining Data Sets\n",
    "* Grouping Data and Performing aggregations\n",
    "* Sorting Data\n",
    "* Development Life Cycle\n",
    "\n",
    "### Data Frame Operations – APIs\n",
    "\n",
    "Let us recap about Data Frame Operations. It is one of the 2 ways we can process Data Frames.\n",
    "\n",
    "* Selection or Projection – select\n",
    "* Filtering data – filter or where\n",
    "* Joins – join (supports outer join as well)\n",
    "* Aggregations – groupBy and agg with the support of functions such as sum, avg, min, max etc\n",
    "* Sorting – sort or orderBy\n",
    "* Analytics Functions – aggregations, ranking and windowing functions\n",
    "\n",
    "### Problem Statement – Get daily product revenue.\n",
    "\n",
    "Here is the problem statement for which we will be exploring Data Frame APIs to come up with the final solution.\n",
    "\n",
    "* Get daily product revenue\n",
    "* orders – order_id, order_date, order_customer_id, order_status\n",
    "* order_items – order_item_id, order_item_order_id, order_item_product_id, order_item_quantity, order_item_subtotal, order_item_product_price\n",
    "* Data is comma separated\n",
    "* We will fetch data using spark.read.csv\n",
    "* Apply type cast functions to convert fields into their original type where ever is applicable."
   ]
  },
  {
   "cell_type": "code",
   "execution_count": 1,
   "metadata": {},
   "outputs": [
    {
     "name": "stdout",
     "output_type": "stream",
     "text": [
      "root\n",
      " |-- order_id: integer (nullable = true)\n",
      " |-- order_date: string (nullable = true)\n",
      " |-- order_customer_id: integer (nullable = true)\n",
      " |-- order_status: string (nullable = true)\n",
      "\n",
      "+--------+--------------------+-----------------+---------------+\n",
      "|order_id|          order_date|order_customer_id|   order_status|\n",
      "+--------+--------------------+-----------------+---------------+\n",
      "|       1|2013-07-25 00:00:...|            11599|         CLOSED|\n",
      "|       2|2013-07-25 00:00:...|              256|PENDING_PAYMENT|\n",
      "|       3|2013-07-25 00:00:...|            12111|       COMPLETE|\n",
      "|       4|2013-07-25 00:00:...|             8827|         CLOSED|\n",
      "|       5|2013-07-25 00:00:...|            11318|       COMPLETE|\n",
      "|       6|2013-07-25 00:00:...|             7130|       COMPLETE|\n",
      "|       7|2013-07-25 00:00:...|             4530|       COMPLETE|\n",
      "|       8|2013-07-25 00:00:...|             2911|     PROCESSING|\n",
      "|       9|2013-07-25 00:00:...|             5657|PENDING_PAYMENT|\n",
      "|      10|2013-07-25 00:00:...|             5648|PENDING_PAYMENT|\n",
      "|      11|2013-07-25 00:00:...|              918| PAYMENT_REVIEW|\n",
      "|      12|2013-07-25 00:00:...|             1837|         CLOSED|\n",
      "|      13|2013-07-25 00:00:...|             9149|PENDING_PAYMENT|\n",
      "|      14|2013-07-25 00:00:...|             9842|     PROCESSING|\n",
      "|      15|2013-07-25 00:00:...|             2568|       COMPLETE|\n",
      "|      16|2013-07-25 00:00:...|             7276|PENDING_PAYMENT|\n",
      "|      17|2013-07-25 00:00:...|             2667|       COMPLETE|\n",
      "|      18|2013-07-25 00:00:...|             1205|         CLOSED|\n",
      "|      19|2013-07-25 00:00:...|             9488|PENDING_PAYMENT|\n",
      "|      20|2013-07-25 00:00:...|             9198|     PROCESSING|\n",
      "+--------+--------------------+-----------------+---------------+\n",
      "only showing top 20 rows\n",
      "\n"
     ]
    },
    {
     "data": {
      "text/plain": [
       "spark = org.apache.spark.sql.SparkSession@65da7d81\n",
       "ordersCSV = [order_id: string, order_date: string ... 2 more fields]\n",
       "orderItemsCSV = [order_item_id: string, order_item_order_id: string ... 4 more fields]\n",
       "orders = [order_id: int, order_date: string ... 2 more fields]\n"
      ]
     },
     "metadata": {},
     "output_type": "display_data",
     "source": "user"
    },
    {
     "data": {
      "text/plain": [
       "[order_id: int, order_date: string ... 2 more fields]"
      ]
     },
     "execution_count": 1,
     "metadata": {},
     "output_type": "execute_result"
    }
   ],
   "source": [
    "// spark-shell-dataframe-csv-example.scala\n",
    "\n",
    "// In case you are using IntelliJ or sbt console, first you need to create object of type SparkSession\n",
    "import org.apache.spark.sql.SparkSession\n",
    "val spark = SparkSession.\n",
    "  builder.\n",
    "  master(\"local\").\n",
    "  appName(\"CSV Example\").\n",
    "  getOrCreate()\n",
    "\n",
    "val ordersCSV = spark.read.\n",
    "  csv(\"/public/retail_db/orders\").\n",
    "  toDF(\"order_id\", \"order_date\", \"order_customer_id\", \"order_status\")\n",
    "\n",
    "val orderItemsCSV = spark.read.\n",
    "  csv(\"/public/retail_db/order_items\").\n",
    "  toDF(\"order_item_id\", \"order_item_order_id\", \"order_item_product_id\", \n",
    "       \"order_item_quantity\", \"order_item_subtotal\", \"order_item_product_price\")\n",
    "\n",
    "import org.apache.spark.sql.functions._\n",
    "\n",
    "import spark.implicits._\n",
    "\n",
    "val orders = ordersCSV.\n",
    "  withColumn(\"order_id\", $\"order_id\".cast(\"int\")).\n",
    "  withColumn(\"order_customer_id\", $\"order_customer_id\".cast(\"int\"))\n",
    "\n",
    "orders.printSchema()\n",
    "orders.show()"
   ]
  },
  {
   "cell_type": "code",
   "execution_count": 3,
   "metadata": {},
   "outputs": [
    {
     "name": "stdout",
     "output_type": "stream",
     "text": [
      "root\n",
      " |-- order_item_id: integer (nullable = true)\n",
      " |-- order_item_order_id: integer (nullable = true)\n",
      " |-- order_item_product_id: integer (nullable = true)\n",
      " |-- order_item_quantity: integer (nullable = true)\n",
      " |-- order_item_subtotal: float (nullable = true)\n",
      " |-- order_item_product_price: float (nullable = true)\n",
      "\n",
      "+-------------+-------------------+---------------------+-------------------+-------------------+------------------------+\n",
      "|order_item_id|order_item_order_id|order_item_product_id|order_item_quantity|order_item_subtotal|order_item_product_price|\n",
      "+-------------+-------------------+---------------------+-------------------+-------------------+------------------------+\n",
      "|            1|                  1|                  957|                  1|             299.98|                  299.98|\n",
      "|            2|                  2|                 1073|                  1|             199.99|                  199.99|\n",
      "|            3|                  2|                  502|                  5|              250.0|                    50.0|\n",
      "|            4|                  2|                  403|                  1|             129.99|                  129.99|\n",
      "|            5|                  4|                  897|                  2|              49.98|                   24.99|\n",
      "|            6|                  4|                  365|                  5|             299.95|                   59.99|\n",
      "|            7|                  4|                  502|                  3|              150.0|                    50.0|\n",
      "|            8|                  4|                 1014|                  4|             199.92|                   49.98|\n",
      "|            9|                  5|                  957|                  1|             299.98|                  299.98|\n",
      "|           10|                  5|                  365|                  5|             299.95|                   59.99|\n",
      "|           11|                  5|                 1014|                  2|              99.96|                   49.98|\n",
      "|           12|                  5|                  957|                  1|             299.98|                  299.98|\n",
      "|           13|                  5|                  403|                  1|             129.99|                  129.99|\n",
      "|           14|                  7|                 1073|                  1|             199.99|                  199.99|\n",
      "|           15|                  7|                  957|                  1|             299.98|                  299.98|\n",
      "|           16|                  7|                  926|                  5|              79.95|                   15.99|\n",
      "|           17|                  8|                  365|                  3|             179.97|                   59.99|\n",
      "|           18|                  8|                  365|                  5|             299.95|                   59.99|\n",
      "|           19|                  8|                 1014|                  4|             199.92|                   49.98|\n",
      "|           20|                  8|                  502|                  1|               50.0|                    50.0|\n",
      "+-------------+-------------------+---------------------+-------------------+-------------------+------------------------+\n",
      "only showing top 20 rows\n",
      "\n"
     ]
    },
    {
     "data": {
      "text/plain": [
       "orderItems = [order_item_id: int, order_item_order_id: int ... 4 more fields]\n"
      ]
     },
     "metadata": {},
     "output_type": "display_data",
     "source": "user"
    },
    {
     "data": {
      "text/plain": [
       "[order_item_id: int, order_item_order_id: int ... 4 more fields]"
      ]
     },
     "execution_count": 3,
     "metadata": {},
     "output_type": "execute_result"
    }
   ],
   "source": [
    "val orderItems = orderItemsCSV.\n",
    "    withColumn(\"order_item_id\", $\"order_item_id\".cast(\"int\")).\n",
    "    withColumn(\"order_item_order_id\", $\"order_item_order_id\".cast(\"int\")).\n",
    "    withColumn(\"order_item_product_id\", $\"order_item_product_id\".cast(\"int\")).\n",
    "    withColumn(\"order_item_quantity\", $\"order_item_quantity\".cast(\"int\")).\n",
    "    withColumn(\"order_item_subtotal\", $\"order_item_subtotal\".cast(\"float\")).\n",
    "    withColumn(\"order_item_product_price\", $\"order_item_product_price\".cast(\"float\"))\n",
    "\n",
    "orderItems.printSchema()\n",
    "orderItems.show()"
   ]
  },
  {
   "cell_type": "markdown",
   "metadata": {},
   "source": [
    "### Projecting Data\n",
    "\n",
    "Now let us see how we can project data the way we want using select, selectExpr or withColumn.\n",
    "\n",
    "* We have already seen how to read data from CSV and create Data Frames for both orders and order_items.\n",
    "* We will be able to access the elements in Data Frame by passing column name as string type or col type.\n",
    "* We can use select and fetch data from the fields we are looking for.\n",
    "* We can represent data using col or `$` or directly “column name” in select clause – e.g.: <mark>orders.select($\"order_id\", col(\"order_date\"))</mark> and <mark>orders.select(\"order_id\", \"order_date\")</mark>\n",
    "* We typically use col or `$` if we have to manipulate the column data.\n",
    "* We can apply necessary functions to manipulate data while it is being projected – <mark> orders.select(substring(`$`\"order_date\", 1, 7)).show()</mark>\n",
    "* We can give aliases to the derived fields using alias function – <mark>orders.select(substring(`$`\"order_date\", 1, 7).alias(\"order_month\")).show()</mark>\n",
    "* If we want to add new field derived from existing fields we can use withColumn function. The first argument is an alias and 2nd argument is data processing logic – <mark> orders.withColumn(\"order_month\", substring(`$`\"order_date\", 1, 7).alias(\"order_month\")).show()</mark>"
   ]
  },
  {
   "cell_type": "code",
   "execution_count": 4,
   "metadata": {},
   "outputs": [
    {
     "name": "stdout",
     "output_type": "stream",
     "text": [
      "+--------+--------------------+\n",
      "|order_id|          order_date|\n",
      "+--------+--------------------+\n",
      "|       1|2013-07-25 00:00:...|\n",
      "|       2|2013-07-25 00:00:...|\n",
      "|       3|2013-07-25 00:00:...|\n",
      "|       4|2013-07-25 00:00:...|\n",
      "|       5|2013-07-25 00:00:...|\n",
      "|       6|2013-07-25 00:00:...|\n",
      "|       7|2013-07-25 00:00:...|\n",
      "|       8|2013-07-25 00:00:...|\n",
      "|       9|2013-07-25 00:00:...|\n",
      "|      10|2013-07-25 00:00:...|\n",
      "|      11|2013-07-25 00:00:...|\n",
      "|      12|2013-07-25 00:00:...|\n",
      "|      13|2013-07-25 00:00:...|\n",
      "|      14|2013-07-25 00:00:...|\n",
      "|      15|2013-07-25 00:00:...|\n",
      "|      16|2013-07-25 00:00:...|\n",
      "|      17|2013-07-25 00:00:...|\n",
      "|      18|2013-07-25 00:00:...|\n",
      "|      19|2013-07-25 00:00:...|\n",
      "|      20|2013-07-25 00:00:...|\n",
      "+--------+--------------------+\n",
      "only showing top 20 rows\n",
      "\n",
      "+--------+--------------------+\n",
      "|order_id|          order_date|\n",
      "+--------+--------------------+\n",
      "|       1|2013-07-25 00:00:...|\n",
      "|       2|2013-07-25 00:00:...|\n",
      "|       3|2013-07-25 00:00:...|\n",
      "|       4|2013-07-25 00:00:...|\n",
      "|       5|2013-07-25 00:00:...|\n",
      "|       6|2013-07-25 00:00:...|\n",
      "|       7|2013-07-25 00:00:...|\n",
      "|       8|2013-07-25 00:00:...|\n",
      "|       9|2013-07-25 00:00:...|\n",
      "|      10|2013-07-25 00:00:...|\n",
      "|      11|2013-07-25 00:00:...|\n",
      "|      12|2013-07-25 00:00:...|\n",
      "|      13|2013-07-25 00:00:...|\n",
      "|      14|2013-07-25 00:00:...|\n",
      "|      15|2013-07-25 00:00:...|\n",
      "|      16|2013-07-25 00:00:...|\n",
      "|      17|2013-07-25 00:00:...|\n",
      "|      18|2013-07-25 00:00:...|\n",
      "|      19|2013-07-25 00:00:...|\n",
      "|      20|2013-07-25 00:00:...|\n",
      "+--------+--------------------+\n",
      "only showing top 20 rows\n",
      "\n"
     ]
    }
   ],
   "source": [
    "//SELECT order_id, order_date FROM orders;\n",
    "orders.select($\"order_id\", col(\"order_date\")).show"
   ]
  },
  {
   "cell_type": "code",
   "execution_count": 5,
   "metadata": {},
   "outputs": [
    {
     "name": "stdout",
     "output_type": "stream",
     "text": [
      "+--------+--------------------+\n",
      "|order_id|          order_date|\n",
      "+--------+--------------------+\n",
      "|       1|2013-07-25 00:00:...|\n",
      "|       2|2013-07-25 00:00:...|\n",
      "|       3|2013-07-25 00:00:...|\n",
      "|       4|2013-07-25 00:00:...|\n",
      "|       5|2013-07-25 00:00:...|\n",
      "|       6|2013-07-25 00:00:...|\n",
      "|       7|2013-07-25 00:00:...|\n",
      "|       8|2013-07-25 00:00:...|\n",
      "|       9|2013-07-25 00:00:...|\n",
      "|      10|2013-07-25 00:00:...|\n",
      "|      11|2013-07-25 00:00:...|\n",
      "|      12|2013-07-25 00:00:...|\n",
      "|      13|2013-07-25 00:00:...|\n",
      "|      14|2013-07-25 00:00:...|\n",
      "|      15|2013-07-25 00:00:...|\n",
      "|      16|2013-07-25 00:00:...|\n",
      "|      17|2013-07-25 00:00:...|\n",
      "|      18|2013-07-25 00:00:...|\n",
      "|      19|2013-07-25 00:00:...|\n",
      "|      20|2013-07-25 00:00:...|\n",
      "+--------+--------------------+\n",
      "only showing top 20 rows\n",
      "\n"
     ]
    }
   ],
   "source": [
    "orders.select(\"order_id\", \"order_date\").show"
   ]
  },
  {
   "cell_type": "code",
   "execution_count": 6,
   "metadata": {},
   "outputs": [
    {
     "name": "stdout",
     "output_type": "stream",
     "text": [
      "+---------------------------+\n",
      "|substring(order_date, 1, 7)|\n",
      "+---------------------------+\n",
      "|                    2013-07|\n",
      "|                    2013-07|\n",
      "|                    2013-07|\n",
      "|                    2013-07|\n",
      "|                    2013-07|\n",
      "|                    2013-07|\n",
      "|                    2013-07|\n",
      "|                    2013-07|\n",
      "|                    2013-07|\n",
      "|                    2013-07|\n",
      "|                    2013-07|\n",
      "|                    2013-07|\n",
      "|                    2013-07|\n",
      "|                    2013-07|\n",
      "|                    2013-07|\n",
      "|                    2013-07|\n",
      "|                    2013-07|\n",
      "|                    2013-07|\n",
      "|                    2013-07|\n",
      "|                    2013-07|\n",
      "+---------------------------+\n",
      "only showing top 20 rows\n",
      "\n"
     ]
    }
   ],
   "source": [
    "//SELECT substr(order_date, 1, 7) FROM orders;\n",
    "orders.select(substring($\"order_date\", 1, 7)).show"
   ]
  },
  {
   "cell_type": "code",
   "execution_count": 7,
   "metadata": {},
   "outputs": [
    {
     "name": "stdout",
     "output_type": "stream",
     "text": [
      "+-----------+\n",
      "|order_month|\n",
      "+-----------+\n",
      "|    2013-07|\n",
      "|    2013-07|\n",
      "|    2013-07|\n",
      "|    2013-07|\n",
      "|    2013-07|\n",
      "|    2013-07|\n",
      "|    2013-07|\n",
      "|    2013-07|\n",
      "|    2013-07|\n",
      "|    2013-07|\n",
      "|    2013-07|\n",
      "|    2013-07|\n",
      "|    2013-07|\n",
      "|    2013-07|\n",
      "|    2013-07|\n",
      "|    2013-07|\n",
      "|    2013-07|\n",
      "|    2013-07|\n",
      "|    2013-07|\n",
      "|    2013-07|\n",
      "+-----------+\n",
      "only showing top 20 rows\n",
      "\n"
     ]
    }
   ],
   "source": [
    "//SELECT substr(order_date, 1, 7) AS order_month FROM orders;\n",
    "orders.select(substring($\"order_date\", 1, 7).alias(\"order_month\")).show"
   ]
  },
  {
   "cell_type": "code",
   "execution_count": 8,
   "metadata": {},
   "outputs": [
    {
     "name": "stdout",
     "output_type": "stream",
     "text": [
      "+--------+--------------------+-----------------+---------------+-----------+\n",
      "|order_id|          order_date|order_customer_id|   order_status|order_month|\n",
      "+--------+--------------------+-----------------+---------------+-----------+\n",
      "|       1|2013-07-25 00:00:...|            11599|         CLOSED|    2013-07|\n",
      "|       2|2013-07-25 00:00:...|              256|PENDING_PAYMENT|    2013-07|\n",
      "|       3|2013-07-25 00:00:...|            12111|       COMPLETE|    2013-07|\n",
      "|       4|2013-07-25 00:00:...|             8827|         CLOSED|    2013-07|\n",
      "|       5|2013-07-25 00:00:...|            11318|       COMPLETE|    2013-07|\n",
      "|       6|2013-07-25 00:00:...|             7130|       COMPLETE|    2013-07|\n",
      "|       7|2013-07-25 00:00:...|             4530|       COMPLETE|    2013-07|\n",
      "|       8|2013-07-25 00:00:...|             2911|     PROCESSING|    2013-07|\n",
      "|       9|2013-07-25 00:00:...|             5657|PENDING_PAYMENT|    2013-07|\n",
      "|      10|2013-07-25 00:00:...|             5648|PENDING_PAYMENT|    2013-07|\n",
      "|      11|2013-07-25 00:00:...|              918| PAYMENT_REVIEW|    2013-07|\n",
      "|      12|2013-07-25 00:00:...|             1837|         CLOSED|    2013-07|\n",
      "|      13|2013-07-25 00:00:...|             9149|PENDING_PAYMENT|    2013-07|\n",
      "|      14|2013-07-25 00:00:...|             9842|     PROCESSING|    2013-07|\n",
      "|      15|2013-07-25 00:00:...|             2568|       COMPLETE|    2013-07|\n",
      "|      16|2013-07-25 00:00:...|             7276|PENDING_PAYMENT|    2013-07|\n",
      "|      17|2013-07-25 00:00:...|             2667|       COMPLETE|    2013-07|\n",
      "|      18|2013-07-25 00:00:...|             1205|         CLOSED|    2013-07|\n",
      "|      19|2013-07-25 00:00:...|             9488|PENDING_PAYMENT|    2013-07|\n",
      "|      20|2013-07-25 00:00:...|             9198|     PROCESSING|    2013-07|\n",
      "+--------+--------------------+-----------------+---------------+-----------+\n",
      "only showing top 20 rows\n",
      "\n"
     ]
    }
   ],
   "source": [
    "//SELECT o.*, substr(order_date, 1, 7) AS order_month FROM orders o;\n",
    "orders.withColumn(\"order_month\", substring($\"order_date\", 1, 7).alias(\"order_month\")).show"
   ]
  },
  {
   "cell_type": "markdown",
   "metadata": {},
   "source": [
    "### Filtering Data\n",
    "\n",
    "Data Frame have 2 APIs to filter the data, where and filter. They are just synonyms and you can use either of them for filtering.\n",
    "\n",
    "* You can use filter or where in 2 ways\n",
    "* One by using class.attributeName and comparing with values – e. g.: orders.where($\"order_status\" === \"COMPLETE\").show()\n",
    "* Other by passing conditions as literals – e. g.: orders.where(\"order_status = 'COMPLETE'\").show()\n",
    "* Make sure both orders and orderItems data frames are created\n",
    "* When we use col or $ approach, we can get list of functions that are applicable on the column by saying “.”\n",
    "* Let us see few more examples\n",
    "    * Get orders which are either COMPLETE or CLOSED\n",
    "    * Get orders which are either COMPLETE or CLOSED and placed in month of 2013 August\n",
    "    * Get order items where order_item_subtotal is not equal to product of order_item_quantity and order_item_product_price\n",
    "    * Get all the orders which are placed on first of every month"
   ]
  },
  {
   "cell_type": "code",
   "execution_count": 10,
   "metadata": {},
   "outputs": [
    {
     "name": "stdout",
     "output_type": "stream",
     "text": [
      "+--------+--------------------+-----------------+------------+\n",
      "|order_id|          order_date|order_customer_id|order_status|\n",
      "+--------+--------------------+-----------------+------------+\n",
      "|       1|2013-07-25 00:00:...|            11599|      CLOSED|\n",
      "|       3|2013-07-25 00:00:...|            12111|    COMPLETE|\n",
      "|       4|2013-07-25 00:00:...|             8827|      CLOSED|\n",
      "|       5|2013-07-25 00:00:...|            11318|    COMPLETE|\n",
      "|       6|2013-07-25 00:00:...|             7130|    COMPLETE|\n",
      "|       7|2013-07-25 00:00:...|             4530|    COMPLETE|\n",
      "|      12|2013-07-25 00:00:...|             1837|      CLOSED|\n",
      "|      15|2013-07-25 00:00:...|             2568|    COMPLETE|\n",
      "|      17|2013-07-25 00:00:...|             2667|    COMPLETE|\n",
      "|      18|2013-07-25 00:00:...|             1205|      CLOSED|\n",
      "|      22|2013-07-25 00:00:...|              333|    COMPLETE|\n",
      "|      24|2013-07-25 00:00:...|            11441|      CLOSED|\n",
      "|      25|2013-07-25 00:00:...|             9503|      CLOSED|\n",
      "|      26|2013-07-25 00:00:...|             7562|    COMPLETE|\n",
      "|      28|2013-07-25 00:00:...|              656|    COMPLETE|\n",
      "|      32|2013-07-25 00:00:...|             3960|    COMPLETE|\n",
      "|      35|2013-07-25 00:00:...|             4840|    COMPLETE|\n",
      "|      37|2013-07-25 00:00:...|             5863|      CLOSED|\n",
      "|      45|2013-07-25 00:00:...|             2636|    COMPLETE|\n",
      "|      51|2013-07-25 00:00:...|            12271|      CLOSED|\n",
      "+--------+--------------------+-----------------+------------+\n",
      "only showing top 20 rows\n",
      "\n"
     ]
    }
   ],
   "source": [
    "// Get orders which are either COMPLETE or CLOSED\n",
    "// SELECT * FROM orders WHERE order_status IN ('COMPLETE', 'CLOSED');\n",
    "orders.\n",
    "  where(\"order_status = 'COMPLETE' or order_status = 'CLOSED'\").\n",
    "  show"
   ]
  },
  {
   "cell_type": "code",
   "execution_count": 11,
   "metadata": {},
   "outputs": [
    {
     "name": "stdout",
     "output_type": "stream",
     "text": [
      "+--------+--------------------+-----------------+------------+\n",
      "|order_id|          order_date|order_customer_id|order_status|\n",
      "+--------+--------------------+-----------------+------------+\n",
      "|       1|2013-07-25 00:00:...|            11599|      CLOSED|\n",
      "|       3|2013-07-25 00:00:...|            12111|    COMPLETE|\n",
      "|       4|2013-07-25 00:00:...|             8827|      CLOSED|\n",
      "|       5|2013-07-25 00:00:...|            11318|    COMPLETE|\n",
      "|       6|2013-07-25 00:00:...|             7130|    COMPLETE|\n",
      "|       7|2013-07-25 00:00:...|             4530|    COMPLETE|\n",
      "|      12|2013-07-25 00:00:...|             1837|      CLOSED|\n",
      "|      15|2013-07-25 00:00:...|             2568|    COMPLETE|\n",
      "|      17|2013-07-25 00:00:...|             2667|    COMPLETE|\n",
      "|      18|2013-07-25 00:00:...|             1205|      CLOSED|\n",
      "|      22|2013-07-25 00:00:...|              333|    COMPLETE|\n",
      "|      24|2013-07-25 00:00:...|            11441|      CLOSED|\n",
      "|      25|2013-07-25 00:00:...|             9503|      CLOSED|\n",
      "|      26|2013-07-25 00:00:...|             7562|    COMPLETE|\n",
      "|      28|2013-07-25 00:00:...|              656|    COMPLETE|\n",
      "|      32|2013-07-25 00:00:...|             3960|    COMPLETE|\n",
      "|      35|2013-07-25 00:00:...|             4840|    COMPLETE|\n",
      "|      37|2013-07-25 00:00:...|             5863|      CLOSED|\n",
      "|      45|2013-07-25 00:00:...|             2636|    COMPLETE|\n",
      "|      51|2013-07-25 00:00:...|            12271|      CLOSED|\n",
      "+--------+--------------------+-----------------+------------+\n",
      "only showing top 20 rows\n",
      "\n"
     ]
    }
   ],
   "source": [
    "orders.\n",
    "  where(\"order_status in ('COMPLETE', 'CLOSED')\").\n",
    "  show"
   ]
  },
  {
   "cell_type": "code",
   "execution_count": 12,
   "metadata": {},
   "outputs": [
    {
     "name": "stdout",
     "output_type": "stream",
     "text": [
      "+--------+--------------------+-----------------+------------+\n",
      "|order_id|          order_date|order_customer_id|order_status|\n",
      "+--------+--------------------+-----------------+------------+\n",
      "|       1|2013-07-25 00:00:...|            11599|      CLOSED|\n",
      "|       3|2013-07-25 00:00:...|            12111|    COMPLETE|\n",
      "|       4|2013-07-25 00:00:...|             8827|      CLOSED|\n",
      "|       5|2013-07-25 00:00:...|            11318|    COMPLETE|\n",
      "|       6|2013-07-25 00:00:...|             7130|    COMPLETE|\n",
      "|       7|2013-07-25 00:00:...|             4530|    COMPLETE|\n",
      "|      12|2013-07-25 00:00:...|             1837|      CLOSED|\n",
      "|      15|2013-07-25 00:00:...|             2568|    COMPLETE|\n",
      "|      17|2013-07-25 00:00:...|             2667|    COMPLETE|\n",
      "|      18|2013-07-25 00:00:...|             1205|      CLOSED|\n",
      "|      22|2013-07-25 00:00:...|              333|    COMPLETE|\n",
      "|      24|2013-07-25 00:00:...|            11441|      CLOSED|\n",
      "|      25|2013-07-25 00:00:...|             9503|      CLOSED|\n",
      "|      26|2013-07-25 00:00:...|             7562|    COMPLETE|\n",
      "|      28|2013-07-25 00:00:...|              656|    COMPLETE|\n",
      "|      32|2013-07-25 00:00:...|             3960|    COMPLETE|\n",
      "|      35|2013-07-25 00:00:...|             4840|    COMPLETE|\n",
      "|      37|2013-07-25 00:00:...|             5863|      CLOSED|\n",
      "|      45|2013-07-25 00:00:...|             2636|    COMPLETE|\n",
      "|      51|2013-07-25 00:00:...|            12271|      CLOSED|\n",
      "+--------+--------------------+-----------------+------------+\n",
      "only showing top 20 rows\n",
      "\n"
     ]
    }
   ],
   "source": [
    "orders.\n",
    "  where(($\"order_status\" === \"COMPLETE\") or ($\"order_status\" === \"CLOSED\")).\n",
    "  show"
   ]
  },
  {
   "cell_type": "code",
   "execution_count": 13,
   "metadata": {},
   "outputs": [
    {
     "name": "stdout",
     "output_type": "stream",
     "text": [
      "+--------+--------------------+-----------------+------------+\n",
      "|order_id|          order_date|order_customer_id|order_status|\n",
      "+--------+--------------------+-----------------+------------+\n",
      "|       1|2013-07-25 00:00:...|            11599|      CLOSED|\n",
      "|       3|2013-07-25 00:00:...|            12111|    COMPLETE|\n",
      "|       4|2013-07-25 00:00:...|             8827|      CLOSED|\n",
      "|       5|2013-07-25 00:00:...|            11318|    COMPLETE|\n",
      "|       6|2013-07-25 00:00:...|             7130|    COMPLETE|\n",
      "|       7|2013-07-25 00:00:...|             4530|    COMPLETE|\n",
      "|      12|2013-07-25 00:00:...|             1837|      CLOSED|\n",
      "|      15|2013-07-25 00:00:...|             2568|    COMPLETE|\n",
      "|      17|2013-07-25 00:00:...|             2667|    COMPLETE|\n",
      "|      18|2013-07-25 00:00:...|             1205|      CLOSED|\n",
      "|      22|2013-07-25 00:00:...|              333|    COMPLETE|\n",
      "|      24|2013-07-25 00:00:...|            11441|      CLOSED|\n",
      "|      25|2013-07-25 00:00:...|             9503|      CLOSED|\n",
      "|      26|2013-07-25 00:00:...|             7562|    COMPLETE|\n",
      "|      28|2013-07-25 00:00:...|              656|    COMPLETE|\n",
      "|      32|2013-07-25 00:00:...|             3960|    COMPLETE|\n",
      "|      35|2013-07-25 00:00:...|             4840|    COMPLETE|\n",
      "|      37|2013-07-25 00:00:...|             5863|      CLOSED|\n",
      "|      45|2013-07-25 00:00:...|             2636|    COMPLETE|\n",
      "|      51|2013-07-25 00:00:...|            12271|      CLOSED|\n",
      "+--------+--------------------+-----------------+------------+\n",
      "only showing top 20 rows\n",
      "\n"
     ]
    }
   ],
   "source": [
    "orders.\n",
    "  where($\"order_status\".isin(\"COMPLETE\", \"CLOSED\")).\n",
    "  show"
   ]
  },
  {
   "cell_type": "code",
   "execution_count": 14,
   "metadata": {},
   "outputs": [
    {
     "name": "stdout",
     "output_type": "stream",
     "text": [
      "+--------+--------------------+-----------------+------------+\n",
      "|order_id|          order_date|order_customer_id|order_status|\n",
      "+--------+--------------------+-----------------+------------+\n",
      "|    1297|2013-08-01 00:00:...|            11607|    COMPLETE|\n",
      "|    1298|2013-08-01 00:00:...|             5105|      CLOSED|\n",
      "|    1299|2013-08-01 00:00:...|             7802|    COMPLETE|\n",
      "|    1302|2013-08-01 00:00:...|             1695|    COMPLETE|\n",
      "|    1304|2013-08-01 00:00:...|             2059|    COMPLETE|\n",
      "|    1305|2013-08-01 00:00:...|             3844|    COMPLETE|\n",
      "|    1307|2013-08-01 00:00:...|             4474|    COMPLETE|\n",
      "|    1309|2013-08-01 00:00:...|             2367|      CLOSED|\n",
      "|    1312|2013-08-01 00:00:...|            12291|    COMPLETE|\n",
      "|    1314|2013-08-01 00:00:...|            10993|    COMPLETE|\n",
      "|    1315|2013-08-01 00:00:...|             5660|    COMPLETE|\n",
      "|    1318|2013-08-01 00:00:...|             4212|    COMPLETE|\n",
      "|    1319|2013-08-01 00:00:...|             3966|    COMPLETE|\n",
      "|    1320|2013-08-01 00:00:...|            12270|    COMPLETE|\n",
      "|    1321|2013-08-01 00:00:...|              800|    COMPLETE|\n",
      "|    1322|2013-08-01 00:00:...|             9264|    COMPLETE|\n",
      "|    1323|2013-08-01 00:00:...|             7422|    COMPLETE|\n",
      "|    1324|2013-08-01 00:00:...|             4600|    COMPLETE|\n",
      "|    1327|2013-08-01 00:00:...|             9526|    COMPLETE|\n",
      "|    1329|2013-08-01 00:00:...|             6070|      CLOSED|\n",
      "+--------+--------------------+-----------------+------------+\n",
      "only showing top 20 rows\n",
      "\n"
     ]
    }
   ],
   "source": [
    "// Get orders which are either COMPLETE or CLOSED and placed in month of 2013 August\n",
    "// SELECT * FROM orders WHERE order_status IN ('COMPLETE', 'CLOSED') AND order_date LIKE '2013-08%';\n",
    "\n",
    "orders.\n",
    "  where(\"order_status in ('COMPLETE', 'CLOSED') and order_date like '2013-08%'\").\n",
    "  show"
   ]
  },
  {
   "cell_type": "code",
   "execution_count": 15,
   "metadata": {},
   "outputs": [
    {
     "name": "stdout",
     "output_type": "stream",
     "text": [
      "+--------+--------------------+-----------------+------------+\n",
      "|order_id|          order_date|order_customer_id|order_status|\n",
      "+--------+--------------------+-----------------+------------+\n",
      "|    1297|2013-08-01 00:00:...|            11607|    COMPLETE|\n",
      "|    1298|2013-08-01 00:00:...|             5105|      CLOSED|\n",
      "|    1299|2013-08-01 00:00:...|             7802|    COMPLETE|\n",
      "|    1302|2013-08-01 00:00:...|             1695|    COMPLETE|\n",
      "|    1304|2013-08-01 00:00:...|             2059|    COMPLETE|\n",
      "|    1305|2013-08-01 00:00:...|             3844|    COMPLETE|\n",
      "|    1307|2013-08-01 00:00:...|             4474|    COMPLETE|\n",
      "|    1309|2013-08-01 00:00:...|             2367|      CLOSED|\n",
      "|    1312|2013-08-01 00:00:...|            12291|    COMPLETE|\n",
      "|    1314|2013-08-01 00:00:...|            10993|    COMPLETE|\n",
      "|    1315|2013-08-01 00:00:...|             5660|    COMPLETE|\n",
      "|    1318|2013-08-01 00:00:...|             4212|    COMPLETE|\n",
      "|    1319|2013-08-01 00:00:...|             3966|    COMPLETE|\n",
      "|    1320|2013-08-01 00:00:...|            12270|    COMPLETE|\n",
      "|    1321|2013-08-01 00:00:...|              800|    COMPLETE|\n",
      "|    1322|2013-08-01 00:00:...|             9264|    COMPLETE|\n",
      "|    1323|2013-08-01 00:00:...|             7422|    COMPLETE|\n",
      "|    1324|2013-08-01 00:00:...|             4600|    COMPLETE|\n",
      "|    1327|2013-08-01 00:00:...|             9526|    COMPLETE|\n",
      "|    1329|2013-08-01 00:00:...|             6070|      CLOSED|\n",
      "+--------+--------------------+-----------------+------------+\n",
      "only showing top 20 rows\n",
      "\n"
     ]
    }
   ],
   "source": [
    "orders.\n",
    "  where($\"order_status\".isin(\"COMPLETE\", \"CLOSED\").and($\"order_date\".like(\"2013-08%\"))).\n",
    "  show"
   ]
  },
  {
   "cell_type": "code",
   "execution_count": 16,
   "metadata": {},
   "outputs": [
    {
     "name": "stdout",
     "output_type": "stream",
     "text": [
      "+--------+--------------------+-----------------+------------+\n",
      "|order_id|          order_date|order_customer_id|order_status|\n",
      "+--------+--------------------+-----------------+------------+\n",
      "|    1297|2013-08-01 00:00:...|            11607|    COMPLETE|\n",
      "|    1298|2013-08-01 00:00:...|             5105|      CLOSED|\n",
      "|    1299|2013-08-01 00:00:...|             7802|    COMPLETE|\n",
      "|    1302|2013-08-01 00:00:...|             1695|    COMPLETE|\n",
      "|    1304|2013-08-01 00:00:...|             2059|    COMPLETE|\n",
      "|    1305|2013-08-01 00:00:...|             3844|    COMPLETE|\n",
      "|    1307|2013-08-01 00:00:...|             4474|    COMPLETE|\n",
      "|    1309|2013-08-01 00:00:...|             2367|      CLOSED|\n",
      "|    1312|2013-08-01 00:00:...|            12291|    COMPLETE|\n",
      "|    1314|2013-08-01 00:00:...|            10993|    COMPLETE|\n",
      "|    1315|2013-08-01 00:00:...|             5660|    COMPLETE|\n",
      "|    1318|2013-08-01 00:00:...|             4212|    COMPLETE|\n",
      "|    1319|2013-08-01 00:00:...|             3966|    COMPLETE|\n",
      "|    1320|2013-08-01 00:00:...|            12270|    COMPLETE|\n",
      "|    1321|2013-08-01 00:00:...|              800|    COMPLETE|\n",
      "|    1322|2013-08-01 00:00:...|             9264|    COMPLETE|\n",
      "|    1323|2013-08-01 00:00:...|             7422|    COMPLETE|\n",
      "|    1324|2013-08-01 00:00:...|             4600|    COMPLETE|\n",
      "|    1327|2013-08-01 00:00:...|             9526|    COMPLETE|\n",
      "|    1329|2013-08-01 00:00:...|             6070|      CLOSED|\n",
      "+--------+--------------------+-----------------+------------+\n",
      "only showing top 20 rows\n",
      "\n"
     ]
    }
   ],
   "source": [
    "// We can also skip . while invoking functions like isin, and as well as like\n",
    "orders.\n",
    "  where($\"order_status\" isin (\"COMPLETE\", \"CLOSED\") and ($\"order_date\" like(\"2013-08%\"))).\n",
    "  show"
   ]
  },
  {
   "cell_type": "code",
   "execution_count": 17,
   "metadata": {},
   "outputs": [
    {
     "name": "stdout",
     "output_type": "stream",
     "text": [
      "+-------------+-------------------+---------------------+-------------------+-------------------+------------------------+\n",
      "|order_item_id|order_item_order_id|order_item_product_id|order_item_quantity|order_item_subtotal|order_item_product_price|\n",
      "+-------------+-------------------+---------------------+-------------------+-------------------+------------------------+\n",
      "+-------------+-------------------+---------------------+-------------------+-------------------+------------------------+\n",
      "\n"
     ]
    }
   ],
   "source": [
    "// Get order items where order_item_subtotal is not equal to \n",
    "// product of order_item_quantity and order_item_product_price\n",
    "\n",
    "// SELECT * FROM order_items WHERE order_item_subtotal != round(order_item_quantity * order_item_product_price, 2);\n",
    "orderItems.\n",
    "  where(\"order_item_subtotal != round(order_item_quantity * order_item_product_price, 2)\").\n",
    "  show"
   ]
  },
  {
   "cell_type": "code",
   "execution_count": 18,
   "metadata": {},
   "outputs": [
    {
     "data": {
      "text/plain": [
       "warning: there was one deprecation warning; re-run with -deprecation for details\n"
      ]
     },
     "metadata": {},
     "output_type": "display_data",
     "source": "user"
    },
    {
     "name": "stdout",
     "output_type": "stream",
     "text": [
      "+-------------+-------------------+---------------------+-------------------+-------------------+------------------------+\n",
      "|order_item_id|order_item_order_id|order_item_product_id|order_item_quantity|order_item_subtotal|order_item_product_price|\n",
      "+-------------+-------------------+---------------------+-------------------+-------------------+------------------------+\n",
      "+-------------+-------------------+---------------------+-------------------+-------------------+------------------------+\n",
      "\n"
     ]
    }
   ],
   "source": [
    "import org.apache.spark.sql.functions.round\n",
    "orderItems.\n",
    "  where($\"order_item_subtotal\" !== \n",
    "        round($\"order_item_quantity\" * $\"order_item_product_price\", 2)\n",
    "       ).\n",
    "  show"
   ]
  },
  {
   "cell_type": "code",
   "execution_count": 19,
   "metadata": {},
   "outputs": [
    {
     "name": "stdout",
     "output_type": "stream",
     "text": [
      "+--------+--------------------+-----------------+---------------+\n",
      "|order_id|          order_date|order_customer_id|   order_status|\n",
      "+--------+--------------------+-----------------+---------------+\n",
      "|    1297|2013-08-01 00:00:...|            11607|       COMPLETE|\n",
      "|    1298|2013-08-01 00:00:...|             5105|         CLOSED|\n",
      "|    1299|2013-08-01 00:00:...|             7802|       COMPLETE|\n",
      "|    1300|2013-08-01 00:00:...|              553|PENDING_PAYMENT|\n",
      "|    1301|2013-08-01 00:00:...|             1604|PENDING_PAYMENT|\n",
      "|    1302|2013-08-01 00:00:...|             1695|       COMPLETE|\n",
      "|    1303|2013-08-01 00:00:...|             7018|     PROCESSING|\n",
      "|    1304|2013-08-01 00:00:...|             2059|       COMPLETE|\n",
      "|    1305|2013-08-01 00:00:...|             3844|       COMPLETE|\n",
      "|    1306|2013-08-01 00:00:...|            11672|PENDING_PAYMENT|\n",
      "|    1307|2013-08-01 00:00:...|             4474|       COMPLETE|\n",
      "|    1308|2013-08-01 00:00:...|            11645|        PENDING|\n",
      "|    1309|2013-08-01 00:00:...|             2367|         CLOSED|\n",
      "|    1310|2013-08-01 00:00:...|             5602|        PENDING|\n",
      "|    1311|2013-08-01 00:00:...|             5396|PENDING_PAYMENT|\n",
      "|    1312|2013-08-01 00:00:...|            12291|       COMPLETE|\n",
      "|    1313|2013-08-01 00:00:...|             3471|       CANCELED|\n",
      "|    1314|2013-08-01 00:00:...|            10993|       COMPLETE|\n",
      "|    1315|2013-08-01 00:00:...|             5660|       COMPLETE|\n",
      "|    1316|2013-08-01 00:00:...|             6376|PENDING_PAYMENT|\n",
      "+--------+--------------------+-----------------+---------------+\n",
      "only showing top 20 rows\n",
      "\n"
     ]
    }
   ],
   "source": [
    "\n",
    "// Get all the orders which are placed on first of every month\n",
    "// SELECT * FROM orders WHERE date_format(order_date, 'dd') = '01';\n",
    "// SELECT * FROM orders WHERE cast(date_format(order_date, 'dd') as int) = 1;\n",
    "\n",
    "orders.\n",
    "  where(\"date_format(order_date, 'dd') = '01'\").\n",
    "  show\n"
   ]
  },
  {
   "cell_type": "code",
   "execution_count": 20,
   "metadata": {},
   "outputs": [
    {
     "name": "stdout",
     "output_type": "stream",
     "text": [
      "+--------+--------------------+-----------------+---------------+\n",
      "|order_id|          order_date|order_customer_id|   order_status|\n",
      "+--------+--------------------+-----------------+---------------+\n",
      "|    1297|2013-08-01 00:00:...|            11607|       COMPLETE|\n",
      "|    1298|2013-08-01 00:00:...|             5105|         CLOSED|\n",
      "|    1299|2013-08-01 00:00:...|             7802|       COMPLETE|\n",
      "|    1300|2013-08-01 00:00:...|              553|PENDING_PAYMENT|\n",
      "|    1301|2013-08-01 00:00:...|             1604|PENDING_PAYMENT|\n",
      "|    1302|2013-08-01 00:00:...|             1695|       COMPLETE|\n",
      "|    1303|2013-08-01 00:00:...|             7018|     PROCESSING|\n",
      "|    1304|2013-08-01 00:00:...|             2059|       COMPLETE|\n",
      "|    1305|2013-08-01 00:00:...|             3844|       COMPLETE|\n",
      "|    1306|2013-08-01 00:00:...|            11672|PENDING_PAYMENT|\n",
      "|    1307|2013-08-01 00:00:...|             4474|       COMPLETE|\n",
      "|    1308|2013-08-01 00:00:...|            11645|        PENDING|\n",
      "|    1309|2013-08-01 00:00:...|             2367|         CLOSED|\n",
      "|    1310|2013-08-01 00:00:...|             5602|        PENDING|\n",
      "|    1311|2013-08-01 00:00:...|             5396|PENDING_PAYMENT|\n",
      "|    1312|2013-08-01 00:00:...|            12291|       COMPLETE|\n",
      "|    1313|2013-08-01 00:00:...|             3471|       CANCELED|\n",
      "|    1314|2013-08-01 00:00:...|            10993|       COMPLETE|\n",
      "|    1315|2013-08-01 00:00:...|             5660|       COMPLETE|\n",
      "|    1316|2013-08-01 00:00:...|             6376|PENDING_PAYMENT|\n",
      "+--------+--------------------+-----------------+---------------+\n",
      "only showing top 20 rows\n",
      "\n"
     ]
    }
   ],
   "source": [
    "orders.\n",
    "  where(\"cast(date_format(order_date, 'dd') as int) = 1\").\n",
    "  show"
   ]
  },
  {
   "cell_type": "code",
   "execution_count": 21,
   "metadata": {},
   "outputs": [
    {
     "name": "stdout",
     "output_type": "stream",
     "text": [
      "+--------+--------------------+-----------------+---------------+\n",
      "|order_id|          order_date|order_customer_id|   order_status|\n",
      "+--------+--------------------+-----------------+---------------+\n",
      "|    1297|2013-08-01 00:00:...|            11607|       COMPLETE|\n",
      "|    1298|2013-08-01 00:00:...|             5105|         CLOSED|\n",
      "|    1299|2013-08-01 00:00:...|             7802|       COMPLETE|\n",
      "|    1300|2013-08-01 00:00:...|              553|PENDING_PAYMENT|\n",
      "|    1301|2013-08-01 00:00:...|             1604|PENDING_PAYMENT|\n",
      "|    1302|2013-08-01 00:00:...|             1695|       COMPLETE|\n",
      "|    1303|2013-08-01 00:00:...|             7018|     PROCESSING|\n",
      "|    1304|2013-08-01 00:00:...|             2059|       COMPLETE|\n",
      "|    1305|2013-08-01 00:00:...|             3844|       COMPLETE|\n",
      "|    1306|2013-08-01 00:00:...|            11672|PENDING_PAYMENT|\n",
      "|    1307|2013-08-01 00:00:...|             4474|       COMPLETE|\n",
      "|    1308|2013-08-01 00:00:...|            11645|        PENDING|\n",
      "|    1309|2013-08-01 00:00:...|             2367|         CLOSED|\n",
      "|    1310|2013-08-01 00:00:...|             5602|        PENDING|\n",
      "|    1311|2013-08-01 00:00:...|             5396|PENDING_PAYMENT|\n",
      "|    1312|2013-08-01 00:00:...|            12291|       COMPLETE|\n",
      "|    1313|2013-08-01 00:00:...|             3471|       CANCELED|\n",
      "|    1314|2013-08-01 00:00:...|            10993|       COMPLETE|\n",
      "|    1315|2013-08-01 00:00:...|             5660|       COMPLETE|\n",
      "|    1316|2013-08-01 00:00:...|             6376|PENDING_PAYMENT|\n",
      "+--------+--------------------+-----------------+---------------+\n",
      "only showing top 20 rows\n",
      "\n"
     ]
    }
   ],
   "source": [
    "import org.apache.spark.sql.functions.date_format\n",
    "orders.\n",
    "  where(date_format($\"order_date\", \"dd\") === \"01\").\n",
    "  show"
   ]
  },
  {
   "cell_type": "code",
   "execution_count": 22,
   "metadata": {},
   "outputs": [
    {
     "name": "stdout",
     "output_type": "stream",
     "text": [
      "+--------+--------------------+-----------------+---------------+\n",
      "|order_id|          order_date|order_customer_id|   order_status|\n",
      "+--------+--------------------+-----------------+---------------+\n",
      "|    1297|2013-08-01 00:00:...|            11607|       COMPLETE|\n",
      "|    1298|2013-08-01 00:00:...|             5105|         CLOSED|\n",
      "|    1299|2013-08-01 00:00:...|             7802|       COMPLETE|\n",
      "|    1300|2013-08-01 00:00:...|              553|PENDING_PAYMENT|\n",
      "|    1301|2013-08-01 00:00:...|             1604|PENDING_PAYMENT|\n",
      "|    1302|2013-08-01 00:00:...|             1695|       COMPLETE|\n",
      "|    1303|2013-08-01 00:00:...|             7018|     PROCESSING|\n",
      "|    1304|2013-08-01 00:00:...|             2059|       COMPLETE|\n",
      "|    1305|2013-08-01 00:00:...|             3844|       COMPLETE|\n",
      "|    1306|2013-08-01 00:00:...|            11672|PENDING_PAYMENT|\n",
      "|    1307|2013-08-01 00:00:...|             4474|       COMPLETE|\n",
      "|    1308|2013-08-01 00:00:...|            11645|        PENDING|\n",
      "|    1309|2013-08-01 00:00:...|             2367|         CLOSED|\n",
      "|    1310|2013-08-01 00:00:...|             5602|        PENDING|\n",
      "|    1311|2013-08-01 00:00:...|             5396|PENDING_PAYMENT|\n",
      "|    1312|2013-08-01 00:00:...|            12291|       COMPLETE|\n",
      "|    1313|2013-08-01 00:00:...|             3471|       CANCELED|\n",
      "|    1314|2013-08-01 00:00:...|            10993|       COMPLETE|\n",
      "|    1315|2013-08-01 00:00:...|             5660|       COMPLETE|\n",
      "|    1316|2013-08-01 00:00:...|             6376|PENDING_PAYMENT|\n",
      "+--------+--------------------+-----------------+---------------+\n",
      "only showing top 20 rows\n",
      "\n"
     ]
    }
   ],
   "source": [
    "orders.\n",
    "  where(date_format($\"order_date\", \"dd\").cast(\"int\") === 1).\n",
    "  show"
   ]
  },
  {
   "cell_type": "markdown",
   "metadata": {},
   "source": [
    "### Joining Data Sets\n",
    "\n",
    "Quite often we need to deal with multiple data sets which are related to each other.\n",
    "\n",
    "* We need to first understand the relationship with respect to data sets\n",
    "* All our data sets have relationships defined between them.\n",
    "    * orders and order_items are transaction tables. orders is parent and order_items is a child. The relationship is established between the two using order_id (in order_items, it is represented as order_item_order_id)\n",
    "    * We also have product catalog normalized into 3 tables – products, categories, and departments (with relationships established in that order)\n",
    "    * We also have a customers table\n",
    "    * There is relationship between customers and orders – customers is parent data set as one customer can place multiple orders.\n",
    "    * There is a relationship between the product catalog and order_items via products – products is parent data set as one product can be ordered as part of multiple order_items.\n",
    "* Determine the type of join – inner or outer (left or right or full)\n",
    "* Data Frames have an API called join to perform joins\n",
    "* We can make the join outer by passing an additional argument\n",
    "* By default joins are broadcast. It is similar to look up in the conventional ETL process. Copy of smaller data set will be broadcasted on to all the nodes rather than joining via shuffling between the stages.\n",
    "* Beyond a pre-configured broadcast size, join will be done using shuffling process.\n",
    "* Let us see few examples\n",
    "    * Get all the order items corresponding to COMPLETE or CLOSED orders\n",
    "    * Get all the orders where there are no corresponding order_items\n",
    "    * Check if there are any order_items where there is no corresponding order in the orders data set"
   ]
  },
  {
   "cell_type": "code",
   "execution_count": 24,
   "metadata": {},
   "outputs": [
    {
     "name": "stdout",
     "output_type": "stream",
     "text": [
      "+--------+--------------------+-----------------+------------+-------------+-------------------+---------------------+-------------------+-------------------+------------------------+\n",
      "|order_id|          order_date|order_customer_id|order_status|order_item_id|order_item_order_id|order_item_product_id|order_item_quantity|order_item_subtotal|order_item_product_price|\n",
      "+--------+--------------------+-----------------+------------+-------------+-------------------+---------------------+-------------------+-------------------+------------------------+\n",
      "|       1|2013-07-25 00:00:...|            11599|      CLOSED|            1|                  1|                  957|                  1|             299.98|                  299.98|\n",
      "|       4|2013-07-25 00:00:...|             8827|      CLOSED|            8|                  4|                 1014|                  4|             199.92|                   49.98|\n",
      "|       4|2013-07-25 00:00:...|             8827|      CLOSED|            7|                  4|                  502|                  3|              150.0|                    50.0|\n",
      "|       4|2013-07-25 00:00:...|             8827|      CLOSED|            6|                  4|                  365|                  5|             299.95|                   59.99|\n",
      "|       4|2013-07-25 00:00:...|             8827|      CLOSED|            5|                  4|                  897|                  2|              49.98|                   24.99|\n",
      "|       5|2013-07-25 00:00:...|            11318|    COMPLETE|           13|                  5|                  403|                  1|             129.99|                  129.99|\n",
      "|       5|2013-07-25 00:00:...|            11318|    COMPLETE|           12|                  5|                  957|                  1|             299.98|                  299.98|\n",
      "|       5|2013-07-25 00:00:...|            11318|    COMPLETE|           11|                  5|                 1014|                  2|              99.96|                   49.98|\n",
      "|       5|2013-07-25 00:00:...|            11318|    COMPLETE|           10|                  5|                  365|                  5|             299.95|                   59.99|\n",
      "|       5|2013-07-25 00:00:...|            11318|    COMPLETE|            9|                  5|                  957|                  1|             299.98|                  299.98|\n",
      "|       7|2013-07-25 00:00:...|             4530|    COMPLETE|           16|                  7|                  926|                  5|              79.95|                   15.99|\n",
      "|       7|2013-07-25 00:00:...|             4530|    COMPLETE|           15|                  7|                  957|                  1|             299.98|                  299.98|\n",
      "|       7|2013-07-25 00:00:...|             4530|    COMPLETE|           14|                  7|                 1073|                  1|             199.99|                  199.99|\n",
      "|      12|2013-07-25 00:00:...|             1837|      CLOSED|           38|                 12|                  502|                  5|              250.0|                    50.0|\n",
      "|      12|2013-07-25 00:00:...|             1837|      CLOSED|           37|                 12|                  191|                  5|             499.95|                   99.99|\n",
      "|      12|2013-07-25 00:00:...|             1837|      CLOSED|           36|                 12|                 1014|                  3|             149.94|                   49.98|\n",
      "|      12|2013-07-25 00:00:...|             1837|      CLOSED|           35|                 12|                  134|                  4|              100.0|                    25.0|\n",
      "|      12|2013-07-25 00:00:...|             1837|      CLOSED|           34|                 12|                  957|                  1|             299.98|                  299.98|\n",
      "|      15|2013-07-25 00:00:...|             2568|    COMPLETE|           47|                 15|                 1004|                  1|             399.98|                  399.98|\n",
      "|      15|2013-07-25 00:00:...|             2568|    COMPLETE|           46|                 15|                  365|                  3|             179.97|                   59.99|\n",
      "+--------+--------------------+-----------------+------------+-------------+-------------------+---------------------+-------------------+-------------------+------------------------+\n",
      "only showing top 20 rows\n",
      "\n"
     ]
    }
   ],
   "source": [
    "// Get all the order items corresponding to COMPLETE or CLOSED orders\n",
    "/* \n",
    "SELECT * \n",
    "FROM orders o JOIN order_items oi\n",
    "  ON o.order_id = oi.order_item_order_id\n",
    "WHERE o.order_status IN ('COMPLETE', 'CLOSED');\n",
    " */\n",
    "\n",
    "orders.where(\"order_status in ('COMPLETE', 'CLOSED')\").\n",
    "  join(orderItems, $\"order_id\" === $\"order_item_order_id\").\n",
    "  show"
   ]
  },
  {
   "cell_type": "code",
   "execution_count": 25,
   "metadata": {},
   "outputs": [
    {
     "name": "stdout",
     "output_type": "stream",
     "text": [
      "+--------+-------------------+\n",
      "|order_id|order_item_subtotal|\n",
      "+--------+-------------------+\n",
      "|       1|             299.98|\n",
      "|       4|              49.98|\n",
      "|       4|             299.95|\n",
      "|       4|              150.0|\n",
      "|       4|             199.92|\n",
      "|       5|             299.98|\n",
      "|       5|             299.95|\n",
      "|       5|              99.96|\n",
      "|       5|             299.98|\n",
      "|       5|             129.99|\n",
      "|       7|             199.99|\n",
      "|       7|             299.98|\n",
      "|       7|              79.95|\n",
      "|      12|             299.98|\n",
      "|      12|              100.0|\n",
      "|      12|             149.94|\n",
      "|      12|             499.95|\n",
      "|      12|              250.0|\n",
      "|      15|               50.0|\n",
      "|      15|             199.99|\n",
      "+--------+-------------------+\n",
      "only showing top 20 rows\n",
      "\n"
     ]
    }
   ],
   "source": [
    "// Approach to get desired columns from joined tables\n",
    "// in case of duplicate column names between tables\n",
    "/* \n",
    "SELECT o.order_id, oi.order_item_subtotal \n",
    "FROM orders o JOIN order_items oi\n",
    "  ON o.order_id = oi.order_item_order_id\n",
    "WHERE o.order_status IN ('COMPLETE', 'CLOSED');\n",
    " */\n",
    "\n",
    "orders.where(\"order_status in ('COMPLETE', 'CLOSED')\").\n",
    "  join(orderItems, $\"order_id\" === $\"order_item_order_id\").\n",
    "  select(orders(\"order_id\"), orderItems(\"order_item_subtotal\")).\n",
    "  show"
   ]
  },
  {
   "cell_type": "code",
   "execution_count": 26,
   "metadata": {},
   "outputs": [
    {
     "name": "stdout",
     "output_type": "stream",
     "text": [
      "+--------+--------------------+-----------------+---------------+\n",
      "|order_id|          order_date|order_customer_id|   order_status|\n",
      "+--------+--------------------+-----------------+---------------+\n",
      "|       3|2013-07-25 00:00:...|            12111|       COMPLETE|\n",
      "|       6|2013-07-25 00:00:...|             7130|       COMPLETE|\n",
      "|      22|2013-07-25 00:00:...|              333|       COMPLETE|\n",
      "|      26|2013-07-25 00:00:...|             7562|       COMPLETE|\n",
      "|      32|2013-07-25 00:00:...|             3960|       COMPLETE|\n",
      "|      40|2013-07-25 00:00:...|            12092|PENDING_PAYMENT|\n",
      "|      47|2013-07-25 00:00:...|             8487|PENDING_PAYMENT|\n",
      "|      53|2013-07-25 00:00:...|             4701|     PROCESSING|\n",
      "|      54|2013-07-25 00:00:...|            10628|PENDING_PAYMENT|\n",
      "|      55|2013-07-25 00:00:...|             2052|        PENDING|\n",
      "|      60|2013-07-25 00:00:...|             8365|PENDING_PAYMENT|\n",
      "|      76|2013-07-25 00:00:...|             6898|       COMPLETE|\n",
      "|      78|2013-07-25 00:00:...|             8619| PAYMENT_REVIEW|\n",
      "|      79|2013-07-25 00:00:...|             7327|PENDING_PAYMENT|\n",
      "|      80|2013-07-25 00:00:...|             3007|       COMPLETE|\n",
      "|      82|2013-07-25 00:00:...|             3566|PENDING_PAYMENT|\n",
      "|      85|2013-07-25 00:00:...|             1485|        PENDING|\n",
      "|      86|2013-07-25 00:00:...|             6680|PENDING_PAYMENT|\n",
      "|      89|2013-07-25 00:00:...|              824|        ON_HOLD|\n",
      "|      90|2013-07-25 00:00:...|             9131|         CLOSED|\n",
      "+--------+--------------------+-----------------+---------------+\n",
      "only showing top 20 rows\n",
      "\n"
     ]
    }
   ],
   "source": [
    "// Get all the orders where there are no corresponding order_items\n",
    "/* \n",
    "SELECT o.order_id, oi.order_item_subtotal \n",
    "FROM orders o LEFT OUTER JOIN order_items oi\n",
    "  ON o.order_id = oi.order_item_order_id\n",
    "WHERE oi.order_item_order_id IS NULL;\n",
    " */\n",
    "\n",
    "orders.\n",
    "  join(orderItems, $\"order_id\" === $\"order_item_order_id\", \"left\").\n",
    "  where(\"order_item_order_id is null\").\n",
    "  select(\"order_id\", \"order_date\", \"order_customer_id\", \"order_status\").\n",
    "  show"
   ]
  },
  {
   "cell_type": "code",
   "execution_count": 27,
   "metadata": {},
   "outputs": [
    {
     "name": "stdout",
     "output_type": "stream",
     "text": [
      "+--------+--------------------+-----------------+---------------+\n",
      "|order_id|          order_date|order_customer_id|   order_status|\n",
      "+--------+--------------------+-----------------+---------------+\n",
      "|       3|2013-07-25 00:00:...|            12111|       COMPLETE|\n",
      "|       6|2013-07-25 00:00:...|             7130|       COMPLETE|\n",
      "|      22|2013-07-25 00:00:...|              333|       COMPLETE|\n",
      "|      26|2013-07-25 00:00:...|             7562|       COMPLETE|\n",
      "|      32|2013-07-25 00:00:...|             3960|       COMPLETE|\n",
      "|      40|2013-07-25 00:00:...|            12092|PENDING_PAYMENT|\n",
      "|      47|2013-07-25 00:00:...|             8487|PENDING_PAYMENT|\n",
      "|      53|2013-07-25 00:00:...|             4701|     PROCESSING|\n",
      "|      54|2013-07-25 00:00:...|            10628|PENDING_PAYMENT|\n",
      "|      55|2013-07-25 00:00:...|             2052|        PENDING|\n",
      "|      60|2013-07-25 00:00:...|             8365|PENDING_PAYMENT|\n",
      "|      76|2013-07-25 00:00:...|             6898|       COMPLETE|\n",
      "|      78|2013-07-25 00:00:...|             8619| PAYMENT_REVIEW|\n",
      "|      79|2013-07-25 00:00:...|             7327|PENDING_PAYMENT|\n",
      "|      80|2013-07-25 00:00:...|             3007|       COMPLETE|\n",
      "|      82|2013-07-25 00:00:...|             3566|PENDING_PAYMENT|\n",
      "|      85|2013-07-25 00:00:...|             1485|        PENDING|\n",
      "|      86|2013-07-25 00:00:...|             6680|PENDING_PAYMENT|\n",
      "|      89|2013-07-25 00:00:...|              824|        ON_HOLD|\n",
      "|      90|2013-07-25 00:00:...|             9131|         CLOSED|\n",
      "+--------+--------------------+-----------------+---------------+\n",
      "only showing top 20 rows\n",
      "\n"
     ]
    }
   ],
   "source": [
    "orders.\n",
    "  join(orderItems, $\"order_id\" === $\"order_item_order_id\", \"left\").\n",
    "  where($\"order_item_order_id\".isNull).\n",
    "  select($\"order_id\", $\"order_date\", $\"order_customer_id\", $\"order_status\").\n",
    "  show"
   ]
  },
  {
   "cell_type": "code",
   "execution_count": 28,
   "metadata": {},
   "outputs": [
    {
     "name": "stdout",
     "output_type": "stream",
     "text": [
      "+-------------+-------------------+\n",
      "|order_item_id|order_item_order_id|\n",
      "+-------------+-------------------+\n",
      "+-------------+-------------------+\n",
      "\n"
     ]
    }
   ],
   "source": [
    "// Check if there are any order_items where there is no corresponding order in orders data set\n",
    "/* \n",
    "SELECT o.order_id, oi.order_item_subtotal \n",
    "FROM orders o RIGHT OUTER JOIN order_items oi\n",
    "  ON o.order_id = oi.order_item_order_id\n",
    "WHERE o.order_id IS NULL;\n",
    " */\n",
    "\n",
    "orders.\n",
    "  join(orderItems, $\"order_id\" === $\"order_item_order_id\", \"right\").\n",
    "  where(\"order_id is null\").\n",
    "  select(\"order_item_id\", \"order_item_order_id\").\n",
    "  show\n"
   ]
  },
  {
   "cell_type": "code",
   "execution_count": 29,
   "metadata": {},
   "outputs": [
    {
     "data": {
      "text/plain": [
       "warning: there was one feature warning; re-run with -feature for details\n"
      ]
     },
     "metadata": {},
     "output_type": "display_data",
     "source": "user"
    },
    {
     "name": "stdout",
     "output_type": "stream",
     "text": [
      "+-------------+-------------------+\n",
      "|order_item_id|order_item_order_id|\n",
      "+-------------+-------------------+\n",
      "+-------------+-------------------+\n",
      "\n"
     ]
    }
   ],
   "source": [
    "orders.\n",
    "  join(orderItems, $\"order_id\" === $\"order_item_order_id\", \"right\").\n",
    "  where($\"order_id\" isNull).\n",
    "  select(\"order_item_id\", \"order_item_order_id\").\n",
    "  show"
   ]
  },
  {
   "cell_type": "markdown",
   "metadata": {},
   "source": [
    "### Grouping Data and Performing Aggregations\n",
    "\n",
    "Many times we want to perform aggregations such as sum, average, minimum, maximum etc with in each group. We need to first group the data and then perform aggregation.\n",
    "\n",
    "* groupBy is the function which can be used to group the data on one or more columns\n",
    "* Once data is grouped we can perform all supported aggregations – sum, avg, min, max etc\n",
    "* We can invoke the functions directly or as part of agg\n",
    "* agg gives us more flexibility to give aliases to the derived fields\n",
    "* Let us see few examples\n",
    "    * Get count by status from orders\n",
    "    * Get revenue for each order id from order items\n",
    "    * Get daily product revenue (order_date and order_item_product_id are part of keys, order_item_subtotal is used for aggregation)"
   ]
  },
  {
   "cell_type": "code",
   "execution_count": 30,
   "metadata": {},
   "outputs": [
    {
     "name": "stdout",
     "output_type": "stream",
     "text": [
      "+---------------+-----+\n",
      "|   order_status|count|\n",
      "+---------------+-----+\n",
      "|PENDING_PAYMENT|15030|\n",
      "|       COMPLETE|22899|\n",
      "|        ON_HOLD| 3798|\n",
      "| PAYMENT_REVIEW|  729|\n",
      "|     PROCESSING| 8275|\n",
      "|         CLOSED| 7556|\n",
      "|SUSPECTED_FRAUD| 1558|\n",
      "|        PENDING| 7610|\n",
      "|       CANCELED| 1428|\n",
      "+---------------+-----+\n",
      "\n"
     ]
    }
   ],
   "source": [
    "// Get count by status from orders\n",
    "/*\n",
    "SELECT order_status, count(1)\n",
    "FROM orders\n",
    "GROUP BY order_status;\n",
    " */\n",
    "\n",
    "orders.\n",
    "  groupBy(\"order_status\").\n",
    "  count.\n",
    "  show"
   ]
  },
  {
   "cell_type": "code",
   "execution_count": 31,
   "metadata": {},
   "outputs": [
    {
     "name": "stdout",
     "output_type": "stream",
     "text": [
      "+---------------+------------+\n",
      "|   order_status|status_count|\n",
      "+---------------+------------+\n",
      "|PENDING_PAYMENT|       15030|\n",
      "|       COMPLETE|       22899|\n",
      "|        ON_HOLD|        3798|\n",
      "| PAYMENT_REVIEW|         729|\n",
      "|     PROCESSING|        8275|\n",
      "|         CLOSED|        7556|\n",
      "|SUSPECTED_FRAUD|        1558|\n",
      "|        PENDING|        7610|\n",
      "|       CANCELED|        1428|\n",
      "+---------------+------------+\n",
      "\n"
     ]
    }
   ],
   "source": [
    "/*\n",
    "SELECT order_status, count(1) AS status_count\n",
    "FROM orders\n",
    "GROUP BY order_status;\n",
    " */\n",
    "\n",
    "orders.\n",
    "  groupBy(\"order_status\"). \n",
    "  agg(count(\"order_status\").alias(\"status_count\")). \n",
    "  show"
   ]
  },
  {
   "cell_type": "code",
   "execution_count": 32,
   "metadata": {},
   "outputs": [
    {
     "name": "stdout",
     "output_type": "stream",
     "text": [
      "+-------------------+------------------------+\n",
      "|order_item_order_id|sum(order_item_subtotal)|\n",
      "+-------------------+------------------------+\n",
      "|                148|      479.99000549316406|\n",
      "|                463|       829.9200096130371|\n",
      "|                471|      169.98000717163086|\n",
      "|                496|        441.950008392334|\n",
      "|               1088|      249.97000885009766|\n",
      "|               1580|      299.95001220703125|\n",
      "|               1591|       439.8599967956543|\n",
      "|               1645|       1509.790023803711|\n",
      "|               2366|       299.9700012207031|\n",
      "|               2659|       724.9100151062012|\n",
      "|               2866|        569.960018157959|\n",
      "|               3175|      209.97000122070312|\n",
      "|               3749|      143.97000122070312|\n",
      "|               3794|      299.95001220703125|\n",
      "|               3918|       829.9300155639648|\n",
      "|               3997|       579.9500122070312|\n",
      "|               4101|      129.99000549316406|\n",
      "|               4519|        79.9800033569336|\n",
      "|               4818|       399.9800109863281|\n",
      "|               4900|       179.9700050354004|\n",
      "+-------------------+------------------------+\n",
      "only showing top 20 rows\n",
      "\n"
     ]
    }
   ],
   "source": [
    "// Get revenue for each order id from order items \n",
    "/*\n",
    "SELECT order_item_order_id, sum(order_item_subtotal)\n",
    "FROM order_items\n",
    "GROUP BY order_item_order_id;\n",
    " */\n",
    "\n",
    "orderItems.\n",
    "  groupBy(\"order_item_order_id\"). \n",
    "  sum(\"order_item_subtotal\"). \n",
    "  show"
   ]
  },
  {
   "cell_type": "code",
   "execution_count": 33,
   "metadata": {},
   "outputs": [
    {
     "name": "stdout",
     "output_type": "stream",
     "text": [
      "+-------------------+-------------+\n",
      "|order_item_order_id|order_revenue|\n",
      "+-------------------+-------------+\n",
      "|                148|       479.99|\n",
      "|                463|       829.92|\n",
      "|                471|       169.98|\n",
      "|                496|       441.95|\n",
      "|               1088|       249.97|\n",
      "|               1580|       299.95|\n",
      "|               1591|       439.86|\n",
      "|               1645|      1509.79|\n",
      "|               2366|       299.97|\n",
      "|               2659|       724.91|\n",
      "|               2866|       569.96|\n",
      "|               3175|       209.97|\n",
      "|               3749|       143.97|\n",
      "|               3794|       299.95|\n",
      "|               3918|       829.93|\n",
      "|               3997|       579.95|\n",
      "|               4101|       129.99|\n",
      "|               4519|        79.98|\n",
      "|               4818|       399.98|\n",
      "|               4900|       179.97|\n",
      "+-------------------+-------------+\n",
      "only showing top 20 rows\n",
      "\n"
     ]
    }
   ],
   "source": [
    "/*\n",
    "SELECT order_item_order_id, round(sum(order_item_subtotal), 2) AS order_revenue\n",
    "FROM order_items\n",
    "GROUP BY order_item_order_id;\n",
    " */\n",
    "\n",
    "import org.apache.spark.sql.functions.{round, sum}\n",
    "orderItems.\n",
    "  groupBy(\"order_item_order_id\"). \n",
    "  agg(round(sum(\"order_item_subtotal\"), 2).alias(\"order_revenue\")). \n",
    "  show"
   ]
  },
  {
   "cell_type": "code",
   "execution_count": 34,
   "metadata": {},
   "outputs": [],
   "source": [
    "// Get daily product revenue \n",
    "// filter for complete and closed orders\n",
    "// groupBy order_date and order_item_product_id\n",
    "// Use agg and sum on order_item_subtotal to get revenue\n",
    "\n",
    "spark.conf.set(\"spark.sql.shuffle.partitions\", \"2\")\n",
    "\n",
    "/*\n",
    "SELECT o.order_date, oi.order_item_product_id, \n",
    "  round(sum(oi.order_item_subtotal), 2) AS revenue\n",
    "FROM orders o JOIN order_items oi\n",
    "  ON o.order_id = oi.order_item_order_id\n",
    "GROUP BY o.order_date, oi.order_item_product_id;\n",
    " */"
   ]
  },
  {
   "cell_type": "code",
   "execution_count": 35,
   "metadata": {},
   "outputs": [
    {
     "name": "stdout",
     "output_type": "stream",
     "text": [
      "+--------------------+---------------------+-------+\n",
      "|          order_date|order_item_product_id|revenue|\n",
      "+--------------------+---------------------+-------+\n",
      "|2013-07-25 00:00:...|                  957| 4499.7|\n",
      "|2013-07-25 00:00:...|                 1014|2798.88|\n",
      "|2013-07-25 00:00:...|                  365|3359.44|\n",
      "|2013-07-25 00:00:...|                  926|  79.95|\n",
      "|2013-07-25 00:00:...|                 1004|5599.72|\n",
      "|2013-07-25 00:00:...|                  828|  95.97|\n",
      "|2013-07-25 00:00:...|                   93|  74.97|\n",
      "|2013-07-25 00:00:...|                  810|  79.96|\n",
      "|2013-07-25 00:00:...|                  906|  99.96|\n",
      "|2013-07-25 00:00:...|                  835|  63.98|\n",
      "|2013-07-26 00:00:...|                  403|3249.75|\n",
      "|2013-07-26 00:00:...|                  627|3039.24|\n",
      "|2013-07-26 00:00:...|                  278| 269.94|\n",
      "|2013-07-26 00:00:...|                  191|6799.32|\n",
      "|2013-07-26 00:00:...|                 1014|4798.08|\n",
      "|2013-07-26 00:00:...|                  804| 159.92|\n",
      "|2013-07-26 00:00:...|                  564|   90.0|\n",
      "|2013-07-26 00:00:...|                  917| 153.93|\n",
      "|2013-07-26 00:00:...|                  775|  39.96|\n",
      "|2013-07-26 00:00:...|                  134|  100.0|\n",
      "+--------------------+---------------------+-------+\n",
      "only showing top 20 rows\n",
      "\n"
     ]
    }
   ],
   "source": [
    "import org.apache.spark.sql.functions.{round, sum}\n",
    "orders.\n",
    "  where(\"order_status in ('COMPLETE', 'CLOSED')\"). \n",
    "  join(orderItems, $\"order_id\" === $\"order_item_order_id\"). \n",
    "  groupBy(\"order_date\", \"order_item_product_id\"). \n",
    "  agg(round(sum(\"order_item_subtotal\"), 2).alias(\"revenue\")). \n",
    "  show\n"
   ]
  },
  {
   "cell_type": "code",
   "execution_count": 37,
   "metadata": {},
   "outputs": [
    {
     "name": "stdout",
     "output_type": "stream",
     "text": [
      "+--------------------+---------------------+-------+\n",
      "|          order_date|order_item_product_id|revenue|\n",
      "+--------------------+---------------------+-------+\n",
      "|2013-07-25 00:00:...|                  957| 4499.7|\n",
      "|2013-07-25 00:00:...|                 1014|2798.88|\n",
      "|2013-07-25 00:00:...|                  365|3359.44|\n",
      "|2013-07-25 00:00:...|                  926|  79.95|\n",
      "|2013-07-25 00:00:...|                 1004|5599.72|\n",
      "|2013-07-25 00:00:...|                  828|  95.97|\n",
      "|2013-07-25 00:00:...|                   93|  74.97|\n",
      "|2013-07-25 00:00:...|                  810|  79.96|\n",
      "|2013-07-25 00:00:...|                  906|  99.96|\n",
      "|2013-07-25 00:00:...|                  835|  63.98|\n",
      "|2013-07-26 00:00:...|                  403|3249.75|\n",
      "|2013-07-26 00:00:...|                  627|3039.24|\n",
      "|2013-07-26 00:00:...|                  278| 269.94|\n",
      "|2013-07-26 00:00:...|                  191|6799.32|\n",
      "|2013-07-26 00:00:...|                 1014|4798.08|\n",
      "|2013-07-26 00:00:...|                  804| 159.92|\n",
      "|2013-07-26 00:00:...|                  564|   90.0|\n",
      "|2013-07-26 00:00:...|                  917| 153.93|\n",
      "|2013-07-26 00:00:...|                  775|  39.96|\n",
      "|2013-07-26 00:00:...|                  134|  100.0|\n",
      "+--------------------+---------------------+-------+\n",
      "only showing top 20 rows\n",
      "\n"
     ]
    }
   ],
   "source": [
    "orders.\n",
    "  where(\"order_status in ('COMPLETE', 'CLOSED')\"). \n",
    "  join(orderItems, $\"order_id\" === $\"order_item_order_id\"). \n",
    "  groupBy($\"order_date\", $\"order_item_product_id\"). \n",
    "  agg(round(sum($\"order_item_subtotal\"), 2).alias(\"revenue\")). \n",
    "  show"
   ]
  },
  {
   "cell_type": "markdown",
   "metadata": {},
   "source": [
    "### Sorting Data\n",
    "\n",
    "Now let us see how we can sort the data using sort or orderBy.\n",
    "\n",
    "* sort or orderBy can be used to sort the data\n",
    "* We can perform composite sorting by using multiple fields\n",
    "* By default data will be sorted in ascending order\n",
    "* We can change the order by using desc function\n",
    "* Let us see few examples\n",
    "    * Sort orders by status\n",
    "    * Sort orders by date and then by status\n",
    "    * Sort order items by order_item_order_id and order_item_subtotal descending\n",
    "    * Take daily product revenue data and sort in ascending order by date and then descending order by revenue."
   ]
  },
  {
   "cell_type": "code",
   "execution_count": 38,
   "metadata": {},
   "outputs": [
    {
     "name": "stdout",
     "output_type": "stream",
     "text": [
      "+--------+--------------------+-----------------+------------+\n",
      "|order_id|          order_date|order_customer_id|order_status|\n",
      "+--------+--------------------+-----------------+------------+\n",
      "|     527|2013-07-28 00:00:...|             5426|    CANCELED|\n",
      "|    1435|2013-08-01 00:00:...|             1879|    CANCELED|\n",
      "|     552|2013-07-28 00:00:...|             1445|    CANCELED|\n",
      "|     112|2013-07-26 00:00:...|             5375|    CANCELED|\n",
      "|     564|2013-07-28 00:00:...|             2216|    CANCELED|\n",
      "|     955|2013-07-30 00:00:...|             8117|    CANCELED|\n",
      "|    1383|2013-08-01 00:00:...|             1753|    CANCELED|\n",
      "|     962|2013-07-30 00:00:...|             9492|    CANCELED|\n",
      "|     607|2013-07-28 00:00:...|             6376|    CANCELED|\n",
      "|    1013|2013-07-30 00:00:...|             1903|    CANCELED|\n",
      "|     667|2013-07-28 00:00:...|             4726|    CANCELED|\n",
      "|    1169|2013-07-31 00:00:...|             3971|    CANCELED|\n",
      "|     717|2013-07-29 00:00:...|             8208|    CANCELED|\n",
      "|    1186|2013-07-31 00:00:...|            11947|    CANCELED|\n",
      "|     753|2013-07-29 00:00:...|             5094|    CANCELED|\n",
      "|    1190|2013-07-31 00:00:...|            12360|    CANCELED|\n",
      "|      50|2013-07-25 00:00:...|             5225|    CANCELED|\n",
      "|    1313|2013-08-01 00:00:...|             3471|    CANCELED|\n",
      "|     716|2013-07-29 00:00:...|             2581|    CANCELED|\n",
      "|    1365|2013-08-01 00:00:...|             8567|    CANCELED|\n",
      "+--------+--------------------+-----------------+------------+\n",
      "only showing top 20 rows\n",
      "\n"
     ]
    }
   ],
   "source": [
    "// Sort orders by status\n",
    "\n",
    "/*\n",
    "SELECT * FROM orders\n",
    "ORDER BY order_status;\n",
    " */\n",
    "\n",
    "orders.\n",
    "  sort(\"order_status\").\n",
    "  show"
   ]
  },
  {
   "cell_type": "code",
   "execution_count": 39,
   "metadata": {},
   "outputs": [
    {
     "name": "stdout",
     "output_type": "stream",
     "text": [
      "+--------+--------------------+-----------------+------------+\n",
      "|order_id|          order_date|order_customer_id|order_status|\n",
      "+--------+--------------------+-----------------+------------+\n",
      "|     527|2013-07-28 00:00:...|             5426|    CANCELED|\n",
      "|    1435|2013-08-01 00:00:...|             1879|    CANCELED|\n",
      "|     552|2013-07-28 00:00:...|             1445|    CANCELED|\n",
      "|     112|2013-07-26 00:00:...|             5375|    CANCELED|\n",
      "|     564|2013-07-28 00:00:...|             2216|    CANCELED|\n",
      "|     955|2013-07-30 00:00:...|             8117|    CANCELED|\n",
      "|    1383|2013-08-01 00:00:...|             1753|    CANCELED|\n",
      "|     962|2013-07-30 00:00:...|             9492|    CANCELED|\n",
      "|     607|2013-07-28 00:00:...|             6376|    CANCELED|\n",
      "|    1013|2013-07-30 00:00:...|             1903|    CANCELED|\n",
      "|     667|2013-07-28 00:00:...|             4726|    CANCELED|\n",
      "|    1169|2013-07-31 00:00:...|             3971|    CANCELED|\n",
      "|     717|2013-07-29 00:00:...|             8208|    CANCELED|\n",
      "|    1186|2013-07-31 00:00:...|            11947|    CANCELED|\n",
      "|     753|2013-07-29 00:00:...|             5094|    CANCELED|\n",
      "|    1190|2013-07-31 00:00:...|            12360|    CANCELED|\n",
      "|      50|2013-07-25 00:00:...|             5225|    CANCELED|\n",
      "|    1313|2013-08-01 00:00:...|             3471|    CANCELED|\n",
      "|     716|2013-07-29 00:00:...|             2581|    CANCELED|\n",
      "|    1365|2013-08-01 00:00:...|             8567|    CANCELED|\n",
      "+--------+--------------------+-----------------+------------+\n",
      "only showing top 20 rows\n",
      "\n"
     ]
    }
   ],
   "source": [
    "orders.\n",
    "  orderBy(\"order_status\").\n",
    "  show"
   ]
  },
  {
   "cell_type": "code",
   "execution_count": 40,
   "metadata": {},
   "outputs": [
    {
     "name": "stdout",
     "output_type": "stream",
     "text": [
      "+--------+--------------------+-----------------+------------+\n",
      "|order_id|          order_date|order_customer_id|order_status|\n",
      "+--------+--------------------+-----------------+------------+\n",
      "|     527|2013-07-28 00:00:...|             5426|    CANCELED|\n",
      "|    1435|2013-08-01 00:00:...|             1879|    CANCELED|\n",
      "|     552|2013-07-28 00:00:...|             1445|    CANCELED|\n",
      "|     112|2013-07-26 00:00:...|             5375|    CANCELED|\n",
      "|     564|2013-07-28 00:00:...|             2216|    CANCELED|\n",
      "|     955|2013-07-30 00:00:...|             8117|    CANCELED|\n",
      "|    1383|2013-08-01 00:00:...|             1753|    CANCELED|\n",
      "|     962|2013-07-30 00:00:...|             9492|    CANCELED|\n",
      "|     607|2013-07-28 00:00:...|             6376|    CANCELED|\n",
      "|    1013|2013-07-30 00:00:...|             1903|    CANCELED|\n",
      "|     667|2013-07-28 00:00:...|             4726|    CANCELED|\n",
      "|    1169|2013-07-31 00:00:...|             3971|    CANCELED|\n",
      "|     717|2013-07-29 00:00:...|             8208|    CANCELED|\n",
      "|    1186|2013-07-31 00:00:...|            11947|    CANCELED|\n",
      "|     753|2013-07-29 00:00:...|             5094|    CANCELED|\n",
      "|    1190|2013-07-31 00:00:...|            12360|    CANCELED|\n",
      "|      50|2013-07-25 00:00:...|             5225|    CANCELED|\n",
      "|    1313|2013-08-01 00:00:...|             3471|    CANCELED|\n",
      "|     716|2013-07-29 00:00:...|             2581|    CANCELED|\n",
      "|    1365|2013-08-01 00:00:...|             8567|    CANCELED|\n",
      "+--------+--------------------+-----------------+------------+\n",
      "only showing top 20 rows\n",
      "\n"
     ]
    }
   ],
   "source": [
    "orders.\n",
    "  orderBy($\"order_status\").\n",
    "  show"
   ]
  },
  {
   "cell_type": "code",
   "execution_count": 41,
   "metadata": {},
   "outputs": [
    {
     "name": "stdout",
     "output_type": "stream",
     "text": [
      "+--------+--------------------+-----------------+------------+\n",
      "|order_id|          order_date|order_customer_id|order_status|\n",
      "+--------+--------------------+-----------------+------------+\n",
      "|      50|2013-07-25 00:00:...|             5225|    CANCELED|\n",
      "|       1|2013-07-25 00:00:...|            11599|      CLOSED|\n",
      "|      12|2013-07-25 00:00:...|             1837|      CLOSED|\n",
      "|       4|2013-07-25 00:00:...|             8827|      CLOSED|\n",
      "|      37|2013-07-25 00:00:...|             5863|      CLOSED|\n",
      "|      18|2013-07-25 00:00:...|             1205|      CLOSED|\n",
      "|      24|2013-07-25 00:00:...|            11441|      CLOSED|\n",
      "|      25|2013-07-25 00:00:...|             9503|      CLOSED|\n",
      "|   57754|2013-07-25 00:00:...|             4648|      CLOSED|\n",
      "|      90|2013-07-25 00:00:...|             9131|      CLOSED|\n",
      "|      51|2013-07-25 00:00:...|            12271|      CLOSED|\n",
      "|      57|2013-07-25 00:00:...|             7073|      CLOSED|\n",
      "|      61|2013-07-25 00:00:...|             4791|      CLOSED|\n",
      "|      62|2013-07-25 00:00:...|             9111|      CLOSED|\n",
      "|      87|2013-07-25 00:00:...|             3065|      CLOSED|\n",
      "|     101|2013-07-25 00:00:...|             5116|      CLOSED|\n",
      "|   57766|2013-07-25 00:00:...|             2376|      CLOSED|\n",
      "|   57781|2013-07-25 00:00:...|             6143|      CLOSED|\n",
      "|   57782|2013-07-25 00:00:...|              284|      CLOSED|\n",
      "|   67416|2013-07-25 00:00:...|            10920|      CLOSED|\n",
      "+--------+--------------------+-----------------+------------+\n",
      "only showing top 20 rows\n",
      "\n"
     ]
    }
   ],
   "source": [
    "// Sort orders by date and then by status\n",
    "/*\n",
    "SELECT * FROM orders\n",
    "ORDER BY order_date, order_status;\n",
    " */\n",
    "\n",
    "orders.\n",
    "  sort(\"order_date\", \"order_status\").\n",
    "  show"
   ]
  },
  {
   "cell_type": "code",
   "execution_count": 42,
   "metadata": {},
   "outputs": [
    {
     "name": "stdout",
     "output_type": "stream",
     "text": [
      "+--------+--------------------+-----------------+------------+\n",
      "|order_id|          order_date|order_customer_id|order_status|\n",
      "+--------+--------------------+-----------------+------------+\n",
      "|      50|2013-07-25 00:00:...|             5225|    CANCELED|\n",
      "|       1|2013-07-25 00:00:...|            11599|      CLOSED|\n",
      "|      12|2013-07-25 00:00:...|             1837|      CLOSED|\n",
      "|       4|2013-07-25 00:00:...|             8827|      CLOSED|\n",
      "|      37|2013-07-25 00:00:...|             5863|      CLOSED|\n",
      "|      18|2013-07-25 00:00:...|             1205|      CLOSED|\n",
      "|      24|2013-07-25 00:00:...|            11441|      CLOSED|\n",
      "|      25|2013-07-25 00:00:...|             9503|      CLOSED|\n",
      "|   57754|2013-07-25 00:00:...|             4648|      CLOSED|\n",
      "|      90|2013-07-25 00:00:...|             9131|      CLOSED|\n",
      "|      51|2013-07-25 00:00:...|            12271|      CLOSED|\n",
      "|      57|2013-07-25 00:00:...|             7073|      CLOSED|\n",
      "|      61|2013-07-25 00:00:...|             4791|      CLOSED|\n",
      "|      62|2013-07-25 00:00:...|             9111|      CLOSED|\n",
      "|      87|2013-07-25 00:00:...|             3065|      CLOSED|\n",
      "|     101|2013-07-25 00:00:...|             5116|      CLOSED|\n",
      "|   57766|2013-07-25 00:00:...|             2376|      CLOSED|\n",
      "|   57781|2013-07-25 00:00:...|             6143|      CLOSED|\n",
      "|   57782|2013-07-25 00:00:...|              284|      CLOSED|\n",
      "|   67416|2013-07-25 00:00:...|            10920|      CLOSED|\n",
      "+--------+--------------------+-----------------+------------+\n",
      "only showing top 20 rows\n",
      "\n"
     ]
    }
   ],
   "source": [
    "orders.\n",
    "  orderBy($\"order_date\", $\"order_status\").\n",
    "  show"
   ]
  },
  {
   "cell_type": "code",
   "execution_count": 43,
   "metadata": {},
   "outputs": [
    {
     "name": "stdout",
     "output_type": "stream",
     "text": [
      "+-------------+-------------------+---------------------+-------------------+-------------------+------------------------+\n",
      "|order_item_id|order_item_order_id|order_item_product_id|order_item_quantity|order_item_subtotal|order_item_product_price|\n",
      "+-------------+-------------------+---------------------+-------------------+-------------------+------------------------+\n",
      "|            1|                  1|                  957|                  1|             299.98|                  299.98|\n",
      "|            3|                  2|                  502|                  5|              250.0|                    50.0|\n",
      "|            2|                  2|                 1073|                  1|             199.99|                  199.99|\n",
      "|            4|                  2|                  403|                  1|             129.99|                  129.99|\n",
      "|            6|                  4|                  365|                  5|             299.95|                   59.99|\n",
      "|            8|                  4|                 1014|                  4|             199.92|                   49.98|\n",
      "|            7|                  4|                  502|                  3|              150.0|                    50.0|\n",
      "|            5|                  4|                  897|                  2|              49.98|                   24.99|\n",
      "|            9|                  5|                  957|                  1|             299.98|                  299.98|\n",
      "|           12|                  5|                  957|                  1|             299.98|                  299.98|\n",
      "|           10|                  5|                  365|                  5|             299.95|                   59.99|\n",
      "|           13|                  5|                  403|                  1|             129.99|                  129.99|\n",
      "|           11|                  5|                 1014|                  2|              99.96|                   49.98|\n",
      "|           15|                  7|                  957|                  1|             299.98|                  299.98|\n",
      "|           14|                  7|                 1073|                  1|             199.99|                  199.99|\n",
      "|           16|                  7|                  926|                  5|              79.95|                   15.99|\n",
      "|           18|                  8|                  365|                  5|             299.95|                   59.99|\n",
      "|           19|                  8|                 1014|                  4|             199.92|                   49.98|\n",
      "|           17|                  8|                  365|                  3|             179.97|                   59.99|\n",
      "|           20|                  8|                  502|                  1|               50.0|                    50.0|\n",
      "+-------------+-------------------+---------------------+-------------------+-------------------+------------------------+\n",
      "only showing top 20 rows\n",
      "\n"
     ]
    }
   ],
   "source": [
    "// Sort order items by order_item_order_id and order_item_subtotal descending\n",
    "\n",
    "/*\n",
    "SELECT * FROM order_items\n",
    "ORDER BY order_item_order_id, order_item_subtotal DESC;\n",
    " */\n",
    "orderItems.\n",
    "  sort($\"order_item_order_id\", $\"order_item_subtotal\".desc).\n",
    "  show\n"
   ]
  },
  {
   "cell_type": "code",
   "execution_count": 44,
   "metadata": {},
   "outputs": [
    {
     "name": "stdout",
     "output_type": "stream",
     "text": [
      "+-------------+-------------------+---------------------+-------------------+-------------------+------------------------+\n",
      "|order_item_id|order_item_order_id|order_item_product_id|order_item_quantity|order_item_subtotal|order_item_product_price|\n",
      "+-------------+-------------------+---------------------+-------------------+-------------------+------------------------+\n",
      "|            1|                  1|                  957|                  1|             299.98|                  299.98|\n",
      "|            3|                  2|                  502|                  5|              250.0|                    50.0|\n",
      "|            2|                  2|                 1073|                  1|             199.99|                  199.99|\n",
      "|            4|                  2|                  403|                  1|             129.99|                  129.99|\n",
      "|            6|                  4|                  365|                  5|             299.95|                   59.99|\n",
      "|            8|                  4|                 1014|                  4|             199.92|                   49.98|\n",
      "|            7|                  4|                  502|                  3|              150.0|                    50.0|\n",
      "|            5|                  4|                  897|                  2|              49.98|                   24.99|\n",
      "|            9|                  5|                  957|                  1|             299.98|                  299.98|\n",
      "|           12|                  5|                  957|                  1|             299.98|                  299.98|\n",
      "|           10|                  5|                  365|                  5|             299.95|                   59.99|\n",
      "|           13|                  5|                  403|                  1|             129.99|                  129.99|\n",
      "|           11|                  5|                 1014|                  2|              99.96|                   49.98|\n",
      "|           15|                  7|                  957|                  1|             299.98|                  299.98|\n",
      "|           14|                  7|                 1073|                  1|             199.99|                  199.99|\n",
      "|           16|                  7|                  926|                  5|              79.95|                   15.99|\n",
      "|           18|                  8|                  365|                  5|             299.95|                   59.99|\n",
      "|           19|                  8|                 1014|                  4|             199.92|                   49.98|\n",
      "|           17|                  8|                  365|                  3|             179.97|                   59.99|\n",
      "|           20|                  8|                  502|                  1|               50.0|                    50.0|\n",
      "+-------------+-------------------+---------------------+-------------------+-------------------+------------------------+\n",
      "only showing top 20 rows\n",
      "\n"
     ]
    }
   ],
   "source": [
    "orderItems.\n",
    "  orderBy($\"order_item_order_id\", $\"order_item_subtotal\".desc).\n",
    "  show"
   ]
  },
  {
   "cell_type": "code",
   "execution_count": 45,
   "metadata": {},
   "outputs": [],
   "source": [
    "// Take daily product revenue data and \n",
    "// sort in ascending order by date and \n",
    "// then descending order by revenue.\n",
    "\n",
    "spark.conf.set(\"spark.sql.shuffle.partitions\", \"2\")\n",
    "\n",
    "/*\n",
    "SELECT o.order_date, oi.order_item_product_id, \n",
    "  round(sum(oi.order_item_subtotal), 2) AS revenue\n",
    "FROM orders o JOIN order_items oi\n",
    "  ON o.order_id = oi.order_item_order_id\n",
    "GROUP BY o.order_date, oi.order_item_product_id\n",
    "ORDER BY o.order_date, revenue DESC;\n",
    " */"
   ]
  },
  {
   "cell_type": "code",
   "execution_count": 46,
   "metadata": {},
   "outputs": [
    {
     "name": "stdout",
     "output_type": "stream",
     "text": [
      "+--------------------+---------------------+-------+\n",
      "|          order_date|order_item_product_id|revenue|\n",
      "+--------------------+---------------------+-------+\n",
      "|2013-07-25 00:00:...|                 1004|5599.72|\n",
      "|2013-07-25 00:00:...|                  191|5099.49|\n",
      "|2013-07-25 00:00:...|                  957| 4499.7|\n",
      "|2013-07-25 00:00:...|                  365|3359.44|\n",
      "|2013-07-25 00:00:...|                 1073|2999.85|\n",
      "|2013-07-25 00:00:...|                 1014|2798.88|\n",
      "|2013-07-25 00:00:...|                  403|1949.85|\n",
      "|2013-07-25 00:00:...|                  502| 1650.0|\n",
      "|2013-07-25 00:00:...|                  627|1079.73|\n",
      "|2013-07-25 00:00:...|                  226| 599.99|\n",
      "|2013-07-25 00:00:...|                   24| 319.96|\n",
      "|2013-07-25 00:00:...|                  821| 207.96|\n",
      "|2013-07-25 00:00:...|                  625| 199.99|\n",
      "|2013-07-25 00:00:...|                  705| 119.99|\n",
      "|2013-07-25 00:00:...|                  572| 119.97|\n",
      "|2013-07-25 00:00:...|                  666| 109.99|\n",
      "|2013-07-25 00:00:...|                  725|  108.0|\n",
      "|2013-07-25 00:00:...|                  134|  100.0|\n",
      "|2013-07-25 00:00:...|                  906|  99.96|\n",
      "|2013-07-25 00:00:...|                  828|  95.97|\n",
      "+--------------------+---------------------+-------+\n",
      "only showing top 20 rows\n",
      "\n"
     ]
    },
    {
     "data": {
      "text/plain": [
       "dailyProductRevenue = [order_date: string, order_item_product_id: int ... 1 more field]\n",
       "dailyProductRevenueSorted = [order_date: string, order_item_product_id: int ... 1 more field]\n"
      ]
     },
     "metadata": {},
     "output_type": "display_data",
     "source": "user"
    },
    {
     "data": {
      "text/plain": [
       "[order_date: string, order_item_product_id: int ... 1 more field]"
      ]
     },
     "execution_count": 46,
     "metadata": {},
     "output_type": "execute_result"
    }
   ],
   "source": [
    "import org.apache.spark.sql.functions.{sum, round}\n",
    "\n",
    "val dailyProductRevenue = orders.\n",
    "  where(\"order_status in ('COMPLETE', 'CLOSED')\").\n",
    "  join(orderItems, $\"order_id\" === $\"order_item_order_id\").\n",
    "  groupBy($\"order_date\", $\"order_item_product_id\").\n",
    "  agg(round(sum($\"order_item_subtotal\"), 2).alias(\"revenue\"))\n",
    "\n",
    "val dailyProductRevenueSorted = dailyProductRevenue.\n",
    "  orderBy($\"order_date\", $\"revenue\".desc)\n",
    "\n",
    "dailyProductRevenueSorted.show"
   ]
  },
  {
   "cell_type": "markdown",
   "metadata": {},
   "source": [
    "### Development Life Cycle\n",
    "\n",
    "Let us develop the application using Intellij and run it on the cluster.\n",
    "\n",
    "* Make sure application.properties have required input path and output path along with execution mode\n",
    "* Read orders and order_items data into data frames\n",
    "* Filter for complete and closed orders\n",
    "* Join with order_items\n",
    "* Aggregate to get revenue for each order_date and order_item_product_id\n",
    "* Sort in ascending order by date and then descending order by revenue\n",
    "* Save the output as CSV format\n",
    "* Validate using Pycharm\n",
    "* Ship it to the cluster, run it on the cluster and validate."
   ]
  },
  {
   "cell_type": "raw",
   "metadata": {},
   "source": [
    "# spark-dataframes-01-build.sbt\n",
    "\n",
    "name := \"SparkDemo\"\n",
    "\n",
    "version := \"0.1\"\n",
    "\n",
    "scalaVersion := \"2.11.8\"\n",
    "\n",
    "libraryDependencies += \"com.typesafe\" % \"config\" % \"1.3.2\"\n",
    "libraryDependencies += \"org.apache.spark\" %% \"spark-sql\" % \"2.3.2\""
   ]
  },
  {
   "cell_type": "raw",
   "metadata": {},
   "source": [
    "# spark-dataframes-02-application.properties```\n",
    "\n",
    "\n",
    "dev.execution.mode = local\n",
    "dev.input.base.dir = C:\\\\data\\\\retail_db\\\\\n",
    "dev.output.base.dir = C:\\\\data\\\\scalaspark\\\\\n",
    "\n",
    "devu.execution.mode = local\n",
    "devu.input.base.dir = /mnt/c/data/retail_db/\n",
    "devu.output.base.dir = /mnt/c/data/bootcamp/scalaspark/\n",
    "\n",
    "devm.execution.mode = local\n",
    "devm.input.base.dir = /Users/itversity/Research/data/retail_db/\n",
    "devm.output.base.dir = /Users/itversity/Research/data/scalaspark/\n",
    "\n",
    "prod.execution.mode = yarn-client\n",
    "prod.input.base.dir = /public/retail_db/\n",
    "prod.output.base.dir = /user/training/bootcamp/scalaspark/"
   ]
  },
  {
   "cell_type": "raw",
   "metadata": {},
   "source": [
    "// spark-dataframes-03-daily-product-revenue.scala\n",
    "\n",
    "package retail_db_df\n",
    "\n",
    "import com.typesafe.config.ConfigFactory\n",
    "import org.apache.spark.sql.SparkSession\n",
    "import org.apache.spark.sql.functions.{round, sum}\n",
    "\n",
    "/**\n",
    "  * Created by itversity on 15/12/18.\n",
    "  */\n",
    "object GetDailyProductRevenueDF {\n",
    "  def main(args: Array[String]): Unit = {\n",
    "\n",
    "    val props = ConfigFactory.load\n",
    "    val env = args(0)\n",
    "    val envProps = props.getConfig(env)\n",
    "\n",
    "    val spark = SparkSession.\n",
    "    builder.\n",
    "    appName(\"Daily Product Revenue using Data Frame Operations\").\n",
    "    master(envProps.getString(\"execution.mode\")).\n",
    "    getOrCreate\n",
    "\n",
    "    spark.conf.set(\"spark.sql.shuffle.partitions\", \"2\")\n",
    "\n",
    "    val inputBaseDir = envProps.getString(\"input.base.dir\")\n",
    "    val ordersCSV = spark.read.\n",
    "      csv(inputBaseDir + \"orders\").\n",
    "      toDF(\"order_id\", \"order_date\", \"order_customer_id\", \"order_status\")\n",
    "\n",
    "    val orderItemsCSV = spark.read.\n",
    "      csv(inputBaseDir + \"order_items\").\n",
    "      toDF(\"order_item_id\", \"order_item_order_id\", \"order_item_product_id\",\n",
    "      \"order_item_quantity\", \"order_item_subtotal\", \"order_item_product_price\")\n",
    "\n",
    "    import spark.implicits._\n",
    "\n",
    "    val orders = ordersCSV.\n",
    "      withColumn(\"order_id\", $\"order_id\".cast(\"int\")).\n",
    "      withColumn(\"order_customer_id\", $\"order_customer_id\".cast(\"int\"))\n",
    "\n",
    "    val orderItems = orderItemsCSV.\n",
    "      withColumn(\"order_item_id\", $\"order_item_id\".cast(\"int\")).\n",
    "      withColumn(\"order_item_order_id\", $\"order_item_order_id\".cast(\"int\")).\n",
    "      withColumn(\"order_item_product_id\", $\"order_item_product_id\".cast(\"int\")).\n",
    "      withColumn(\"order_item_quantity\", $\"order_item_quantity\".cast(\"int\")).\n",
    "      withColumn(\"order_item_subtotal\", $\"order_item_subtotal\".cast(\"float\")).\n",
    "      withColumn(\"order_item_product_price\", $\"order_item_product_price\".cast(\"float\"))\n",
    "\n",
    "    val dailyProductRevenue = orders.\n",
    "      where(\"order_status in ('COMPLETE', 'CLOSED')\").\n",
    "      join(orderItems, $\"order_id\" === $\"order_item_order_id\").\n",
    "      groupBy(\"order_date\", \"order_item_product_id\").\n",
    "      agg(round(sum($\"order_item_subtotal\"), 2).alias(\"revenue\"))\n",
    "\n",
    "    val dailyProductRevenueSorted = dailyProductRevenue.\n",
    "      orderBy($\"order_date\", $\"revenue\".desc)\n",
    "\n",
    "    val outputBaseDir = envProps.getString(\"output.base.dir\")\n",
    "    dailyProductRevenueSorted.write.csv(outputBaseDir + \"daily_product_revenue\")\n",
    "  }\n",
    "}"
   ]
  },
  {
   "cell_type": "raw",
   "metadata": {},
   "source": [
    "# spark-dataframes-04-daily-product-revenue.sh\n",
    "\n",
    "spark-submit \\\n",
    "  --master yarn \\\n",
    "  --class retail_db_df.GetDailyProductRevenueDF \\\n",
    "  --deploy-mode client \\\n",
    "  --conf spark.ui.port=12901 \\\n",
    "  sparkdemo_2.11-0.1.jar prod"
   ]
  },
  {
   "cell_type": "markdown",
   "metadata": {},
   "source": [
    "### Exercises\n",
    "\n",
    "Try to develop programs for these exercises\n",
    "\n",
    "* Get number of closed or complete orders placed by each customer\n",
    "* Get revenue generated by each customer for the month of 2014 January (consider only closed or complete orders)\n",
    "* Get revenue generated by each product on monthly basis – get product name, month and revenue generated by each product (round off revenue to 2 decimals)\n",
    "* Get revenue generated by each product category on daily basis – get category name, date and revenue generated by each category (round off revenue to 2 decimals)\n",
    "* Get the details of the customers who never placed orders"
   ]
  },
  {
   "cell_type": "code",
   "execution_count": null,
   "metadata": {},
   "outputs": [],
   "source": []
  }
 ],
 "metadata": {
  "kernelspec": {
   "display_name": "Apache Toree - Scala",
   "language": "scala",
   "name": "apache_toree_scala"
  },
  "language_info": {
   "codemirror_mode": "text/x-scala",
   "file_extension": ".scala",
   "mimetype": "text/x-scala",
   "name": "scala",
   "pygments_lexer": "scala",
   "version": "2.11.12"
  }
 },
 "nbformat": 4,
 "nbformat_minor": 4
}
