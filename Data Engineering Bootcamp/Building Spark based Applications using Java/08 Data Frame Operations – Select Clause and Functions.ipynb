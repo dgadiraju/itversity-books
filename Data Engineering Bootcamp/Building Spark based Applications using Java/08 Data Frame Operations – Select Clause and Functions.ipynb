{
 "cells": [
  {
   "cell_type": "markdown",
   "metadata": {},
   "source": [
    "# Data Frame Operations – Select Clause and Functions"
   ]
  },
  {
   "cell_type": "markdown",
   "metadata": {},
   "source": [
    "As part of this session we will be understanding how to select or project data from data frames while applying functions to extract required information\n",
    "\n",
    "* Getting Started\n",
    "* String Manipulation Functions\n",
    "* Using withColumn\n",
    "* Using selectExpr\n",
    "* Date Manipulation Functions\n",
    "* Dropping Columns\n",
    "* User Defined Functions – Simple\n",
    "\n",
    "### Getting Started\n",
    "\n",
    "Before getting into Pre-Defined functions available to process the data, let us make sure we have Data Frames to apply these functions.\n",
    "\n",
    "* We can apply toDF on Seq to create Data Frame out of a typical collection.\n",
    "* First, we will create Data Frame by name dual with column dummy and value X\n",
    "* Also, let us create Data Frame for the orders data set.\n",
    "* Most of the Data Frame APIs such as select, where, groupBy etc take column names in the form of strings or of col type.\n",
    "* Functions used in these APIs take column names in the form of col type.\n",
    "* If we have to add a constant value to the existing values in a column, we need to use lit on top of constant value.\n",
    "* We can also use $ instead of col.\n",
    "* We pass column names as strings if"
   ]
  },
  {
   "cell_type": "code",
   "execution_count": 21,
   "metadata": {},
   "outputs": [],
   "source": [
    "import org.apache.spark.sql.functions._"
   ]
  },
  {
   "cell_type": "code",
   "execution_count": 9,
   "metadata": {},
   "outputs": [
    {
     "data": {
      "text/plain": [
       "dual = [dummy: string]\n"
      ]
     },
     "metadata": {},
     "output_type": "display_data",
     "source": "user"
    },
    {
     "data": {
      "text/plain": [
       "[dummy: string]"
      ]
     },
     "execution_count": 9,
     "metadata": {},
     "output_type": "execute_result"
    }
   ],
   "source": [
    "val dual = Seq(\"X\").toDF(\"dummy\")"
   ]
  },
  {
   "cell_type": "code",
   "execution_count": 10,
   "metadata": {},
   "outputs": [
    {
     "name": "stdout",
     "output_type": "stream",
     "text": [
      "root\n",
      " |-- dummy: string (nullable = true)\n",
      "\n"
     ]
    }
   ],
   "source": [
    "dual.printSchema"
   ]
  },
  {
   "cell_type": "code",
   "execution_count": 11,
   "metadata": {},
   "outputs": [
    {
     "name": "stdout",
     "output_type": "stream",
     "text": [
      "+-----+\n",
      "|dummy|\n",
      "+-----+\n",
      "|    X|\n",
      "+-----+\n",
      "\n"
     ]
    }
   ],
   "source": [
    "dual.select(\"dummy\").show"
   ]
  },
  {
   "cell_type": "code",
   "execution_count": 12,
   "metadata": {},
   "outputs": [
    {
     "name": "stdout",
     "output_type": "stream",
     "text": [
      "+-----+\n",
      "|dummy|\n",
      "+-----+\n",
      "|    X|\n",
      "+-----+\n",
      "\n"
     ]
    }
   ],
   "source": [
    "dual.select(col(\"dummy\")).show"
   ]
  },
  {
   "cell_type": "code",
   "execution_count": 13,
   "metadata": {},
   "outputs": [
    {
     "name": "stdout",
     "output_type": "stream",
     "text": [
      "+-----+\n",
      "|dummy|\n",
      "+-----+\n",
      "|    X|\n",
      "+-----+\n",
      "\n"
     ]
    }
   ],
   "source": [
    "dual.select($\"dummy\").show"
   ]
  },
  {
   "cell_type": "code",
   "execution_count": 15,
   "metadata": {},
   "outputs": [
    {
     "name": "stdout",
     "output_type": "stream",
     "text": [
      "+--------+\n",
      "|order_id|\n",
      "+--------+\n",
      "|       1|\n",
      "|       2|\n",
      "|       3|\n",
      "|       4|\n",
      "|       5|\n",
      "|       6|\n",
      "|       7|\n",
      "|       8|\n",
      "|       9|\n",
      "|      10|\n",
      "|      11|\n",
      "|      12|\n",
      "|      13|\n",
      "|      14|\n",
      "|      15|\n",
      "|      16|\n",
      "|      17|\n",
      "|      18|\n",
      "|      19|\n",
      "|      20|\n",
      "+--------+\n",
      "only showing top 20 rows\n",
      "\n"
     ]
    },
    {
     "data": {
      "text/plain": [
       "orders = [order_customer_id: bigint, order_date: string ... 2 more fields]\n"
      ]
     },
     "metadata": {},
     "output_type": "display_data",
     "source": "user"
    },
    {
     "data": {
      "text/plain": [
       "lastException: Throwable = null\n"
      ]
     },
     "metadata": {},
     "output_type": "display_data",
     "source": "user"
    },
    {
     "data": {
      "text/plain": [
       "[order_customer_id: bigint, order_date: string ... 2 more fields]"
      ]
     },
     "execution_count": 15,
     "metadata": {},
     "output_type": "execute_result"
    }
   ],
   "source": [
    "val orders = spark.read.json(\"/public/retail_db_json/orders\")\n",
    "orders.select(\"order_id\").show"
   ]
  },
  {
   "cell_type": "markdown",
   "metadata": {},
   "source": [
    "Below operation will look for column by name order_id2 and it will fail as our data frame does not have column with that name\n",
    "\n",
    "orders.select(\"order_id\" + 2).show"
   ]
  },
  {
   "cell_type": "code",
   "execution_count": 19,
   "metadata": {},
   "outputs": [
    {
     "name": "stdout",
     "output_type": "stream",
     "text": [
      "+--------------+\n",
      "|(order_id + 2)|\n",
      "+--------------+\n",
      "|             3|\n",
      "|             4|\n",
      "|             5|\n",
      "|             6|\n",
      "|             7|\n",
      "|             8|\n",
      "|             9|\n",
      "|            10|\n",
      "|            11|\n",
      "|            12|\n",
      "|            13|\n",
      "|            14|\n",
      "|            15|\n",
      "|            16|\n",
      "|            17|\n",
      "|            18|\n",
      "|            19|\n",
      "|            20|\n",
      "|            21|\n",
      "|            22|\n",
      "+--------------+\n",
      "only showing top 20 rows\n",
      "\n"
     ]
    }
   ],
   "source": [
    "//This will add 2 to each value in order_id\n",
    "orders.select(col(\"order_id\") + 2).show"
   ]
  },
  {
   "cell_type": "code",
   "execution_count": 22,
   "metadata": {},
   "outputs": [
    {
     "name": "stdout",
     "output_type": "stream",
     "text": [
      "+-------------------+\n",
      "|upper(order_status)|\n",
      "+-------------------+\n",
      "|             CLOSED|\n",
      "|    PENDING_PAYMENT|\n",
      "|           COMPLETE|\n",
      "|             CLOSED|\n",
      "|           COMPLETE|\n",
      "|           COMPLETE|\n",
      "|           COMPLETE|\n",
      "|         PROCESSING|\n",
      "|    PENDING_PAYMENT|\n",
      "|    PENDING_PAYMENT|\n",
      "|     PAYMENT_REVIEW|\n",
      "|             CLOSED|\n",
      "|    PENDING_PAYMENT|\n",
      "|         PROCESSING|\n",
      "|           COMPLETE|\n",
      "|    PENDING_PAYMENT|\n",
      "|           COMPLETE|\n",
      "|             CLOSED|\n",
      "|    PENDING_PAYMENT|\n",
      "|         PROCESSING|\n",
      "+-------------------+\n",
      "only showing top 20 rows\n",
      "\n"
     ]
    }
   ],
   "source": [
    "orders.select(upper($\"order_status\")).show"
   ]
  },
  {
   "cell_type": "code",
   "execution_count": 23,
   "metadata": {},
   "outputs": [
    {
     "name": "stdout",
     "output_type": "stream",
     "text": [
      "+-------------------+\n",
      "|lower(order_status)|\n",
      "+-------------------+\n",
      "|             closed|\n",
      "|    pending_payment|\n",
      "|           complete|\n",
      "|             closed|\n",
      "|           complete|\n",
      "|           complete|\n",
      "|           complete|\n",
      "|         processing|\n",
      "|    pending_payment|\n",
      "|    pending_payment|\n",
      "|     payment_review|\n",
      "|             closed|\n",
      "|    pending_payment|\n",
      "|         processing|\n",
      "|           complete|\n",
      "|    pending_payment|\n",
      "|           complete|\n",
      "|             closed|\n",
      "|    pending_payment|\n",
      "|         processing|\n",
      "+-------------------+\n",
      "only showing top 20 rows\n",
      "\n"
     ]
    }
   ],
   "source": [
    "orders.select(lower($\"order_status\")).show"
   ]
  },
  {
   "cell_type": "code",
   "execution_count": 24,
   "metadata": {},
   "outputs": [
    {
     "name": "stdout",
     "output_type": "stream",
     "text": [
      "+---------------------+\n",
      "|initcap(order_status)|\n",
      "+---------------------+\n",
      "|               Closed|\n",
      "|      Pending_payment|\n",
      "|             Complete|\n",
      "|               Closed|\n",
      "|             Complete|\n",
      "|             Complete|\n",
      "|             Complete|\n",
      "|           Processing|\n",
      "|      Pending_payment|\n",
      "|      Pending_payment|\n",
      "|       Payment_review|\n",
      "|               Closed|\n",
      "|      Pending_payment|\n",
      "|           Processing|\n",
      "|             Complete|\n",
      "|      Pending_payment|\n",
      "|             Complete|\n",
      "|               Closed|\n",
      "|      Pending_payment|\n",
      "|           Processing|\n",
      "+---------------------+\n",
      "only showing top 20 rows\n",
      "\n"
     ]
    }
   ],
   "source": [
    "orders.select(initcap($\"order_status\")).show"
   ]
  },
  {
   "cell_type": "markdown",
   "metadata": {},
   "source": [
    "### String Manipulation Functions\n",
    "\n",
    "Let us go through some of the important functions using which we can manipulate strings. We should spend enough time to understand how to manipulate strings using available functions.\n",
    "\n",
    "* Case conversion functions – lower, upper, initcap\n",
    "* Trim functions – trim, rtrim, ltrim\n",
    "* Padding functions – lpad, rpad\n",
    "* Typecasting – we can use Hive function cast as part of selectExpr to change the data type of data to its original type (eg: date might be a string, but we can extract year part and convert into an integer)\n",
    "* getting length\n",
    "\n",
    "**Extracting Data**\n",
    "\n",
    "Let us see how we can extract data from the fields of Data Frame.\n",
    "\n",
    "* tracting data from fixed length records – substring\n",
    "* tracting data from variable length records – split"
   ]
  },
  {
   "cell_type": "code",
   "execution_count": 26,
   "metadata": {},
   "outputs": [
    {
     "name": "stdout",
     "output_type": "stream",
     "text": [
      "+--------+\n",
      "|order_id|\n",
      "+--------+\n",
      "|       1|\n",
      "|       2|\n",
      "|       3|\n",
      "|       4|\n",
      "|       5|\n",
      "|       6|\n",
      "|       7|\n",
      "|       8|\n",
      "|       9|\n",
      "|      10|\n",
      "|      11|\n",
      "|      12|\n",
      "|      13|\n",
      "|      14|\n",
      "|      15|\n",
      "|      16|\n",
      "|      17|\n",
      "|      18|\n",
      "|      19|\n",
      "|      20|\n",
      "+--------+\n",
      "only showing top 20 rows\n",
      "\n"
     ]
    },
    {
     "data": {
      "text/plain": [
       "orders = [order_customer_id: bigint, order_date: string ... 2 more fields]\n"
      ]
     },
     "metadata": {},
     "output_type": "display_data",
     "source": "user"
    },
    {
     "data": {
      "text/plain": [
       "lastException: Throwable = null\n"
      ]
     },
     "metadata": {},
     "output_type": "display_data",
     "source": "user"
    },
    {
     "data": {
      "text/plain": [
       "[order_customer_id: bigint, order_date: string ... 2 more fields]"
      ]
     },
     "execution_count": 26,
     "metadata": {},
     "output_type": "execute_result"
    }
   ],
   "source": [
    "val orders = spark.read.json(\"/public/retail_db_json/orders\")\n",
    "orders.select(\"order_id\").show"
   ]
  },
  {
   "cell_type": "code",
   "execution_count": 27,
   "metadata": {},
   "outputs": [
    {
     "name": "stdout",
     "output_type": "stream",
     "text": [
      "+-------------------+\n",
      "|upper(order_status)|\n",
      "+-------------------+\n",
      "|             CLOSED|\n",
      "|    PENDING_PAYMENT|\n",
      "|           COMPLETE|\n",
      "|             CLOSED|\n",
      "|           COMPLETE|\n",
      "|           COMPLETE|\n",
      "|           COMPLETE|\n",
      "|         PROCESSING|\n",
      "|    PENDING_PAYMENT|\n",
      "|    PENDING_PAYMENT|\n",
      "|     PAYMENT_REVIEW|\n",
      "|             CLOSED|\n",
      "|    PENDING_PAYMENT|\n",
      "|         PROCESSING|\n",
      "|           COMPLETE|\n",
      "|    PENDING_PAYMENT|\n",
      "|           COMPLETE|\n",
      "|             CLOSED|\n",
      "|    PENDING_PAYMENT|\n",
      "|         PROCESSING|\n",
      "+-------------------+\n",
      "only showing top 20 rows\n",
      "\n"
     ]
    }
   ],
   "source": [
    "orders.select(upper($\"order_status\")).show"
   ]
  },
  {
   "cell_type": "code",
   "execution_count": 28,
   "metadata": {},
   "outputs": [
    {
     "name": "stdout",
     "output_type": "stream",
     "text": [
      "+-------------------+\n",
      "|lower(order_status)|\n",
      "+-------------------+\n",
      "|             closed|\n",
      "|    pending_payment|\n",
      "|           complete|\n",
      "|             closed|\n",
      "|           complete|\n",
      "|           complete|\n",
      "|           complete|\n",
      "|         processing|\n",
      "|    pending_payment|\n",
      "|    pending_payment|\n",
      "|     payment_review|\n",
      "|             closed|\n",
      "|    pending_payment|\n",
      "|         processing|\n",
      "|           complete|\n",
      "|    pending_payment|\n",
      "|           complete|\n",
      "|             closed|\n",
      "|    pending_payment|\n",
      "|         processing|\n",
      "+-------------------+\n",
      "only showing top 20 rows\n",
      "\n"
     ]
    }
   ],
   "source": [
    "orders.select(lower($\"order_status\")).show"
   ]
  },
  {
   "cell_type": "code",
   "execution_count": 29,
   "metadata": {},
   "outputs": [
    {
     "name": "stdout",
     "output_type": "stream",
     "text": [
      "+---------------------+\n",
      "|initcap(order_status)|\n",
      "+---------------------+\n",
      "|               Closed|\n",
      "|      Pending_payment|\n",
      "|             Complete|\n",
      "|               Closed|\n",
      "|             Complete|\n",
      "|             Complete|\n",
      "|             Complete|\n",
      "|           Processing|\n",
      "|      Pending_payment|\n",
      "|      Pending_payment|\n",
      "|       Payment_review|\n",
      "|               Closed|\n",
      "|      Pending_payment|\n",
      "|           Processing|\n",
      "|             Complete|\n",
      "|      Pending_payment|\n",
      "|             Complete|\n",
      "|               Closed|\n",
      "|      Pending_payment|\n",
      "|           Processing|\n",
      "+---------------------+\n",
      "only showing top 20 rows\n",
      "\n"
     ]
    }
   ],
   "source": [
    "orders.select(initcap($\"order_status\")).show"
   ]
  },
  {
   "cell_type": "code",
   "execution_count": 30,
   "metadata": {},
   "outputs": [
    {
     "data": {
      "text/plain": [
       "dual = [dummy: string]\n"
      ]
     },
     "metadata": {},
     "output_type": "display_data",
     "source": "user"
    },
    {
     "data": {
      "text/plain": [
       "[dummy: string]"
      ]
     },
     "execution_count": 30,
     "metadata": {},
     "output_type": "execute_result"
    }
   ],
   "source": [
    "// trimming unnecessary characters\n",
    "val dual = Seq(\"          X       \").toDF(\"dummy\")"
   ]
  },
  {
   "cell_type": "code",
   "execution_count": 31,
   "metadata": {},
   "outputs": [
    {
     "name": "stdout",
     "output_type": "stream",
     "text": [
      "+-----------+\n",
      "|trim(dummy)|\n",
      "+-----------+\n",
      "|          X|\n",
      "+-----------+\n",
      "\n"
     ]
    }
   ],
   "source": [
    "dual.select(trim($\"dummy\")).show"
   ]
  },
  {
   "cell_type": "code",
   "execution_count": 32,
   "metadata": {},
   "outputs": [
    {
     "name": "stdout",
     "output_type": "stream",
     "text": [
      "+-------------------+\n",
      "|length(trim(dummy))|\n",
      "+-------------------+\n",
      "|                  1|\n",
      "+-------------------+\n",
      "\n"
     ]
    }
   ],
   "source": [
    "dual.select(length(trim($\"dummy\"))).show"
   ]
  },
  {
   "cell_type": "code",
   "execution_count": 33,
   "metadata": {},
   "outputs": [
    {
     "name": "stdout",
     "output_type": "stream",
     "text": [
      "+--------------+\n",
      "|trim(dummy,  )|\n",
      "+--------------+\n",
      "|             X|\n",
      "+--------------+\n",
      "\n"
     ]
    }
   ],
   "source": [
    "dual.select(trim($\"dummy\", \" \")).show"
   ]
  },
  {
   "cell_type": "code",
   "execution_count": 34,
   "metadata": {},
   "outputs": [
    {
     "name": "stdout",
     "output_type": "stream",
     "text": [
      "+-----------------+\n",
      "|lpad(dummy, 2, 0)|\n",
      "+-----------------+\n",
      "|               07|\n",
      "+-----------------+\n",
      "\n"
     ]
    },
    {
     "data": {
      "text/plain": [
       "dual = [dummy: int]\n"
      ]
     },
     "metadata": {},
     "output_type": "display_data",
     "source": "user"
    },
    {
     "data": {
      "text/plain": [
       "[dummy: int]"
      ]
     },
     "execution_count": 34,
     "metadata": {},
     "output_type": "execute_result"
    }
   ],
   "source": [
    "val dual = Seq(7).toDF(\"dummy\")\n",
    "dual.select(lpad($\"dummy\", 2, \"0\")).show"
   ]
  },
  {
   "cell_type": "code",
   "execution_count": 35,
   "metadata": {},
   "outputs": [
    {
     "name": "stdout",
     "output_type": "stream",
     "text": [
      "+-----------------+\n",
      "|lpad(dummy, 2, 0)|\n",
      "+-----------------+\n",
      "|               10|\n",
      "+-----------------+\n",
      "\n"
     ]
    },
    {
     "data": {
      "text/plain": [
       "dual = [dummy: int]\n"
      ]
     },
     "metadata": {},
     "output_type": "display_data",
     "source": "user"
    },
    {
     "data": {
      "text/plain": [
       "[dummy: int]"
      ]
     },
     "execution_count": 35,
     "metadata": {},
     "output_type": "execute_result"
    }
   ],
   "source": [
    "val dual = Seq(10).toDF(\"dummy\")\n",
    "dual.select(lpad($\"dummy\", 2, \"0\")).show"
   ]
  },
  {
   "cell_type": "code",
   "execution_count": 36,
   "metadata": {},
   "outputs": [
    {
     "name": "stdout",
     "output_type": "stream",
     "text": [
      "+---------------------------+\n",
      "|substring(order_date, 1, 4)|\n",
      "+---------------------------+\n",
      "|                       2013|\n",
      "|                       2013|\n",
      "|                       2013|\n",
      "|                       2013|\n",
      "|                       2013|\n",
      "|                       2013|\n",
      "|                       2013|\n",
      "|                       2013|\n",
      "|                       2013|\n",
      "|                       2013|\n",
      "|                       2013|\n",
      "|                       2013|\n",
      "|                       2013|\n",
      "|                       2013|\n",
      "|                       2013|\n",
      "|                       2013|\n",
      "|                       2013|\n",
      "|                       2013|\n",
      "|                       2013|\n",
      "|                       2013|\n",
      "+---------------------------+\n",
      "only showing top 20 rows\n",
      "\n"
     ]
    },
    {
     "data": {
      "text/plain": [
       "orders = [order_customer_id: bigint, order_date: string ... 2 more fields]\n"
      ]
     },
     "metadata": {},
     "output_type": "display_data",
     "source": "user"
    },
    {
     "data": {
      "text/plain": [
       "[order_customer_id: bigint, order_date: string ... 2 more fields]"
      ]
     },
     "execution_count": 36,
     "metadata": {},
     "output_type": "execute_result"
    }
   ],
   "source": [
    "val orders = spark.read.json(\"/public/retail_db_json/orders\")\n",
    "orders.select(substring($\"order_date\", 1, 4)).show"
   ]
  },
  {
   "cell_type": "code",
   "execution_count": 37,
   "metadata": {},
   "outputs": [
    {
     "name": "stdout",
     "output_type": "stream",
     "text": [
      "+--------+--------------------+-----------------+---------------+\n",
      "|order_id|          order_date|order_customer_id|   order_status|\n",
      "+--------+--------------------+-----------------+---------------+\n",
      "|       1|2013-07-25 00:00:...|            11599|         CLOSED|\n",
      "|       2|2013-07-25 00:00:...|              256|PENDING_PAYMENT|\n",
      "|       3|2013-07-25 00:00:...|            12111|       COMPLETE|\n",
      "|       4|2013-07-25 00:00:...|             8827|         CLOSED|\n",
      "|       5|2013-07-25 00:00:...|            11318|       COMPLETE|\n",
      "|       6|2013-07-25 00:00:...|             7130|       COMPLETE|\n",
      "|       7|2013-07-25 00:00:...|             4530|       COMPLETE|\n",
      "|       8|2013-07-25 00:00:...|             2911|     PROCESSING|\n",
      "|       9|2013-07-25 00:00:...|             5657|PENDING_PAYMENT|\n",
      "|      10|2013-07-25 00:00:...|             5648|PENDING_PAYMENT|\n",
      "|      11|2013-07-25 00:00:...|              918| PAYMENT_REVIEW|\n",
      "|      12|2013-07-25 00:00:...|             1837|         CLOSED|\n",
      "|      13|2013-07-25 00:00:...|             9149|PENDING_PAYMENT|\n",
      "|      14|2013-07-25 00:00:...|             9842|     PROCESSING|\n",
      "|      15|2013-07-25 00:00:...|             2568|       COMPLETE|\n",
      "|      16|2013-07-25 00:00:...|             7276|PENDING_PAYMENT|\n",
      "|      17|2013-07-25 00:00:...|             2667|       COMPLETE|\n",
      "|      18|2013-07-25 00:00:...|             1205|         CLOSED|\n",
      "|      19|2013-07-25 00:00:...|             9488|PENDING_PAYMENT|\n",
      "|      20|2013-07-25 00:00:...|             9198|     PROCESSING|\n",
      "+--------+--------------------+-----------------+---------------+\n",
      "only showing top 20 rows\n",
      "\n"
     ]
    },
    {
     "data": {
      "text/plain": [
       "orders = [value: string]\n"
      ]
     },
     "metadata": {},
     "output_type": "display_data",
     "source": "user"
    },
    {
     "data": {
      "text/plain": [
       "[value: string]"
      ]
     },
     "execution_count": 37,
     "metadata": {},
     "output_type": "execute_result"
    }
   ],
   "source": [
    "// Using split\n",
    "// Read text data using spark.read.text\n",
    "// Creates Data Frame using single field with name value\n",
    "val orders = spark.read.text(\"/public/retail_db/orders\")\n",
    "orders.select(split($\"value\", \",\")(0).alias(\"order_id\"),\n",
    "              split($\"value\", \",\")(1).alias(\"order_date\"),\n",
    "              split($\"value\", \",\")(2).alias(\"order_customer_id\"),\n",
    "              split($\"value\", \",\")(3).alias(\"order_status\")\n",
    "             ).show"
   ]
  },
  {
   "cell_type": "code",
   "execution_count": 38,
   "metadata": {},
   "outputs": [
    {
     "name": "stdout",
     "output_type": "stream",
     "text": [
      "+---------------------------+\n",
      "|substring(order_date, 1, 4)|\n",
      "+---------------------------+\n",
      "|                       2013|\n",
      "|                       2013|\n",
      "|                       2013|\n",
      "|                       2013|\n",
      "|                       2013|\n",
      "|                       2013|\n",
      "|                       2013|\n",
      "|                       2013|\n",
      "|                       2013|\n",
      "|                       2013|\n",
      "|                       2013|\n",
      "|                       2013|\n",
      "|                       2013|\n",
      "|                       2013|\n",
      "|                       2013|\n",
      "|                       2013|\n",
      "|                       2013|\n",
      "|                       2013|\n",
      "|                       2013|\n",
      "|                       2013|\n",
      "+---------------------------+\n",
      "only showing top 20 rows\n",
      "\n"
     ]
    },
    {
     "data": {
      "text/plain": [
       "orders = [order_customer_id: bigint, order_date: string ... 2 more fields]\n"
      ]
     },
     "metadata": {},
     "output_type": "display_data",
     "source": "user"
    },
    {
     "data": {
      "text/plain": [
       "[order_customer_id: bigint, order_date: string ... 2 more fields]"
      ]
     },
     "execution_count": 38,
     "metadata": {},
     "output_type": "execute_result"
    }
   ],
   "source": [
    "\n",
    "val orders = spark.read.json(\"/public/retail_db_json/orders\")\n",
    "orders.select(substring($\"order_date\", 1, 4)).show"
   ]
  },
  {
   "cell_type": "code",
   "execution_count": 39,
   "metadata": {},
   "outputs": [
    {
     "name": "stdout",
     "output_type": "stream",
     "text": [
      "+----------+\n",
      "|order_year|\n",
      "+----------+\n",
      "|      2013|\n",
      "|      2013|\n",
      "|      2013|\n",
      "|      2013|\n",
      "|      2013|\n",
      "|      2013|\n",
      "|      2013|\n",
      "|      2013|\n",
      "|      2013|\n",
      "|      2013|\n",
      "|      2013|\n",
      "|      2013|\n",
      "|      2013|\n",
      "|      2013|\n",
      "|      2013|\n",
      "|      2013|\n",
      "|      2013|\n",
      "|      2013|\n",
      "|      2013|\n",
      "|      2013|\n",
      "+----------+\n",
      "only showing top 20 rows\n",
      "\n"
     ]
    }
   ],
   "source": [
    "orders.select(substring($\"order_date\", 1, 4).cast(\"int\").alias(\"order_year\")).show\n"
   ]
  },
  {
   "cell_type": "code",
   "execution_count": 40,
   "metadata": {},
   "outputs": [
    {
     "name": "stdout",
     "output_type": "stream",
     "text": [
      "+--------+--------------------+-----------------+---------------+\n",
      "|order_id|          order_date|order_customer_id|   order_status|\n",
      "+--------+--------------------+-----------------+---------------+\n",
      "|       1|2013-07-25 00:00:...|            11599|         CLOSED|\n",
      "|       2|2013-07-25 00:00:...|              256|PENDING_PAYMENT|\n",
      "|       3|2013-07-25 00:00:...|            12111|       COMPLETE|\n",
      "|       4|2013-07-25 00:00:...|             8827|         CLOSED|\n",
      "|       5|2013-07-25 00:00:...|            11318|       COMPLETE|\n",
      "|       6|2013-07-25 00:00:...|             7130|       COMPLETE|\n",
      "|       7|2013-07-25 00:00:...|             4530|       COMPLETE|\n",
      "|       8|2013-07-25 00:00:...|             2911|     PROCESSING|\n",
      "|       9|2013-07-25 00:00:...|             5657|PENDING_PAYMENT|\n",
      "|      10|2013-07-25 00:00:...|             5648|PENDING_PAYMENT|\n",
      "|      11|2013-07-25 00:00:...|              918| PAYMENT_REVIEW|\n",
      "|      12|2013-07-25 00:00:...|             1837|         CLOSED|\n",
      "|      13|2013-07-25 00:00:...|             9149|PENDING_PAYMENT|\n",
      "|      14|2013-07-25 00:00:...|             9842|     PROCESSING|\n",
      "|      15|2013-07-25 00:00:...|             2568|       COMPLETE|\n",
      "|      16|2013-07-25 00:00:...|             7276|PENDING_PAYMENT|\n",
      "|      17|2013-07-25 00:00:...|             2667|       COMPLETE|\n",
      "|      18|2013-07-25 00:00:...|             1205|         CLOSED|\n",
      "|      19|2013-07-25 00:00:...|             9488|PENDING_PAYMENT|\n",
      "|      20|2013-07-25 00:00:...|             9198|     PROCESSING|\n",
      "+--------+--------------------+-----------------+---------------+\n",
      "only showing top 20 rows\n",
      "\n"
     ]
    },
    {
     "data": {
      "text/plain": [
       "orders = [value: string]\n"
      ]
     },
     "metadata": {},
     "output_type": "display_data",
     "source": "user"
    },
    {
     "data": {
      "text/plain": [
       "[value: string]"
      ]
     },
     "execution_count": 40,
     "metadata": {},
     "output_type": "execute_result"
    }
   ],
   "source": [
    "val orders = spark.read.text(\"/public/retail_db/orders\")\n",
    "orders.select(split($\"value\", \",\")(0).cast(\"int\").alias(\"order_id\"),\n",
    "              split($\"value\", \",\")(1).alias(\"order_date\"),\n",
    "              split($\"value\", \",\")(2).cast(\"int\").alias(\"order_customer_id\"),\n",
    "              split($\"value\", \",\")(3).alias(\"order_status\")\n",
    "             ).show"
   ]
  },
  {
   "cell_type": "markdown",
   "metadata": {},
   "source": [
    "### Using withColumn\n",
    "\n",
    "We can use withColumn to transform data of a particular column within a Data Frame without impacting other columns.\n",
    "\n",
    "* If we want to select all the columns as well as new columns by applying some transformation logic, instead of specifying all the columns with select as well as expression – we can use withColumn.\n",
    "* All the other columns will remain untouched.\n",
    "* Syntax of withColumn – **df.withColumn(‘column_name’, EXPRESSION)**\n",
    "* In the below example we are going to discard the timestamp from order_date and then giving the column name as order_date. New Data Frame will still have 4 columns but order_date will have dates without timestamps."
   ]
  },
  {
   "cell_type": "code",
   "execution_count": 42,
   "metadata": {},
   "outputs": [
    {
     "name": "stdout",
     "output_type": "stream",
     "text": [
      "root\n",
      " |-- order_customer_id: long (nullable = true)\n",
      " |-- order_date: string (nullable = true)\n",
      " |-- order_id: long (nullable = true)\n",
      " |-- order_status: string (nullable = true)\n",
      "\n",
      "+-----------------+--------------------+--------+---------------+\n",
      "|order_customer_id|          order_date|order_id|   order_status|\n",
      "+-----------------+--------------------+--------+---------------+\n",
      "|            11599|2013-07-25 00:00:...|       1|         CLOSED|\n",
      "|              256|2013-07-25 00:00:...|       2|PENDING_PAYMENT|\n",
      "|            12111|2013-07-25 00:00:...|       3|       COMPLETE|\n",
      "|             8827|2013-07-25 00:00:...|       4|         CLOSED|\n",
      "|            11318|2013-07-25 00:00:...|       5|       COMPLETE|\n",
      "|             7130|2013-07-25 00:00:...|       6|       COMPLETE|\n",
      "|             4530|2013-07-25 00:00:...|       7|       COMPLETE|\n",
      "|             2911|2013-07-25 00:00:...|       8|     PROCESSING|\n",
      "|             5657|2013-07-25 00:00:...|       9|PENDING_PAYMENT|\n",
      "|             5648|2013-07-25 00:00:...|      10|PENDING_PAYMENT|\n",
      "|              918|2013-07-25 00:00:...|      11| PAYMENT_REVIEW|\n",
      "|             1837|2013-07-25 00:00:...|      12|         CLOSED|\n",
      "|             9149|2013-07-25 00:00:...|      13|PENDING_PAYMENT|\n",
      "|             9842|2013-07-25 00:00:...|      14|     PROCESSING|\n",
      "|             2568|2013-07-25 00:00:...|      15|       COMPLETE|\n",
      "|             7276|2013-07-25 00:00:...|      16|PENDING_PAYMENT|\n",
      "|             2667|2013-07-25 00:00:...|      17|       COMPLETE|\n",
      "|             1205|2013-07-25 00:00:...|      18|         CLOSED|\n",
      "|             9488|2013-07-25 00:00:...|      19|PENDING_PAYMENT|\n",
      "|             9198|2013-07-25 00:00:...|      20|     PROCESSING|\n",
      "+-----------------+--------------------+--------+---------------+\n",
      "only showing top 20 rows\n",
      "\n"
     ]
    },
    {
     "data": {
      "text/plain": [
       "orders = [order_customer_id: bigint, order_date: string ... 2 more fields]\n"
      ]
     },
     "metadata": {},
     "output_type": "display_data",
     "source": "user"
    },
    {
     "data": {
      "text/plain": [
       "[order_customer_id: bigint, order_date: string ... 2 more fields]"
      ]
     },
     "execution_count": 42,
     "metadata": {},
     "output_type": "execute_result"
    }
   ],
   "source": [
    "val orders = spark.read.json(\"/public/retail_db_json/orders\")\n",
    "orders.printSchema\n",
    "orders.show"
   ]
  },
  {
   "cell_type": "code",
   "execution_count": 43,
   "metadata": {},
   "outputs": [
    {
     "data": {
      "text/plain": [
       "ordersNew = [order_customer_id: bigint, order_date: string ... 3 more fields]\n"
      ]
     },
     "metadata": {},
     "output_type": "display_data",
     "source": "user"
    },
    {
     "data": {
      "text/plain": [
       "[order_customer_id: bigint, order_date: string ... 3 more fields]"
      ]
     },
     "execution_count": 43,
     "metadata": {},
     "output_type": "execute_result"
    }
   ],
   "source": [
    "val ordersNew = orders.\n",
    "  withColumn(\"order_year\", substring($\"order_date\", 1, 4)).\n",
    "  withColumn(\"order_date\", split($\"order_date\", \" \")(0))"
   ]
  },
  {
   "cell_type": "code",
   "execution_count": 44,
   "metadata": {},
   "outputs": [
    {
     "name": "stdout",
     "output_type": "stream",
     "text": [
      "+-----------------+--------------------+--------+---------------+----------+\n",
      "|order_customer_id|          order_date|order_id|   order_status|order_year|\n",
      "+-----------------+--------------------+--------+---------------+----------+\n",
      "|            11599|2013-07-25 00:00:...|       1|         CLOSED|      2013|\n",
      "|              256|2013-07-25 00:00:...|       2|PENDING_PAYMENT|      2013|\n",
      "|            12111|2013-07-25 00:00:...|       3|       COMPLETE|      2013|\n",
      "|             8827|2013-07-25 00:00:...|       4|         CLOSED|      2013|\n",
      "|            11318|2013-07-25 00:00:...|       5|       COMPLETE|      2013|\n",
      "|             7130|2013-07-25 00:00:...|       6|       COMPLETE|      2013|\n",
      "|             4530|2013-07-25 00:00:...|       7|       COMPLETE|      2013|\n",
      "|             2911|2013-07-25 00:00:...|       8|     PROCESSING|      2013|\n",
      "|             5657|2013-07-25 00:00:...|       9|PENDING_PAYMENT|      2013|\n",
      "|             5648|2013-07-25 00:00:...|      10|PENDING_PAYMENT|      2013|\n",
      "|              918|2013-07-25 00:00:...|      11| PAYMENT_REVIEW|      2013|\n",
      "|             1837|2013-07-25 00:00:...|      12|         CLOSED|      2013|\n",
      "|             9149|2013-07-25 00:00:...|      13|PENDING_PAYMENT|      2013|\n",
      "|             9842|2013-07-25 00:00:...|      14|     PROCESSING|      2013|\n",
      "|             2568|2013-07-25 00:00:...|      15|       COMPLETE|      2013|\n",
      "|             7276|2013-07-25 00:00:...|      16|PENDING_PAYMENT|      2013|\n",
      "|             2667|2013-07-25 00:00:...|      17|       COMPLETE|      2013|\n",
      "|             1205|2013-07-25 00:00:...|      18|         CLOSED|      2013|\n",
      "|             9488|2013-07-25 00:00:...|      19|PENDING_PAYMENT|      2013|\n",
      "|             9198|2013-07-25 00:00:...|      20|     PROCESSING|      2013|\n",
      "+-----------------+--------------------+--------+---------------+----------+\n",
      "only showing top 20 rows\n",
      "\n"
     ]
    }
   ],
   "source": [
    "orders.withColumn(\"order_year\", expr(\"cast(substr(order_date, 1, 4) as int)\")).show"
   ]
  },
  {
   "cell_type": "code",
   "execution_count": 45,
   "metadata": {},
   "outputs": [
    {
     "data": {
      "text/plain": [
       "Name: Unknown Error\n",
       "Message: <console>:1: error: ';' expected but ')' found.\n",
       "orders.withColumn(\"order_year\", substring($\"order_date\", 1, 4).cast(\"int\"))).show\n",
       "                                                                           ^\n",
       "\n",
       "StackTrace: "
      ]
     },
     "execution_count": 45,
     "metadata": {},
     "output_type": "execute_result"
    }
   ],
   "source": [
    "orders.withColumn(\"order_year\", substring($\"order_date\", 1, 4).cast(\"int\"))).show"
   ]
  },
  {
   "cell_type": "code",
   "execution_count": 46,
   "metadata": {},
   "outputs": [
    {
     "name": "stdout",
     "output_type": "stream",
     "text": [
      "+-----------------+--------------------+--------+---------------+\n",
      "|order_customer_id|          order_date|order_id|   order_status|\n",
      "+-----------------+--------------------+--------+---------------+\n",
      "|            11599|2013-07-25 00:00:...|       1|      COMPLETED|\n",
      "|              256|2013-07-25 00:00:...|       2|PENDING_PAYMENT|\n",
      "|            12111|2013-07-25 00:00:...|       3|      COMPLETED|\n",
      "|             8827|2013-07-25 00:00:...|       4|      COMPLETED|\n",
      "|            11318|2013-07-25 00:00:...|       5|      COMPLETED|\n",
      "|             7130|2013-07-25 00:00:...|       6|      COMPLETED|\n",
      "|             4530|2013-07-25 00:00:...|       7|      COMPLETED|\n",
      "|             2911|2013-07-25 00:00:...|       8|     PROCESSING|\n",
      "|             5657|2013-07-25 00:00:...|       9|PENDING_PAYMENT|\n",
      "|             5648|2013-07-25 00:00:...|      10|PENDING_PAYMENT|\n",
      "|              918|2013-07-25 00:00:...|      11| PAYMENT_REVIEW|\n",
      "|             1837|2013-07-25 00:00:...|      12|      COMPLETED|\n",
      "|             9149|2013-07-25 00:00:...|      13|PENDING_PAYMENT|\n",
      "|             9842|2013-07-25 00:00:...|      14|     PROCESSING|\n",
      "|             2568|2013-07-25 00:00:...|      15|      COMPLETED|\n",
      "|             7276|2013-07-25 00:00:...|      16|PENDING_PAYMENT|\n",
      "|             2667|2013-07-25 00:00:...|      17|      COMPLETED|\n",
      "|             1205|2013-07-25 00:00:...|      18|      COMPLETED|\n",
      "|             9488|2013-07-25 00:00:...|      19|PENDING_PAYMENT|\n",
      "|             9198|2013-07-25 00:00:...|      20|     PROCESSING|\n",
      "+-----------------+--------------------+--------+---------------+\n",
      "only showing top 20 rows\n",
      "\n"
     ]
    }
   ],
   "source": [
    "orders.\n",
    "  withColumn(\"order_status\", \n",
    "    expr(\"case when order_status in ('COMPLETE', 'CLOSED') \" + \n",
    "      \"then 'COMPLETED' else order_status end\")).\n",
    "  show"
   ]
  },
  {
   "cell_type": "code",
   "execution_count": 47,
   "metadata": {},
   "outputs": [
    {
     "name": "stdout",
     "output_type": "stream",
     "text": [
      "root\n",
      " |-- order_customer_id: long (nullable = true)\n",
      " |-- order_date: string (nullable = true)\n",
      " |-- order_id: long (nullable = true)\n",
      " |-- order_status: string (nullable = true)\n",
      " |-- order_year: string (nullable = true)\n",
      "\n"
     ]
    }
   ],
   "source": [
    "ordersNew.printSchema"
   ]
  },
  {
   "cell_type": "code",
   "execution_count": 48,
   "metadata": {},
   "outputs": [
    {
     "name": "stdout",
     "output_type": "stream",
     "text": [
      "+-----------------+----------+--------+---------------+----------+\n",
      "|order_customer_id|order_date|order_id|   order_status|order_year|\n",
      "+-----------------+----------+--------+---------------+----------+\n",
      "|            11599|2013-07-25|       1|         CLOSED|      2013|\n",
      "|              256|2013-07-25|       2|PENDING_PAYMENT|      2013|\n",
      "|            12111|2013-07-25|       3|       COMPLETE|      2013|\n",
      "|             8827|2013-07-25|       4|         CLOSED|      2013|\n",
      "|            11318|2013-07-25|       5|       COMPLETE|      2013|\n",
      "|             7130|2013-07-25|       6|       COMPLETE|      2013|\n",
      "|             4530|2013-07-25|       7|       COMPLETE|      2013|\n",
      "|             2911|2013-07-25|       8|     PROCESSING|      2013|\n",
      "|             5657|2013-07-25|       9|PENDING_PAYMENT|      2013|\n",
      "|             5648|2013-07-25|      10|PENDING_PAYMENT|      2013|\n",
      "|              918|2013-07-25|      11| PAYMENT_REVIEW|      2013|\n",
      "|             1837|2013-07-25|      12|         CLOSED|      2013|\n",
      "|             9149|2013-07-25|      13|PENDING_PAYMENT|      2013|\n",
      "|             9842|2013-07-25|      14|     PROCESSING|      2013|\n",
      "|             2568|2013-07-25|      15|       COMPLETE|      2013|\n",
      "|             7276|2013-07-25|      16|PENDING_PAYMENT|      2013|\n",
      "|             2667|2013-07-25|      17|       COMPLETE|      2013|\n",
      "|             1205|2013-07-25|      18|         CLOSED|      2013|\n",
      "|             9488|2013-07-25|      19|PENDING_PAYMENT|      2013|\n",
      "|             9198|2013-07-25|      20|     PROCESSING|      2013|\n",
      "+-----------------+----------+--------+---------------+----------+\n",
      "only showing top 20 rows\n",
      "\n"
     ]
    }
   ],
   "source": [
    "ordersNew.show"
   ]
  },
  {
   "cell_type": "markdown",
   "metadata": {},
   "source": [
    "### Using selectExpr\n",
    "\n",
    "selectExpr for advanced transformations like the **case when**.\n",
    "\n",
    "* Even though functions available on Data Frames are robust, sometimes we might have to use traditional SQL style approach while applying functions.\n",
    "* We can take care of it using selectExpr. Whatever functions we pass to selectExpr should follow Hive syntax. If we use split, we need to use [] to access elements from the array generated as result for the split.\n",
    "* We also have expr which works in similar fashion while using withColumn or while using select.\n",
    "* selectExpr(“EXPRESSION”) is alias for select(expr(“EXPRESSION”))"
   ]
  },
  {
   "cell_type": "code",
   "execution_count": 50,
   "metadata": {},
   "outputs": [
    {
     "name": "stdout",
     "output_type": "stream",
     "text": [
      "root\n",
      " |-- order_customer_id: long (nullable = true)\n",
      " |-- order_date: string (nullable = true)\n",
      " |-- order_id: long (nullable = true)\n",
      " |-- order_status: string (nullable = true)\n",
      "\n",
      "+-----------------+--------------------+--------+---------------+\n",
      "|order_customer_id|          order_date|order_id|   order_status|\n",
      "+-----------------+--------------------+--------+---------------+\n",
      "|            11599|2013-07-25 00:00:...|       1|         CLOSED|\n",
      "|              256|2013-07-25 00:00:...|       2|PENDING_PAYMENT|\n",
      "|            12111|2013-07-25 00:00:...|       3|       COMPLETE|\n",
      "|             8827|2013-07-25 00:00:...|       4|         CLOSED|\n",
      "|            11318|2013-07-25 00:00:...|       5|       COMPLETE|\n",
      "|             7130|2013-07-25 00:00:...|       6|       COMPLETE|\n",
      "|             4530|2013-07-25 00:00:...|       7|       COMPLETE|\n",
      "|             2911|2013-07-25 00:00:...|       8|     PROCESSING|\n",
      "|             5657|2013-07-25 00:00:...|       9|PENDING_PAYMENT|\n",
      "|             5648|2013-07-25 00:00:...|      10|PENDING_PAYMENT|\n",
      "|              918|2013-07-25 00:00:...|      11| PAYMENT_REVIEW|\n",
      "|             1837|2013-07-25 00:00:...|      12|         CLOSED|\n",
      "|             9149|2013-07-25 00:00:...|      13|PENDING_PAYMENT|\n",
      "|             9842|2013-07-25 00:00:...|      14|     PROCESSING|\n",
      "|             2568|2013-07-25 00:00:...|      15|       COMPLETE|\n",
      "|             7276|2013-07-25 00:00:...|      16|PENDING_PAYMENT|\n",
      "|             2667|2013-07-25 00:00:...|      17|       COMPLETE|\n",
      "|             1205|2013-07-25 00:00:...|      18|         CLOSED|\n",
      "|             9488|2013-07-25 00:00:...|      19|PENDING_PAYMENT|\n",
      "|             9198|2013-07-25 00:00:...|      20|     PROCESSING|\n",
      "+-----------------+--------------------+--------+---------------+\n",
      "only showing top 20 rows\n",
      "\n"
     ]
    },
    {
     "data": {
      "text/plain": [
       "orders = [order_customer_id: bigint, order_date: string ... 2 more fields]\n"
      ]
     },
     "metadata": {},
     "output_type": "display_data",
     "source": "user"
    },
    {
     "data": {
      "text/plain": [
       "[order_customer_id: bigint, order_date: string ... 2 more fields]"
      ]
     },
     "execution_count": 50,
     "metadata": {},
     "output_type": "execute_result"
    }
   ],
   "source": [
    "val orders = spark.read.json(\"/public/retail_db_json/orders\")\n",
    "orders.printSchema\n",
    "orders.show"
   ]
  },
  {
   "cell_type": "code",
   "execution_count": 51,
   "metadata": {},
   "outputs": [
    {
     "name": "stdout",
     "output_type": "stream",
     "text": [
      "+----------+\n",
      "|order_year|\n",
      "+----------+\n",
      "|      2013|\n",
      "|      2013|\n",
      "|      2013|\n",
      "|      2013|\n",
      "|      2013|\n",
      "|      2013|\n",
      "|      2013|\n",
      "|      2013|\n",
      "|      2013|\n",
      "|      2013|\n",
      "|      2013|\n",
      "|      2013|\n",
      "|      2013|\n",
      "|      2013|\n",
      "|      2013|\n",
      "|      2013|\n",
      "|      2013|\n",
      "|      2013|\n",
      "|      2013|\n",
      "|      2013|\n",
      "+----------+\n",
      "only showing top 20 rows\n",
      "\n"
     ]
    }
   ],
   "source": [
    "orders.selectExpr(\"cast(substr(order_date, 1, 4) as int) order_year\").show"
   ]
  },
  {
   "cell_type": "code",
   "execution_count": 52,
   "metadata": {},
   "outputs": [
    {
     "name": "stdout",
     "output_type": "stream",
     "text": [
      "+-----------------------------------------------------------------------------------+\n",
      "|CASE WHEN (order_status IN (COMPLETE, CLOSED)) THEN COMPLETED ELSE order_status END|\n",
      "+-----------------------------------------------------------------------------------+\n",
      "|                                                                          COMPLETED|\n",
      "|                                                                    PENDING_PAYMENT|\n",
      "|                                                                          COMPLETED|\n",
      "|                                                                          COMPLETED|\n",
      "|                                                                          COMPLETED|\n",
      "|                                                                          COMPLETED|\n",
      "|                                                                          COMPLETED|\n",
      "|                                                                         PROCESSING|\n",
      "|                                                                    PENDING_PAYMENT|\n",
      "|                                                                    PENDING_PAYMENT|\n",
      "|                                                                     PAYMENT_REVIEW|\n",
      "|                                                                          COMPLETED|\n",
      "|                                                                    PENDING_PAYMENT|\n",
      "|                                                                         PROCESSING|\n",
      "|                                                                          COMPLETED|\n",
      "|                                                                    PENDING_PAYMENT|\n",
      "|                                                                          COMPLETED|\n",
      "|                                                                          COMPLETED|\n",
      "|                                                                    PENDING_PAYMENT|\n",
      "|                                                                         PROCESSING|\n",
      "+-----------------------------------------------------------------------------------+\n",
      "only showing top 20 rows\n",
      "\n"
     ]
    }
   ],
   "source": [
    "orders.\n",
    "  selectExpr(\"case when order_status in ('COMPLETE', 'CLOSED') \" + \n",
    "    \"then 'COMPLETED' else order_status end\").show"
   ]
  },
  {
   "cell_type": "code",
   "execution_count": 53,
   "metadata": {},
   "outputs": [
    {
     "name": "stdout",
     "output_type": "stream",
     "text": [
      "+---------------+\n",
      "|   order_status|\n",
      "+---------------+\n",
      "|      COMPLETED|\n",
      "|PENDING_PAYMENT|\n",
      "|      COMPLETED|\n",
      "|      COMPLETED|\n",
      "|      COMPLETED|\n",
      "|      COMPLETED|\n",
      "|      COMPLETED|\n",
      "|     PROCESSING|\n",
      "|PENDING_PAYMENT|\n",
      "|PENDING_PAYMENT|\n",
      "| PAYMENT_REVIEW|\n",
      "|      COMPLETED|\n",
      "|PENDING_PAYMENT|\n",
      "|     PROCESSING|\n",
      "|      COMPLETED|\n",
      "|PENDING_PAYMENT|\n",
      "|      COMPLETED|\n",
      "|      COMPLETED|\n",
      "|PENDING_PAYMENT|\n",
      "|     PROCESSING|\n",
      "+---------------+\n",
      "only showing top 20 rows\n",
      "\n"
     ]
    }
   ],
   "source": [
    "orders.\n",
    "  selectExpr(\"case when order_status in ('COMPLETE', 'CLOSED') \" + \n",
    "    \"then 'COMPLETED' else order_status end order_status\").\n",
    "  show"
   ]
  },
  {
   "cell_type": "code",
   "execution_count": 54,
   "metadata": {},
   "outputs": [
    {
     "name": "stdout",
     "output_type": "stream",
     "text": [
      "+---------------+\n",
      "|   order_status|\n",
      "+---------------+\n",
      "|      COMPLETED|\n",
      "|PENDING_PAYMENT|\n",
      "|      COMPLETED|\n",
      "|      COMPLETED|\n",
      "|      COMPLETED|\n",
      "|      COMPLETED|\n",
      "|      COMPLETED|\n",
      "|     PROCESSING|\n",
      "|PENDING_PAYMENT|\n",
      "|PENDING_PAYMENT|\n",
      "| PAYMENT_REVIEW|\n",
      "|      COMPLETED|\n",
      "|PENDING_PAYMENT|\n",
      "|     PROCESSING|\n",
      "|      COMPLETED|\n",
      "|PENDING_PAYMENT|\n",
      "|      COMPLETED|\n",
      "|      COMPLETED|\n",
      "|PENDING_PAYMENT|\n",
      "|     PROCESSING|\n",
      "+---------------+\n",
      "only showing top 20 rows\n",
      "\n"
     ]
    }
   ],
   "source": [
    "orders.\n",
    "  select(expr(\"case when order_status in ('COMPLETE', 'CLOSED') \" + \n",
    "    \"then 'COMPLETED' else order_status end order_status\")).\n",
    "  show"
   ]
  },
  {
   "cell_type": "code",
   "execution_count": 55,
   "metadata": {},
   "outputs": [
    {
     "name": "stdout",
     "output_type": "stream",
     "text": [
      "+-----------------+--------------------+--------+---------------+\n",
      "|order_customer_id|          order_date|order_id|   order_status|\n",
      "+-----------------+--------------------+--------+---------------+\n",
      "|            11599|2013-07-25 00:00:...|       1|      COMPLETED|\n",
      "|              256|2013-07-25 00:00:...|       2|PENDING_PAYMENT|\n",
      "|            12111|2013-07-25 00:00:...|       3|      COMPLETED|\n",
      "|             8827|2013-07-25 00:00:...|       4|      COMPLETED|\n",
      "|            11318|2013-07-25 00:00:...|       5|      COMPLETED|\n",
      "|             7130|2013-07-25 00:00:...|       6|      COMPLETED|\n",
      "|             4530|2013-07-25 00:00:...|       7|      COMPLETED|\n",
      "|             2911|2013-07-25 00:00:...|       8|     PROCESSING|\n",
      "|             5657|2013-07-25 00:00:...|       9|PENDING_PAYMENT|\n",
      "|             5648|2013-07-25 00:00:...|      10|PENDING_PAYMENT|\n",
      "|              918|2013-07-25 00:00:...|      11| PAYMENT_REVIEW|\n",
      "|             1837|2013-07-25 00:00:...|      12|      COMPLETED|\n",
      "|             9149|2013-07-25 00:00:...|      13|PENDING_PAYMENT|\n",
      "|             9842|2013-07-25 00:00:...|      14|     PROCESSING|\n",
      "|             2568|2013-07-25 00:00:...|      15|      COMPLETED|\n",
      "|             7276|2013-07-25 00:00:...|      16|PENDING_PAYMENT|\n",
      "|             2667|2013-07-25 00:00:...|      17|      COMPLETED|\n",
      "|             1205|2013-07-25 00:00:...|      18|      COMPLETED|\n",
      "|             9488|2013-07-25 00:00:...|      19|PENDING_PAYMENT|\n",
      "|             9198|2013-07-25 00:00:...|      20|     PROCESSING|\n",
      "+-----------------+--------------------+--------+---------------+\n",
      "only showing top 20 rows\n",
      "\n"
     ]
    }
   ],
   "source": [
    "orders.\n",
    "  withColumn(\"order_status\", \n",
    "    expr(\"case when order_status in ('COMPLETE', 'CLOSED') \" + \n",
    "      \"then 'COMPLETED' else order_status end\")).\n",
    "  show"
   ]
  },
  {
   "cell_type": "markdown",
   "metadata": {},
   "source": [
    "### Date Manipulation Functions\n",
    "\n",
    "We also have to deal with dates very often. There are several functions which can be leveraged to manipulate dates.\n",
    "\n",
    "* Data arithmetic – date_add, date_sub, datediff, next_day, last_day, months_between, add_months\n",
    "* Getting the first of the month or year – trunc\n",
    "* Extracting information – dayofmonth, dayofyear, dayofweek, year, month\n",
    "* Formatting date – date_format\n",
    "* Typecasting – we can use the cast to convert data type of values of a particular column to its original type."
   ]
  },
  {
   "cell_type": "code",
   "execution_count": 56,
   "metadata": {},
   "outputs": [
    {
     "name": "stdout",
     "output_type": "stream",
     "text": [
      "+--------------+\n",
      "|current_date()|\n",
      "+--------------+\n",
      "|    2020-04-22|\n",
      "+--------------+\n",
      "\n"
     ]
    },
    {
     "data": {
      "text/plain": [
       "dual = [dummy: int]\n"
      ]
     },
     "metadata": {},
     "output_type": "display_data",
     "source": "user"
    },
    {
     "data": {
      "text/plain": [
       "[dummy: int]"
      ]
     },
     "execution_count": 56,
     "metadata": {},
     "output_type": "execute_result"
    }
   ],
   "source": [
    "val dual = Seq(10).toDF(\"dummy\")\n",
    "\n",
    "dual.select(current_date()).show"
   ]
  },
  {
   "cell_type": "code",
   "execution_count": 57,
   "metadata": {},
   "outputs": [
    {
     "name": "stdout",
     "output_type": "stream",
     "text": [
      "+--------------------+\n",
      "| current_timestamp()|\n",
      "+--------------------+\n",
      "|2020-04-22 18:09:...|\n",
      "+--------------------+\n",
      "\n"
     ]
    }
   ],
   "source": [
    "dual.select(current_timestamp()).show"
   ]
  },
  {
   "cell_type": "code",
   "execution_count": 58,
   "metadata": {},
   "outputs": [
    {
     "data": {
      "text/plain": [
       "[2020-04-22 18:09:19.88]"
      ]
     },
     "execution_count": 58,
     "metadata": {},
     "output_type": "execute_result"
    }
   ],
   "source": [
    "dual.select(current_timestamp()).first"
   ]
  },
  {
   "cell_type": "code",
   "execution_count": 59,
   "metadata": {},
   "outputs": [
    {
     "name": "stdout",
     "output_type": "stream",
     "text": [
      "+---------------------------+\n",
      "|date_add(current_date(), 3)|\n",
      "+---------------------------+\n",
      "|                 2020-04-25|\n",
      "+---------------------------+\n",
      "\n"
     ]
    }
   ],
   "source": [
    "dual.select(date_add(current_date, 3)).show"
   ]
  },
  {
   "cell_type": "code",
   "execution_count": 61,
   "metadata": {},
   "outputs": [
    {
     "data": {
      "text/plain": [
       "[2020-04-19]"
      ]
     },
     "execution_count": 61,
     "metadata": {},
     "output_type": "execute_result"
    }
   ],
   "source": [
    "dual.select(date_add(current_date, -3)).first"
   ]
  },
  {
   "cell_type": "code",
   "execution_count": 62,
   "metadata": {},
   "outputs": [
    {
     "data": {
      "text/plain": [
       "[2020-04-19]"
      ]
     },
     "execution_count": 62,
     "metadata": {},
     "output_type": "execute_result"
    }
   ],
   "source": [
    "dual.select(date_sub(current_date, 3)).first"
   ]
  },
  {
   "cell_type": "code",
   "execution_count": 63,
   "metadata": {},
   "outputs": [
    {
     "name": "stdout",
     "output_type": "stream",
     "text": [
      "+--------------------------------+\n",
      "|datediff(2018-07-25, 2018-06-15)|\n",
      "+--------------------------------+\n",
      "|                              40|\n",
      "+--------------------------------+\n",
      "\n"
     ]
    }
   ],
   "source": [
    "dual.\n",
    "  select(datediff(lit(\"2018-07-25\"), lit(\"2018-06-15\"))).\n",
    "  show"
   ]
  },
  {
   "cell_type": "code",
   "execution_count": 64,
   "metadata": {},
   "outputs": [
    {
     "data": {
      "text/plain": [
       "dual = [dummy: int]\n"
      ]
     },
     "metadata": {},
     "output_type": "display_data",
     "source": "user"
    },
    {
     "data": {
      "text/plain": [
       "[dummy: int]"
      ]
     },
     "execution_count": 64,
     "metadata": {},
     "output_type": "execute_result"
    }
   ],
   "source": [
    "val dual = Seq(10).toDF(\"dummy\")"
   ]
  },
  {
   "cell_type": "code",
   "execution_count": 65,
   "metadata": {},
   "outputs": [
    {
     "data": {
      "text/plain": [
       "[2020-04-01]"
      ]
     },
     "execution_count": 65,
     "metadata": {},
     "output_type": "execute_result"
    }
   ],
   "source": [
    "dual.select(trunc(current_date, \"mm\")).first"
   ]
  },
  {
   "cell_type": "code",
   "execution_count": 66,
   "metadata": {},
   "outputs": [
    {
     "data": {
      "text/plain": [
       "[2020-01-01]"
      ]
     },
     "execution_count": 66,
     "metadata": {},
     "output_type": "execute_result"
    }
   ],
   "source": [
    "dual.select(trunc(current_date, \"yy\")).first"
   ]
  },
  {
   "cell_type": "code",
   "execution_count": 67,
   "metadata": {},
   "outputs": [
    {
     "name": "stdout",
     "output_type": "stream",
     "text": [
      "+-----------------+--------------------+--------+---------------+\n",
      "|order_customer_id|          order_date|order_id|   order_status|\n",
      "+-----------------+--------------------+--------+---------------+\n",
      "|             7079|2014-07-01 00:00:...|   54004|       COMPLETE|\n",
      "|             3867|2014-07-01 00:00:...|   54005|PENDING_PAYMENT|\n",
      "|             6547|2014-07-01 00:00:...|   54006|PENDING_PAYMENT|\n",
      "|            11772|2014-07-01 00:00:...|   54007|         CLOSED|\n",
      "|            10453|2014-07-01 00:00:...|   54008|PENDING_PAYMENT|\n",
      "|             3971|2014-07-01 00:00:...|   54009|       COMPLETE|\n",
      "|             4812|2014-07-01 00:00:...|   54010|       COMPLETE|\n",
      "|             3933|2014-07-01 00:00:...|   54011|        PENDING|\n",
      "|            10070|2014-07-01 00:00:...|   54012|        PENDING|\n",
      "|             3021|2014-07-01 00:00:...|   54013|        PENDING|\n",
      "|             3666|2014-07-01 00:00:...|   54014|       CANCELED|\n",
      "|            11402|2014-07-01 00:00:...|   54015|       COMPLETE|\n",
      "|            11211|2014-07-01 00:00:...|   54016|       COMPLETE|\n",
      "|             6267|2014-07-01 00:00:...|   54017|       COMPLETE|\n",
      "|             4034|2014-07-01 00:00:...|   54018|         CLOSED|\n",
      "|             3264|2014-07-01 00:00:...|   54019|SUSPECTED_FRAUD|\n",
      "|             3175|2014-07-01 00:00:...|   54020|         CLOSED|\n",
      "|             8888|2014-07-01 00:00:...|   54021|PENDING_PAYMENT|\n",
      "|              445|2014-07-01 00:00:...|   54022|SUSPECTED_FRAUD|\n",
      "|             1666|2014-07-01 00:00:...|   54023|SUSPECTED_FRAUD|\n",
      "+-----------------+--------------------+--------+---------------+\n",
      "only showing top 20 rows\n",
      "\n"
     ]
    },
    {
     "data": {
      "text/plain": [
       "orders = [order_customer_id: bigint, order_date: string ... 2 more fields]\n"
      ]
     },
     "metadata": {},
     "output_type": "display_data",
     "source": "user"
    },
    {
     "data": {
      "text/plain": [
       "[order_customer_id: bigint, order_date: string ... 2 more fields]"
      ]
     },
     "execution_count": 67,
     "metadata": {},
     "output_type": "execute_result"
    }
   ],
   "source": [
    "val orders = spark.read.json(\"/public/retail_db_json/orders\")\n",
    "orders.where(\"order_date > trunc('2014-07-01', 'mm')\").show"
   ]
  },
  {
   "cell_type": "code",
   "execution_count": 68,
   "metadata": {},
   "outputs": [
    {
     "name": "stdout",
     "output_type": "stream",
     "text": [
      "+-----------------+--------------------+--------+---------------+\n",
      "|order_customer_id|          order_date|order_id|   order_status|\n",
      "+-----------------+--------------------+--------+---------------+\n",
      "|             7079|2014-07-01 00:00:...|   54004|       COMPLETE|\n",
      "|             3867|2014-07-01 00:00:...|   54005|PENDING_PAYMENT|\n",
      "|             6547|2014-07-01 00:00:...|   54006|PENDING_PAYMENT|\n",
      "|            11772|2014-07-01 00:00:...|   54007|         CLOSED|\n",
      "|            10453|2014-07-01 00:00:...|   54008|PENDING_PAYMENT|\n",
      "|             3971|2014-07-01 00:00:...|   54009|       COMPLETE|\n",
      "|             4812|2014-07-01 00:00:...|   54010|       COMPLETE|\n",
      "|             3933|2014-07-01 00:00:...|   54011|        PENDING|\n",
      "|            10070|2014-07-01 00:00:...|   54012|        PENDING|\n",
      "|             3021|2014-07-01 00:00:...|   54013|        PENDING|\n",
      "|             3666|2014-07-01 00:00:...|   54014|       CANCELED|\n",
      "|            11402|2014-07-01 00:00:...|   54015|       COMPLETE|\n",
      "|            11211|2014-07-01 00:00:...|   54016|       COMPLETE|\n",
      "|             6267|2014-07-01 00:00:...|   54017|       COMPLETE|\n",
      "|             4034|2014-07-01 00:00:...|   54018|         CLOSED|\n",
      "|             3264|2014-07-01 00:00:...|   54019|SUSPECTED_FRAUD|\n",
      "|             3175|2014-07-01 00:00:...|   54020|         CLOSED|\n",
      "|             8888|2014-07-01 00:00:...|   54021|PENDING_PAYMENT|\n",
      "|              445|2014-07-01 00:00:...|   54022|SUSPECTED_FRAUD|\n",
      "|             1666|2014-07-01 00:00:...|   54023|SUSPECTED_FRAUD|\n",
      "+-----------------+--------------------+--------+---------------+\n",
      "only showing top 20 rows\n",
      "\n"
     ]
    }
   ],
   "source": [
    "orders.where($\"order_date\" > trunc(lit(\"2014-07-01\"), \"mm\")).show"
   ]
  },
  {
   "cell_type": "code",
   "execution_count": 69,
   "metadata": {},
   "outputs": [
    {
     "data": {
      "text/plain": [
       "[2020-04-22]"
      ]
     },
     "execution_count": 69,
     "metadata": {},
     "output_type": "execute_result"
    }
   ],
   "source": [
    "dual.select(current_date()).first"
   ]
  },
  {
   "cell_type": "code",
   "execution_count": 70,
   "metadata": {},
   "outputs": [
    {
     "data": {
      "text/plain": [
       "[2020]"
      ]
     },
     "execution_count": 70,
     "metadata": {},
     "output_type": "execute_result"
    }
   ],
   "source": [
    "dual.select(year(current_date())).first"
   ]
  },
  {
   "cell_type": "code",
   "execution_count": 71,
   "metadata": {},
   "outputs": [
    {
     "data": {
      "text/plain": [
       "[4]"
      ]
     },
     "execution_count": 71,
     "metadata": {},
     "output_type": "execute_result"
    }
   ],
   "source": [
    "dual.select(month(current_date())).first"
   ]
  },
  {
   "cell_type": "code",
   "execution_count": 72,
   "metadata": {},
   "outputs": [
    {
     "data": {
      "text/plain": [
       "[113]"
      ]
     },
     "execution_count": 72,
     "metadata": {},
     "output_type": "execute_result"
    }
   ],
   "source": [
    "dual.select(dayofyear(current_date())).first"
   ]
  },
  {
   "cell_type": "code",
   "execution_count": 73,
   "metadata": {},
   "outputs": [
    {
     "name": "stdout",
     "output_type": "stream",
     "text": [
      "+-----------------+--------------------+--------+---------------+-----------+\n",
      "|order_customer_id|          order_date|order_id|   order_status|order_month|\n",
      "+-----------------+--------------------+--------+---------------+-----------+\n",
      "|            11599|2013-07-25 00:00:...|       1|         CLOSED|     201307|\n",
      "|              256|2013-07-25 00:00:...|       2|PENDING_PAYMENT|     201307|\n",
      "|            12111|2013-07-25 00:00:...|       3|       COMPLETE|     201307|\n",
      "|             8827|2013-07-25 00:00:...|       4|         CLOSED|     201307|\n",
      "|            11318|2013-07-25 00:00:...|       5|       COMPLETE|     201307|\n",
      "|             7130|2013-07-25 00:00:...|       6|       COMPLETE|     201307|\n",
      "|             4530|2013-07-25 00:00:...|       7|       COMPLETE|     201307|\n",
      "|             2911|2013-07-25 00:00:...|       8|     PROCESSING|     201307|\n",
      "|             5657|2013-07-25 00:00:...|       9|PENDING_PAYMENT|     201307|\n",
      "|             5648|2013-07-25 00:00:...|      10|PENDING_PAYMENT|     201307|\n",
      "|              918|2013-07-25 00:00:...|      11| PAYMENT_REVIEW|     201307|\n",
      "|             1837|2013-07-25 00:00:...|      12|         CLOSED|     201307|\n",
      "|             9149|2013-07-25 00:00:...|      13|PENDING_PAYMENT|     201307|\n",
      "|             9842|2013-07-25 00:00:...|      14|     PROCESSING|     201307|\n",
      "|             2568|2013-07-25 00:00:...|      15|       COMPLETE|     201307|\n",
      "|             7276|2013-07-25 00:00:...|      16|PENDING_PAYMENT|     201307|\n",
      "|             2667|2013-07-25 00:00:...|      17|       COMPLETE|     201307|\n",
      "|             1205|2013-07-25 00:00:...|      18|         CLOSED|     201307|\n",
      "|             9488|2013-07-25 00:00:...|      19|PENDING_PAYMENT|     201307|\n",
      "|             9198|2013-07-25 00:00:...|      20|     PROCESSING|     201307|\n",
      "+-----------------+--------------------+--------+---------------+-----------+\n",
      "only showing top 20 rows\n",
      "\n"
     ]
    }
   ],
   "source": [
    "orders.\n",
    "  withColumn(\"order_month\", date_format($\"order_date\", \"YYYYMM\")).\n",
    "  show"
   ]
  },
  {
   "cell_type": "code",
   "execution_count": 82,
   "metadata": {},
   "outputs": [
    {
     "data": {
      "text/plain": [
       "Name: Syntax Error.\n",
       "Message: \n",
       "StackTrace: "
      ]
     },
     "execution_count": 82,
     "metadata": {},
     "output_type": "execute_result"
    }
   ],
   "source": [
    "orders.\n",
    "  withColumn(\"order_date\", cast(date_format($\"order_date\", \"YYYYMMdd\")).\n",
    "  show"
   ]
  },
  {
   "cell_type": "code",
   "execution_count": null,
   "metadata": {},
   "outputs": [],
   "source": []
  },
  {
   "cell_type": "code",
   "execution_count": 76,
   "metadata": {},
   "outputs": [
    {
     "name": "stdout",
     "output_type": "stream",
     "text": [
      "+----------------------------------------------+\n",
      "|CAST(date_format(order_date, YYYYMMdd) AS INT)|\n",
      "+----------------------------------------------+\n",
      "|                                      20130725|\n",
      "|                                      20130725|\n",
      "|                                      20130725|\n",
      "|                                      20130725|\n",
      "|                                      20130725|\n",
      "|                                      20130725|\n",
      "|                                      20130725|\n",
      "|                                      20130725|\n",
      "|                                      20130725|\n",
      "|                                      20130725|\n",
      "|                                      20130725|\n",
      "|                                      20130725|\n",
      "|                                      20130725|\n",
      "|                                      20130725|\n",
      "|                                      20130725|\n",
      "|                                      20130725|\n",
      "|                                      20130725|\n",
      "|                                      20130725|\n",
      "|                                      20130725|\n",
      "|                                      20130725|\n",
      "+----------------------------------------------+\n",
      "only showing top 20 rows\n",
      "\n"
     ]
    }
   ],
   "source": [
    "orders.\n",
    "  select(date_format($\"order_date\", \"YYYYMMdd\").cast(\"int\")).\n",
    "  show"
   ]
  },
  {
   "cell_type": "markdown",
   "metadata": {},
   "source": [
    "### Dropping Columns\n",
    "\n",
    "Now let us see how we can drop columns from Data Frame.\n",
    "\n",
    "* We can use **drop** to drop one or more columns from a Data Frame\n",
    "* When we use **drop**, it will create new Data Frame without the columns specified as part of drop.\n",
    "* Column Names can be passed as string type or column type. Using column type we can drop only one column at a time."
   ]
  },
  {
   "cell_type": "code",
   "execution_count": 84,
   "metadata": {},
   "outputs": [
    {
     "name": "stdout",
     "output_type": "stream",
     "text": [
      "+-----------------+--------------------+---------------+\n",
      "|order_customer_id|          order_date|   order_status|\n",
      "+-----------------+--------------------+---------------+\n",
      "|            11599|2013-07-25 00:00:...|         CLOSED|\n",
      "|              256|2013-07-25 00:00:...|PENDING_PAYMENT|\n",
      "|            12111|2013-07-25 00:00:...|       COMPLETE|\n",
      "|             8827|2013-07-25 00:00:...|         CLOSED|\n",
      "|            11318|2013-07-25 00:00:...|       COMPLETE|\n",
      "|             7130|2013-07-25 00:00:...|       COMPLETE|\n",
      "|             4530|2013-07-25 00:00:...|       COMPLETE|\n",
      "|             2911|2013-07-25 00:00:...|     PROCESSING|\n",
      "|             5657|2013-07-25 00:00:...|PENDING_PAYMENT|\n",
      "|             5648|2013-07-25 00:00:...|PENDING_PAYMENT|\n",
      "|              918|2013-07-25 00:00:...| PAYMENT_REVIEW|\n",
      "|             1837|2013-07-25 00:00:...|         CLOSED|\n",
      "|             9149|2013-07-25 00:00:...|PENDING_PAYMENT|\n",
      "|             9842|2013-07-25 00:00:...|     PROCESSING|\n",
      "|             2568|2013-07-25 00:00:...|       COMPLETE|\n",
      "|             7276|2013-07-25 00:00:...|PENDING_PAYMENT|\n",
      "|             2667|2013-07-25 00:00:...|       COMPLETE|\n",
      "|             1205|2013-07-25 00:00:...|         CLOSED|\n",
      "|             9488|2013-07-25 00:00:...|PENDING_PAYMENT|\n",
      "|             9198|2013-07-25 00:00:...|     PROCESSING|\n",
      "+-----------------+--------------------+---------------+\n",
      "only showing top 20 rows\n",
      "\n",
      "+-----------------+--------------------+\n",
      "|order_customer_id|          order_date|\n",
      "+-----------------+--------------------+\n",
      "|            11599|2013-07-25 00:00:...|\n",
      "|              256|2013-07-25 00:00:...|\n",
      "|            12111|2013-07-25 00:00:...|\n",
      "|             8827|2013-07-25 00:00:...|\n",
      "|            11318|2013-07-25 00:00:...|\n",
      "|             7130|2013-07-25 00:00:...|\n",
      "|             4530|2013-07-25 00:00:...|\n",
      "|             2911|2013-07-25 00:00:...|\n",
      "|             5657|2013-07-25 00:00:...|\n",
      "|             5648|2013-07-25 00:00:...|\n",
      "|              918|2013-07-25 00:00:...|\n",
      "|             1837|2013-07-25 00:00:...|\n",
      "|             9149|2013-07-25 00:00:...|\n",
      "|             9842|2013-07-25 00:00:...|\n",
      "|             2568|2013-07-25 00:00:...|\n",
      "|             7276|2013-07-25 00:00:...|\n",
      "|             2667|2013-07-25 00:00:...|\n",
      "|             1205|2013-07-25 00:00:...|\n",
      "|             9488|2013-07-25 00:00:...|\n",
      "|             9198|2013-07-25 00:00:...|\n",
      "+-----------------+--------------------+\n",
      "only showing top 20 rows\n",
      "\n"
     ]
    },
    {
     "data": {
      "text/plain": [
       "orders = [order_customer_id: bigint, order_date: string ... 2 more fields]\n"
      ]
     },
     "metadata": {},
     "output_type": "display_data",
     "source": "user"
    },
    {
     "data": {
      "text/plain": [
       "[order_customer_id: bigint, order_date: string ... 2 more fields]"
      ]
     },
     "execution_count": 84,
     "metadata": {},
     "output_type": "execute_result"
    }
   ],
   "source": [
    "val orders = spark.read.json(\"/public/retail_db_json/orders\")\n",
    "\n",
    "orders.drop($\"order_id\").show\n",
    "orders.drop(\"order_id\", \"order_status\").show"
   ]
  },
  {
   "cell_type": "markdown",
   "metadata": {},
   "source": [
    "### User Defined Functions – Simple\n",
    "\n",
    "Let us explore how we can define simple user defined functions and use them as part of Data Frame Operations as well as Spark SQL.\n",
    "\n",
    "* There are simple UDFs as well as Aggregated UDFs. For now, we will focus on simple UDFs.\n",
    "* We can create variable for function and convert into UDF, using **org.apache.spark.sql.functions.udf**. It will return object of type **org.apache.spark.sql.expressions.UserDefinedFunction**\n",
    "Once UDF is created we can use it as part of any transformation function such as select, where, filter, groupBy etc by using Data Frame Native approach.\n",
    "However, if we want to use it as part of SQL style syntax, we need to register UDF as SQL function. We can do so, by using spark.register.udf.\n",
    "Let us see a demo by creating UDF to extract year from date string and convert it to Integer.\n"
   ]
  },
  {
   "cell_type": "code",
   "execution_count": 85,
   "metadata": {},
   "outputs": [
    {
     "name": "stdout",
     "output_type": "stream",
     "text": [
      "+-----------------+--------------------+--------+---------------+\n",
      "|order_customer_id|          order_date|order_id|   order_status|\n",
      "+-----------------+--------------------+--------+---------------+\n",
      "|            11599|2013-07-25 00:00:...|       1|         CLOSED|\n",
      "|              256|2013-07-25 00:00:...|       2|PENDING_PAYMENT|\n",
      "|            12111|2013-07-25 00:00:...|       3|       COMPLETE|\n",
      "|             8827|2013-07-25 00:00:...|       4|         CLOSED|\n",
      "|            11318|2013-07-25 00:00:...|       5|       COMPLETE|\n",
      "|             7130|2013-07-25 00:00:...|       6|       COMPLETE|\n",
      "|             4530|2013-07-25 00:00:...|       7|       COMPLETE|\n",
      "|             2911|2013-07-25 00:00:...|       8|     PROCESSING|\n",
      "|             5657|2013-07-25 00:00:...|       9|PENDING_PAYMENT|\n",
      "|             5648|2013-07-25 00:00:...|      10|PENDING_PAYMENT|\n",
      "|              918|2013-07-25 00:00:...|      11| PAYMENT_REVIEW|\n",
      "|             1837|2013-07-25 00:00:...|      12|         CLOSED|\n",
      "|             9149|2013-07-25 00:00:...|      13|PENDING_PAYMENT|\n",
      "|             9842|2013-07-25 00:00:...|      14|     PROCESSING|\n",
      "|             2568|2013-07-25 00:00:...|      15|       COMPLETE|\n",
      "|             7276|2013-07-25 00:00:...|      16|PENDING_PAYMENT|\n",
      "|             2667|2013-07-25 00:00:...|      17|       COMPLETE|\n",
      "|             1205|2013-07-25 00:00:...|      18|         CLOSED|\n",
      "|             9488|2013-07-25 00:00:...|      19|PENDING_PAYMENT|\n",
      "|             9198|2013-07-25 00:00:...|      20|     PROCESSING|\n",
      "+-----------------+--------------------+--------+---------------+\n",
      "only showing top 20 rows\n",
      "\n",
      "+----------+\n",
      "|order_year|\n",
      "+----------+\n",
      "|      2013|\n",
      "|      2013|\n",
      "|      2013|\n",
      "|      2013|\n",
      "|      2013|\n",
      "|      2013|\n",
      "|      2013|\n",
      "|      2013|\n",
      "|      2013|\n",
      "|      2013|\n",
      "|      2013|\n",
      "|      2013|\n",
      "|      2013|\n",
      "|      2013|\n",
      "|      2013|\n",
      "|      2013|\n",
      "|      2013|\n",
      "|      2013|\n",
      "|      2013|\n",
      "|      2013|\n",
      "+----------+\n",
      "only showing top 20 rows\n",
      "\n"
     ]
    },
    {
     "data": {
      "text/plain": [
       "orders = [order_customer_id: bigint, order_date: string ... 2 more fields]\n",
       "getYearAsInt = > Int = <function1>\n",
       "getYearAsIntUDF = UserDefinedFunction(<function1>,IntegerType,Some(List(StringType)))\n"
      ]
     },
     "metadata": {},
     "output_type": "display_data",
     "source": "user"
    },
    {
     "data": {
      "text/plain": [
       "UserDefinedFunction(<function1>,IntegerType,Some(List(StringType)))"
      ]
     },
     "execution_count": 85,
     "metadata": {},
     "output_type": "execute_result"
    }
   ],
   "source": [
    "val orders = spark.read.json(\"/public/retail_db_json/orders\")\n",
    "orders.show\n",
    "\n",
    "val getYearAsInt: String => Int = _.split(\"-\")(0).toInt\n",
    "\n",
    "import org.apache.spark.sql.functions.udf\n",
    "\n",
    "val getYearAsIntUDF = udf(getYearAsInt)\n",
    "\n",
    "orders.select(getYearAsIntUDF($\"order_date\").alias(\"order_year\")).show"
   ]
  },
  {
   "cell_type": "code",
   "execution_count": 86,
   "metadata": {},
   "outputs": [
    {
     "name": "stdout",
     "output_type": "stream",
     "text": [
      "+-----------------+--------------------+--------+---------------+----------+\n",
      "|order_customer_id|          order_date|order_id|   order_status|order_year|\n",
      "+-----------------+--------------------+--------+---------------+----------+\n",
      "|            11599|2013-07-25 00:00:...|       1|         CLOSED|      2013|\n",
      "|              256|2013-07-25 00:00:...|       2|PENDING_PAYMENT|      2013|\n",
      "|            12111|2013-07-25 00:00:...|       3|       COMPLETE|      2013|\n",
      "|             8827|2013-07-25 00:00:...|       4|         CLOSED|      2013|\n",
      "|            11318|2013-07-25 00:00:...|       5|       COMPLETE|      2013|\n",
      "|             7130|2013-07-25 00:00:...|       6|       COMPLETE|      2013|\n",
      "|             4530|2013-07-25 00:00:...|       7|       COMPLETE|      2013|\n",
      "|             2911|2013-07-25 00:00:...|       8|     PROCESSING|      2013|\n",
      "|             5657|2013-07-25 00:00:...|       9|PENDING_PAYMENT|      2013|\n",
      "|             5648|2013-07-25 00:00:...|      10|PENDING_PAYMENT|      2013|\n",
      "|              918|2013-07-25 00:00:...|      11| PAYMENT_REVIEW|      2013|\n",
      "|             1837|2013-07-25 00:00:...|      12|         CLOSED|      2013|\n",
      "|             9149|2013-07-25 00:00:...|      13|PENDING_PAYMENT|      2013|\n",
      "|             9842|2013-07-25 00:00:...|      14|     PROCESSING|      2013|\n",
      "|             2568|2013-07-25 00:00:...|      15|       COMPLETE|      2013|\n",
      "|             7276|2013-07-25 00:00:...|      16|PENDING_PAYMENT|      2013|\n",
      "|             2667|2013-07-25 00:00:...|      17|       COMPLETE|      2013|\n",
      "|             1205|2013-07-25 00:00:...|      18|         CLOSED|      2013|\n",
      "|             9488|2013-07-25 00:00:...|      19|PENDING_PAYMENT|      2013|\n",
      "|             9198|2013-07-25 00:00:...|      20|     PROCESSING|      2013|\n",
      "+-----------------+--------------------+--------+---------------+----------+\n",
      "only showing top 20 rows\n",
      "\n"
     ]
    }
   ],
   "source": [
    "orders.withColumn(\"order_year\", getYearAsIntUDF($\"order_date\")).show"
   ]
  },
  {
   "cell_type": "code",
   "execution_count": 87,
   "metadata": {},
   "outputs": [
    {
     "name": "stdout",
     "output_type": "stream",
     "text": [
      "+-----------------+--------------------+--------+---------------+\n",
      "|order_customer_id|          order_date|order_id|   order_status|\n",
      "+-----------------+--------------------+--------+---------------+\n",
      "|             3414|2014-01-01 00:00:...|   25876|PENDING_PAYMENT|\n",
      "|             5549|2014-01-01 00:00:...|   25877|PENDING_PAYMENT|\n",
      "|             9084|2014-01-01 00:00:...|   25878|        PENDING|\n",
      "|             5118|2014-01-01 00:00:...|   25879|        PENDING|\n",
      "|            10146|2014-01-01 00:00:...|   25880|       CANCELED|\n",
      "|             3205|2014-01-01 00:00:...|   25881|PENDING_PAYMENT|\n",
      "|             4598|2014-01-01 00:00:...|   25882|       COMPLETE|\n",
      "|            11764|2014-01-01 00:00:...|   25883|        PENDING|\n",
      "|             7904|2014-01-01 00:00:...|   25884|PENDING_PAYMENT|\n",
      "|             7253|2014-01-01 00:00:...|   25885|        PENDING|\n",
      "|             8195|2014-01-01 00:00:...|   25886|     PROCESSING|\n",
      "|            10062|2014-01-01 00:00:...|   25887|        PENDING|\n",
      "|             6735|2014-01-01 00:00:...|   25888|       COMPLETE|\n",
      "|            10045|2014-01-01 00:00:...|   25889|       COMPLETE|\n",
      "|             2581|2014-01-01 00:00:...|   25890|        PENDING|\n",
      "|             3037|2014-01-01 00:00:...|   25891|         CLOSED|\n",
      "|             3853|2014-01-01 00:00:...|   25892|        ON_HOLD|\n",
      "|             8679|2014-01-01 00:00:...|   25893|PENDING_PAYMENT|\n",
      "|             7839|2014-01-01 00:00:...|   25894|     PROCESSING|\n",
      "|             1044|2014-01-01 00:00:...|   25895|       COMPLETE|\n",
      "+-----------------+--------------------+--------+---------------+\n",
      "only showing top 20 rows\n",
      "\n"
     ]
    }
   ],
   "source": [
    "orders.filter(getYearAsIntUDF($\"order_date\") === 2014).show"
   ]
  },
  {
   "cell_type": "code",
   "execution_count": 88,
   "metadata": {},
   "outputs": [
    {
     "name": "stdout",
     "output_type": "stream",
     "text": [
      "+-----------------+--------------------+--------+---------------+\n",
      "|order_customer_id|          order_date|order_id|   order_status|\n",
      "+-----------------+--------------------+--------+---------------+\n",
      "|             3414|2014-01-01 00:00:...|   25876|PENDING_PAYMENT|\n",
      "|             5549|2014-01-01 00:00:...|   25877|PENDING_PAYMENT|\n",
      "|             9084|2014-01-01 00:00:...|   25878|        PENDING|\n",
      "|             5118|2014-01-01 00:00:...|   25879|        PENDING|\n",
      "|            10146|2014-01-01 00:00:...|   25880|       CANCELED|\n",
      "|             3205|2014-01-01 00:00:...|   25881|PENDING_PAYMENT|\n",
      "|             4598|2014-01-01 00:00:...|   25882|       COMPLETE|\n",
      "|            11764|2014-01-01 00:00:...|   25883|        PENDING|\n",
      "|             7904|2014-01-01 00:00:...|   25884|PENDING_PAYMENT|\n",
      "|             7253|2014-01-01 00:00:...|   25885|        PENDING|\n",
      "|             8195|2014-01-01 00:00:...|   25886|     PROCESSING|\n",
      "|            10062|2014-01-01 00:00:...|   25887|        PENDING|\n",
      "|             6735|2014-01-01 00:00:...|   25888|       COMPLETE|\n",
      "|            10045|2014-01-01 00:00:...|   25889|       COMPLETE|\n",
      "|             2581|2014-01-01 00:00:...|   25890|        PENDING|\n",
      "|             3037|2014-01-01 00:00:...|   25891|         CLOSED|\n",
      "|             3853|2014-01-01 00:00:...|   25892|        ON_HOLD|\n",
      "|             8679|2014-01-01 00:00:...|   25893|PENDING_PAYMENT|\n",
      "|             7839|2014-01-01 00:00:...|   25894|     PROCESSING|\n",
      "|             1044|2014-01-01 00:00:...|   25895|       COMPLETE|\n",
      "+-----------------+--------------------+--------+---------------+\n",
      "only showing top 20 rows\n",
      "\n"
     ]
    }
   ],
   "source": [
    "// Register as temporary function to use as part of SQL Style Syntax\n",
    "spark.udf.register(\"getYearAsIntUDF\", getYearAsInt)\n",
    "orders.where(\"getYearAsIntUDF(order_date) = 2014\").show"
   ]
  },
  {
   "cell_type": "code",
   "execution_count": null,
   "metadata": {},
   "outputs": [],
   "source": [
    "orders.createTempView(\"orders\")\n",
    "spark.sql(\"select o.*, getYearAsIntUDF(o.order_date) order_year from orders o\").show"
   ]
  }
 ],
 "metadata": {
  "kernelspec": {
   "display_name": "Apache Toree - Scala",
   "language": "scala",
   "name": "apache_toree_scala"
  },
  "language_info": {
   "codemirror_mode": "text/x-scala",
   "file_extension": ".scala",
   "mimetype": "text/x-scala",
   "name": "scala",
   "pygments_lexer": "scala",
   "version": "2.11.12"
  }
 },
 "nbformat": 4,
 "nbformat_minor": 4
}
