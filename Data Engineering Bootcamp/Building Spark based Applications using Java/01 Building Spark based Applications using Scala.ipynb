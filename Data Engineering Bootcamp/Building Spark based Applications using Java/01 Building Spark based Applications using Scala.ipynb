{
 "cells": [
  {
   "cell_type": "markdown",
   "metadata": {},
   "source": [
    "# Building Spark based Applications using Scala"
   ]
  },
  {
   "cell_type": "markdown",
   "metadata": {},
   "source": [
    "As part of this lesson we will see how to build scaleable applications using Spark APIs with Scala as programming language.\n",
    "\n",
    "* Setup Development Environment – Scala and Spark\n",
    "* Spark Architecture\n",
    "* Spark Data Structures such as RDD, Data Frames, Data Sets etc\n",
    "* Data Frames and Data Frame Operations\n",
    "* Spark SQL\n",
    "* and more\n",
    "\n",
    "We have not only covered basic transformations such as filtering, joins, aggregations but also analytics/windowing functions are covered in detail.\n"
   ]
  },
  {
   "cell_type": "code",
   "execution_count": null,
   "metadata": {},
   "outputs": [],
   "source": []
  }
 ],
 "metadata": {
  "kernelspec": {
   "display_name": "Apache Toree - Scala",
   "language": "scala",
   "name": "apache_toree_scala"
  },
  "language_info": {
   "codemirror_mode": "text/x-scala",
   "file_extension": ".scala",
   "mimetype": "text/x-scala",
   "name": "scala",
   "pygments_lexer": "scala",
   "version": "2.11.12"
  }
 },
 "nbformat": 4,
 "nbformat_minor": 4
}
