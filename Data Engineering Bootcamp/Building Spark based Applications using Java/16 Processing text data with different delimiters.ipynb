{
 "cells": [
  {
   "cell_type": "markdown",
   "metadata": {},
   "source": [
    "# Processing text data with different delimiters"
   ]
  },
  {
   "cell_type": "markdown",
   "metadata": {},
   "source": [
    "As part of this topic and next few topics let us see different file formats supported Spark along with compression algorithms. File formats include csv, orc, parquet, avro etc and compression algorithms include gzip, deflate, snappy etc.\n",
    "\n",
    "* Dealing with different delimiters for text file format (e. g: yelp data set)\n",
    "* Different file formats and APIs associated with them\n",
    "* Spark 2.x have support to these file formats out of the box\n",
    "    * json\n",
    "    * csv\n",
    "    * orc\n",
    "    * parquet\n",
    "    * and more\n",
    "* We can also use 3rd party APIs to read data from file formats such as Avro\n",
    "* Compression can be extensively used to save storage requirements and also to improve performance\n",
    "* For each file format, compressing data is a bit different\n",
    "* Most of the file formats such as orc, parquet etc compress data by default\n",
    "\n",
    "### Custom Record Delimiter\n",
    "* sc.textFile or spark.read.csv works fine as long as record delimiter is new line character\n",
    "* But if record delimiter is any other character than new line, then we have to use lower level HDFS APIs such as org.apache.hadoop.mapreduce.lib.input.TextInputFormat\n",
    "* Spark Context (sc) have API called newAPIHadoopFile to use lower level HDFS APIs\n",
    "* newAPIHadoopFile takes 5 arguments\n",
    "    * path\n",
    "    * input file format\n",
    "    * key type\n",
    "    * value type\n",
    "    * configuration\n",
    "* We need to first get hadoop configuration from spark context and set textinputformat.record.delimiter\n",
    "* Key type and value type are purely based on the file format. For text file format, key type is org.apache.hadoop.io.LongWritable and value type is org.apache.hadoop.io.Text\n",
    "* To preview the data we have to convert into toString as part of map\n",
    "* You can see the complete code snippet here"
   ]
  },
  {
   "cell_type": "code",
   "execution_count": 1,
   "metadata": {},
   "outputs": [
    {
     "name": "stdout",
     "output_type": "stream",
     "text": [
      "\"review_id\",\"user_id\",\"business_id\",\"stars\",\"date\",\"text\",\"useful\",\"funny\",\"cool\"\n",
      "\n",
      "\"vkVSCC7xljjrAI4UGfnKEQ\",\"bv2nCi5Qv5vroFiqKGopiw\",\"AEx2SYEUJmTxVVB18LlCwA\",\"5\",\"2016-05-28\",\"Super simple place but amazing nonetheless. It's been around since the 30's and they still serve the same thing they started with: a bologna and salami sandwich with mustard. \n",
      "\n",
      "Staff was very helpful and friendly.\",\"0\",\"0\",\"0\"\n",
      "\n",
      "\"n6QzIUObkYshz4dz2QRJTw\",\"bv2nCi5Qv5vroFiqKGopiw\",\"VR6GpWIda3SfvPC-lg9H3w\",\"5\",\"2016-05-28\",\"Small unassuming place that changes their menu every so often. Cool decor and vibe inside their 30 seat restaurant. Call for a reservation. \n",
      "\n",
      "We had their beef tartar and pork belly to start and a salmon dish and lamb meal for mains. Everything was incredible! I could go on at length about how all the listed ingredients really make their dishes amazing but honestly you just need to go. \n",
      "\n",
      "A bit outside of downtown montreal but take the metro out and it's less than a 10 minute walk from the station.\",\"0\",\"0\",\"0\"\n",
      "\n",
      "\"MV3CcKScW05u5LVfF6ok0g\",\"bv2nCi5Qv5vroFiqKGopiw\",\"CKC0-MOWMqoeWf6s-szl8g\",\"5\",\"2016-05-28\",\"Lester's is located in a beautiful neighborhood and has been there since 1951. They are known for smoked meat which most deli's have but their brisket sandwich is what I come to montreal for. They've got about 12 seats outside to go along with the inside. \n",
      "\n",
      "The smoked meat is up there in quality and taste with Schwartz's and you'll find less tourists at Lester's as well.\",\"0\",\"0\",\"0\"\n",
      "\n",
      "\"IXvOzsEMYtiJI0CARmj77Q\",\"bv2nCi5Qv5vroFiqKGopiw\",\"ACFtxLv8pGrrxMm6EgjreA\",\"4\",\"2016-05-28\",\"Love coming here. Yes the place always needs the floor swept but when you give out  peanuts in the shell how won't it always be a bit dirty. \n",
      "\n",
      "The food speaks for itself, so good. Burgers are made to order and the meat is put on the grill when you order your sandwich. Getting the small burger just means 1 patty, the regular is a 2 patty burger which is twice the deliciousness. \n",
      "\n",
      "Getting the Cajun fries adds a bit of spice to them and whatever size you order they always throw more fries (a lot more fries) into the bag.\",\"0\",\"0\",\"0\"\n",
      "\n",
      "\"L_9BTb55X0GDtThi6GlZ6w\",\"bv2nCi5Qv5vroFiqKGopiw\",\"s2I_Ni76bjJNK9yG60iD-Q\",\"4\",\"2016-05-28\",\"Had their chocolate almond croissant and it was amazing! So light and buttery and oh my how chocolaty.\n",
      "\n",
      "If you're looking for a light breakfast then head out here. Perfect spot for a coffee\\/latté before heading out to the old port\",\"0\",\"0\",\"0\"\n",
      "\n",
      "\"HRPm3vEZ_F-33TYVT7Pebw\",\"_4iMDXbXZ1p1ONG297YEAQ\",\"8QWPlVQ6D-OExqXoaD2Z1g\",\"5\",\"2014-09-24\",\"Cycle Pub Las Vegas was a blast! Got a groupon and rented the bike for 11 of us for an afternoon tour. Each bar was more fun than the last. Downtown Las Vegas has changed so much and for the better. We had a wide age range in this group from early 20's to mid 50's and everyone had so much fun! Our driver Tony was knowledgable , friendly and just plain fun! Would recommend this to anyone looking to do something different away from the strip. You won't be disappointed!\",\"1\",\"0\",\"0\"\n",
      "\n",
      "\"ymAUG8DZfQcFTBSOiaNN4w\",\"u0LXt3Uea_GidxRW1xcsfg\",\"9_CGhHMz8698M9-PkVf0CQ\",\"4\",\"2012-05-11\",\"Who would have guess that you would be able to get fairly decent Vietnamese restaurant in East York? \n",
      "\n",
      "Not quite the same as Chinatown in terms of pricing (slightly higher) but definitely one of the better Vietnamese restaurants outside of the neighbourhood. When I don't have time to go to Chinatown, this is the next best thing as it is down the street from me.\n",
      "\n",
      "So far the only items I have tried are the phos (beef, chicken & vegetarian) - and they have not disappointed me! Especially the chicken pho.\n",
      "\n",
      "Next time I go back, I'm going to try the banh cuon (steamed rice noodle) and the vermicelli!\",\"0\",\"0\",\"2\"\n",
      "\n",
      "\"8UIishPUD92hXtScSga_gw\",\"u0LXt3Uea_GidxRW1xcsfg\",\"gkCorLgPyQLsptTHalL61g\",\"4\",\"2015-10-27\",\"Always drove past this coffee house and wondered about it. BF and I finally made the stop to try this place out.\n",
      "\n",
      "Cute, quaint coffee shop with nice muskoka chairs outside. \n",
      "\n",
      "BF ordered an ice coffee and really enjoyed it! Guess we will be back again!\",\"1\",\"0\",\"0\"\n",
      "\n",
      "\"w41ZS9shepfO3uEyhXEWuQ\",\"u0LXt3Uea_GidxRW1xcsfg\",\"5r6-G9C4YLbC7Ziz57l3rQ\",\"3\",\"2013-02-09\",\"Not bad!! Love that there is a gluten-free, vegan version of the cheese curds and gravy!!\n",
      "\n",
      "Haven't done the poutine taste test yet with smoke's but Im excited to see which is better. However poutini's might win as they are vegan and gluten-free\",\"1\",\"0\",\"0\"\n",
      "(1,2452)\n",
      "(4,534)\n",
      "(6,534)\n",
      "(9,5261110)\n",
      "(10,20)\n",
      "(11,4)\n",
      "(12,1)\n"
     ]
    },
    {
     "data": {
      "text/plain": [
       "path = /public/yelp-dataset/yelp_review.csv\n",
       "conf = Configuration: core-default.xml, core-site.xml, mapred-default.xml, mapred-site.xml, yarn-default.xml, yarn-site.xml, hdfs-default.xml, hdfs-site.xml, __spark_hadoop_conf__.xml, file:/etc/spark2/2.6.5.0-292/0/hive-site.xml\n",
       "yelpReview = /public/yelp-dataset/yelp_review.csv NewHadoopRDD[0] at newAPIHadoopFile at <console>:37\n"
      ]
     },
     "metadata": {},
     "output_type": "display_data",
     "source": "user"
    },
    {
     "data": {
      "text/plain": [
       "/public/yelp-dataset/yelp_review.csv NewHadoopRDD[0] at newAPIHadoopFile at <console>:37"
      ]
     },
     "execution_count": 1,
     "metadata": {},
     "output_type": "execute_result"
    }
   ],
   "source": [
    "// spark-newAPIHadoopFile-yelp_review.scala\n",
    " \n",
    "val path = \"/public/yelp-dataset/yelp_review.csv\"\n",
    "val conf = sc.hadoopConfiguration\n",
    "conf.set(\"textinputformat.record.delimiter\", \"\\r\")\n",
    "\n",
    "import org.apache.hadoop.mapreduce.lib.input.TextInputFormat\n",
    "import org.apache.hadoop.io.LongWritable\n",
    "import org.apache.hadoop.io.Text\n",
    "\n",
    "val yelpReview = sc.newAPIHadoopFile(path, classOf[TextInputFormat], classOf[LongWritable], classOf[Text], conf)\n",
    "yelpReview.count\n",
    "yelpReview.map(r => r._2.toString).take(10).foreach(println)\n",
    "yelpReview.map(r => (r._2.toString.split(\"\\\",\\\"\").size, 1)).reduceByKey(_ + _).collect.foreach(println)"
   ]
  },
  {
   "cell_type": "code",
   "execution_count": null,
   "metadata": {},
   "outputs": [],
   "source": []
  }
 ],
 "metadata": {
  "kernelspec": {
   "display_name": "Apache Toree - Scala",
   "language": "scala",
   "name": "apache_toree_scala"
  },
  "language_info": {
   "codemirror_mode": "text/x-scala",
   "file_extension": ".scala",
   "mimetype": "text/x-scala",
   "name": "scala",
   "pygments_lexer": "scala",
   "version": "2.11.12"
  }
 },
 "nbformat": 4,
 "nbformat_minor": 4
}
