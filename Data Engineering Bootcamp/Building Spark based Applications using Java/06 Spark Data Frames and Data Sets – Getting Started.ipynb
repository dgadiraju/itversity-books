{
 "cells": [
  {
   "cell_type": "markdown",
   "metadata": {},
   "source": [
    "# Spark Data Frames and Data Sets – Getting Started"
   ]
  },
  {
   "cell_type": "markdown",
   "metadata": {},
   "source": [
    "As part of this Spark Data Frames getting started session, let us understand how we can create data frames from different file formats and how to write data frames back to different file formats.\n",
    "\n",
    "* Overview of Data Frames\n",
    "* Creating Data Frames from RDD\n",
    "* Creating Data Frames – File Formats\n",
    "* Creating Data Sets from RDD\n",
    "* Creating Data Sets from Data Frame\n",
    "\n",
    "### Overview of Data Frames\n",
    "\n",
    "Data Frames are nothing but named RDD.\n",
    "\n",
    "* With RDD we do not have names to refer field names\n",
    "* As there are no names, we only can access elements by position unless we use Object-Oriented Concepts\n",
    "* Once Data Frames are created we can process data using multiple approaches\n",
    "    * Data Frame Operations\n",
    "    * Spark SQL\n",
    "* We can create Data Frames from files using APIs, from Hive tables as well as over JDBC.\n",
    "* Data Frames can be written into different file formats, Hive tables as well as remote databases over JDBC.\n",
    "\n",
    "### Creating Data Frames from RDD\n",
    "\n",
    "Now let us see how we can create Data Frames from RDD.\n",
    "\n",
    "* We do not use this that often as we can use spark.read APIs to convert data in flat files into Data Frames directly.\n",
    "* There are some file formats which are available on sc, but not on spark.read. In those scenarios we might have to load data from files into RDD, extract information using map and then create Data Frame.\n",
    "* Let us see an example where we read comma separated data from text files and create Data Frame out of it.\n",
    "    * Read text data using sc.textFile\n",
    "    * Apply map to convert data into tuple with right data type\n",
    "    * Use toDF to create Data Frame. We can define data types while creating tables.\n"
   ]
  },
  {
   "cell_type": "code",
   "execution_count": 38,
   "metadata": {},
   "outputs": [
    {
     "name": "stdout",
     "output_type": "stream",
     "text": [
      "root\n",
      " |-- _1: integer (nullable = false)\n",
      " |-- _2: string (nullable = true)\n",
      " |-- _3: integer (nullable = false)\n",
      " |-- _4: string (nullable = true)\n",
      "\n",
      "+---+--------------------+-----+---------------+\n",
      "| _1|                  _2|   _3|             _4|\n",
      "+---+--------------------+-----+---------------+\n",
      "|  1|2013-07-25 00:00:...|11599|         CLOSED|\n",
      "|  2|2013-07-25 00:00:...|  256|PENDING_PAYMENT|\n",
      "|  3|2013-07-25 00:00:...|12111|       COMPLETE|\n",
      "|  4|2013-07-25 00:00:...| 8827|         CLOSED|\n",
      "|  5|2013-07-25 00:00:...|11318|       COMPLETE|\n",
      "|  6|2013-07-25 00:00:...| 7130|       COMPLETE|\n",
      "|  7|2013-07-25 00:00:...| 4530|       COMPLETE|\n",
      "|  8|2013-07-25 00:00:...| 2911|     PROCESSING|\n",
      "|  9|2013-07-25 00:00:...| 5657|PENDING_PAYMENT|\n",
      "| 10|2013-07-25 00:00:...| 5648|PENDING_PAYMENT|\n",
      "| 11|2013-07-25 00:00:...|  918| PAYMENT_REVIEW|\n",
      "| 12|2013-07-25 00:00:...| 1837|         CLOSED|\n",
      "| 13|2013-07-25 00:00:...| 9149|PENDING_PAYMENT|\n",
      "| 14|2013-07-25 00:00:...| 9842|     PROCESSING|\n",
      "| 15|2013-07-25 00:00:...| 2568|       COMPLETE|\n",
      "| 16|2013-07-25 00:00:...| 7276|PENDING_PAYMENT|\n",
      "| 17|2013-07-25 00:00:...| 2667|       COMPLETE|\n",
      "| 18|2013-07-25 00:00:...| 1205|         CLOSED|\n",
      "| 19|2013-07-25 00:00:...| 9488|PENDING_PAYMENT|\n",
      "| 20|2013-07-25 00:00:...| 9198|     PROCESSING|\n",
      "+---+--------------------+-----+---------------+\n",
      "only showing top 20 rows\n",
      "\n"
     ]
    },
    {
     "data": {
      "text/plain": [
       "inputBaseDir = /public/retail_db\n",
       "orders = /public/retail_db/orders MapPartitionsRDD[92] at textFile at <console>:39\n",
       "ordersDF = [_1: int, _2: string ... 2 more fields]\n"
      ]
     },
     "metadata": {},
     "output_type": "display_data",
     "source": "user"
    },
    {
     "data": {
      "text/plain": [
       "[_1: int, _2: string ... 2 more fields]"
      ]
     },
     "execution_count": 38,
     "metadata": {},
     "output_type": "execute_result"
    }
   ],
   "source": [
    "val inputBaseDir = \"/public/retail_db\"\n",
    "val orders = sc.textFile(inputBaseDir + \"/orders\")\n",
    "\n",
    "// Without column names\n",
    "val ordersDF = orders.\n",
    "  map(o => {\n",
    "    val a = o.split(\",\")\n",
    "    (a(0).toInt, a(1), a(2).toInt, a(3))\n",
    "  }).\n",
    "  toDF\n",
    "\n",
    "ordersDF.printSchema\n",
    "ordersDF.show\n"
   ]
  },
  {
   "cell_type": "code",
   "execution_count": 39,
   "metadata": {},
   "outputs": [
    {
     "name": "stdout",
     "output_type": "stream",
     "text": [
      "root\n",
      " |-- order_id: integer (nullable = false)\n",
      " |-- order_date: string (nullable = true)\n",
      " |-- order_customer_id: integer (nullable = false)\n",
      " |-- order_status: string (nullable = true)\n",
      "\n",
      "+--------+--------------------+-----------------+---------------+\n",
      "|order_id|          order_date|order_customer_id|   order_status|\n",
      "+--------+--------------------+-----------------+---------------+\n",
      "|       1|2013-07-25 00:00:...|            11599|         CLOSED|\n",
      "|       2|2013-07-25 00:00:...|              256|PENDING_PAYMENT|\n",
      "|       3|2013-07-25 00:00:...|            12111|       COMPLETE|\n",
      "|       4|2013-07-25 00:00:...|             8827|         CLOSED|\n",
      "|       5|2013-07-25 00:00:...|            11318|       COMPLETE|\n",
      "|       6|2013-07-25 00:00:...|             7130|       COMPLETE|\n",
      "|       7|2013-07-25 00:00:...|             4530|       COMPLETE|\n",
      "|       8|2013-07-25 00:00:...|             2911|     PROCESSING|\n",
      "|       9|2013-07-25 00:00:...|             5657|PENDING_PAYMENT|\n",
      "|      10|2013-07-25 00:00:...|             5648|PENDING_PAYMENT|\n",
      "|      11|2013-07-25 00:00:...|              918| PAYMENT_REVIEW|\n",
      "|      12|2013-07-25 00:00:...|             1837|         CLOSED|\n",
      "|      13|2013-07-25 00:00:...|             9149|PENDING_PAYMENT|\n",
      "|      14|2013-07-25 00:00:...|             9842|     PROCESSING|\n",
      "|      15|2013-07-25 00:00:...|             2568|       COMPLETE|\n",
      "|      16|2013-07-25 00:00:...|             7276|PENDING_PAYMENT|\n",
      "|      17|2013-07-25 00:00:...|             2667|       COMPLETE|\n",
      "|      18|2013-07-25 00:00:...|             1205|         CLOSED|\n",
      "|      19|2013-07-25 00:00:...|             9488|PENDING_PAYMENT|\n",
      "|      20|2013-07-25 00:00:...|             9198|     PROCESSING|\n",
      "+--------+--------------------+-----------------+---------------+\n",
      "only showing top 20 rows\n",
      "\n"
     ]
    },
    {
     "data": {
      "text/plain": [
       "inputBaseDir = /public/retail_db\n",
       "ordersDF = [order_id: int, order_date: string ... 2 more fields]\n"
      ]
     },
     "metadata": {},
     "output_type": "display_data",
     "source": "user"
    },
    {
     "data": {
      "text/plain": [
       "[order_id: int, order_date: string ... 2 more fields]"
      ]
     },
     "execution_count": 39,
     "metadata": {},
     "output_type": "execute_result"
    }
   ],
   "source": [
    "// With column names\n",
    "\n",
    "val inputBaseDir = \"/public/retail_db\"\n",
    "val ordersDF = orders.\n",
    "  map(o => {\n",
    "    val a = o.split(\",\")\n",
    "    (a(0).toInt, a(1), a(2).toInt, a(3))\n",
    "  }).\n",
    "  toDF(\"order_id\", \"order_date\", \"order_customer_id\", \"order_status\")\n",
    "\n",
    "ordersDF.printSchema\n",
    "ordersDF.show"
   ]
  },
  {
   "cell_type": "markdown",
   "metadata": {},
   "source": [
    "### Creating Data Frames – File Formats\n",
    "\n",
    "Spark support multiple file formats out of the box. We will just go through overview for now and get into details at later point in time.\n",
    "\n",
    "* spark.read and spark.load provide APIs to read data from files of different file formats.\n",
    "* Supported file formats\n",
    "    * Text File Format – csv and text\n",
    "    * parquet\n",
    "    * orc\n",
    "    * json\n",
    "    * avro (require plugin)\n",
    "* All the file formats except text files typically store metadata along with data. Hence when we create Data Frame out of the special file formats, they typically inherit the schema.\n",
    "* Let us create Data Frame out of JSON data and process it using both Data Frame Operations as well as Spark SQL."
   ]
  },
  {
   "cell_type": "code",
   "execution_count": 1,
   "metadata": {},
   "outputs": [
    {
     "name": "stdout",
     "output_type": "stream",
     "text": [
      "+--------------------+-----+\n",
      "|          order_date|count|\n",
      "+--------------------+-----+\n",
      "|2013-08-13 00:00:...|   73|\n",
      "|2013-10-12 00:00:...|  162|\n",
      "|2013-11-15 00:00:...|  135|\n",
      "|2014-03-19 00:00:...|  130|\n",
      "|2014-04-26 00:00:...|  251|\n",
      "|2013-09-16 00:00:...|  121|\n",
      "|2013-09-20 00:00:...|  139|\n",
      "|2013-12-31 00:00:...|  266|\n",
      "|2013-09-06 00:00:...|  276|\n",
      "|2014-06-15 00:00:...|  128|\n",
      "|2013-12-24 00:00:...|  170|\n",
      "|2014-01-07 00:00:...|  163|\n",
      "|2014-06-07 00:00:...|  191|\n",
      "|2013-10-14 00:00:...|  139|\n",
      "|2013-11-11 00:00:...|  246|\n",
      "|2014-01-27 00:00:...|  163|\n",
      "|2014-01-29 00:00:...|  158|\n",
      "|2014-02-14 00:00:...|  174|\n",
      "|2014-04-15 00:00:...|  180|\n",
      "|2014-04-22 00:00:...|  144|\n",
      "+--------------------+-----+\n",
      "only showing top 20 rows\n",
      "\n"
     ]
    },
    {
     "data": {
      "text/plain": [
       "ordersDF = [order_customer_id: bigint, order_date: string ... 2 more fields]\n"
      ]
     },
     "metadata": {},
     "output_type": "display_data",
     "source": "user"
    },
    {
     "data": {
      "text/plain": [
       "[order_customer_id: bigint, order_date: string ... 2 more fields]"
      ]
     },
     "execution_count": 1,
     "metadata": {},
     "output_type": "execute_result"
    }
   ],
   "source": [
    "val ordersDF = spark.read.json(\"/public/retail_db_json/orders\")\n",
    "\n",
    "// Using Data Frame Operations\n",
    "ordersDF.\n",
    "  groupBy(\"order_date\").\n",
    "  count.\n",
    "  show\n"
   ]
  },
  {
   "cell_type": "code",
   "execution_count": 2,
   "metadata": {},
   "outputs": [
    {
     "name": "stdout",
     "output_type": "stream",
     "text": [
      "+--------------------+-----------+\n",
      "|          order_date|order_count|\n",
      "+--------------------+-----------+\n",
      "|2013-08-13 00:00:...|         73|\n",
      "|2013-10-12 00:00:...|        162|\n",
      "|2013-11-15 00:00:...|        135|\n",
      "|2014-03-19 00:00:...|        130|\n",
      "|2014-04-26 00:00:...|        251|\n",
      "|2013-09-16 00:00:...|        121|\n",
      "|2013-09-20 00:00:...|        139|\n",
      "|2013-12-31 00:00:...|        266|\n",
      "|2013-09-06 00:00:...|        276|\n",
      "|2014-06-15 00:00:...|        128|\n",
      "|2013-12-24 00:00:...|        170|\n",
      "|2014-01-07 00:00:...|        163|\n",
      "|2014-06-07 00:00:...|        191|\n",
      "|2013-10-14 00:00:...|        139|\n",
      "|2013-11-11 00:00:...|        246|\n",
      "|2014-01-27 00:00:...|        163|\n",
      "|2014-01-29 00:00:...|        158|\n",
      "|2014-02-14 00:00:...|        174|\n",
      "|2014-04-15 00:00:...|        180|\n",
      "|2014-04-22 00:00:...|        144|\n",
      "+--------------------+-----------+\n",
      "only showing top 20 rows\n",
      "\n"
     ]
    },
    {
     "data": {
      "text/plain": [
       "ordersDF = [order_customer_id: bigint, order_date: string ... 2 more fields]\n"
      ]
     },
     "metadata": {},
     "output_type": "display_data",
     "source": "user"
    },
    {
     "data": {
      "text/plain": [
       "[order_customer_id: bigint, order_date: string ... 2 more fields]"
      ]
     },
     "execution_count": 2,
     "metadata": {},
     "output_type": "execute_result"
    }
   ],
   "source": [
    "import org.apache.spark.sql.functions.count\n",
    "\n",
    "val ordersDF = spark.read.json(\"/public/retail_db_json/orders\")\n",
    "\n",
    "ordersDF.\n",
    "  groupBy(\"order_date\").\n",
    "  agg(count(\"order_date\").alias(\"order_count\")).\n",
    "  show"
   ]
  },
  {
   "cell_type": "code",
   "execution_count": null,
   "metadata": {},
   "outputs": [],
   "source": [
    "// Using Spark SQL\n",
    "val ordersDF = spark.read.json(\"/public/retail_db_json/orders\")\n",
    "\n",
    "ordersDF.createTempView(\"orders1\")\n",
    "spark.\n",
    "  sql(\"select order_date, count(1) order_count from orders group by order_date\").\n",
    "  show"
   ]
  },
  {
   "cell_type": "markdown",
   "metadata": {},
   "source": [
    "### Creating Data Sets from RDD\n",
    "\n",
    "Let us see how we can create Data Set from RDD. We need to use case classes that comes as part of Scala to create Data Sets.\n",
    "\n",
    "* Create RDD by reading data from the file\n",
    "\n",
    "**Recap of Case Classes**\n",
    "\n",
    "Let us quickly review some of the concepts related to Case Classes as we need to use them for creating Data Sets.\n",
    "\n",
    "* Create case class – we will review some of the important concepts of Case Class\n",
    "    * We get getters and setters with case classes.\n",
    "    * It implements Serializable and Product\n",
    "    * While Serializable gives us functionality to convert the object to the data stream, Product will give us functionality such as productArity, productIterator etc.\n",
    "    * productArity gives us the number of elements while productIterator convert case class attribute values to the collection.\n",
    "\n",
    "**Creating Data Sets**\n",
    "\n",
    "As we understood details with respect to Case Classes, now let us go ahead and create Data Sets from RDD.\n",
    "\n",
    "* Data Frames can be processed either by using Data Frame Operations or Spark SQL, whereas Data Sets can be processed using core APIs as well.\n",
    "* APIs are same for both Data Frames as well as Data Sets to process using Data Frame Operations or Spark SQL"
   ]
  },
  {
   "cell_type": "code",
   "execution_count": null,
   "metadata": {},
   "outputs": [],
   "source": [
    "val inputBaseDir = \"/public/retail_db\"\n",
    "val orders = sc.textFile(inputBaseDir + \"/orders\")\n",
    "\n",
    "case class Order (\n",
    "  order_id: Int,\n",
    "  order_date: String,\n",
    "  order_customer_id: Int,\n",
    "  order_status: String\n",
    ")\n",
    "\n",
    "// Case classes can be validated using :javap -p Order\n",
    "\n",
    "val o = Order(1, \"2013-07-25\", 1, \"COMPLETE\")"
   ]
  },
  {
   "cell_type": "code",
   "execution_count": null,
   "metadata": {},
   "outputs": [],
   "source": [
    "o.order_id"
   ]
  },
  {
   "cell_type": "code",
   "execution_count": null,
   "metadata": {},
   "outputs": [],
   "source": [
    "o.productIterator.mkString(\":\")"
   ]
  },
  {
   "cell_type": "code",
   "execution_count": null,
   "metadata": {},
   "outputs": [],
   "source": [
    "// Creating Data Set\n",
    "val ordersDS = orders.\n",
    "  map(o => {\n",
    "    val a = o.split(\",\")\n",
    "    Order(a(0).toInt, a(1), a(2).toInt, a(3))\n",
    "  }).\n",
    "  toDS\n",
    "\n",
    "ordersDS.printSchema"
   ]
  },
  {
   "cell_type": "code",
   "execution_count": 51,
   "metadata": {},
   "outputs": [
    {
     "name": "stdout",
     "output_type": "stream",
     "text": [
      "+--------+--------------------+-----------------+---------------+\n",
      "|order_id|          order_date|order_customer_id|   order_status|\n",
      "+--------+--------------------+-----------------+---------------+\n",
      "|       1|2013-07-25 00:00:...|            11599|         CLOSED|\n",
      "|       2|2013-07-25 00:00:...|              256|PENDING_PAYMENT|\n",
      "|       3|2013-07-25 00:00:...|            12111|       COMPLETE|\n",
      "|       4|2013-07-25 00:00:...|             8827|         CLOSED|\n",
      "|       5|2013-07-25 00:00:...|            11318|       COMPLETE|\n",
      "|       6|2013-07-25 00:00:...|             7130|       COMPLETE|\n",
      "|       7|2013-07-25 00:00:...|             4530|       COMPLETE|\n",
      "|       8|2013-07-25 00:00:...|             2911|     PROCESSING|\n",
      "|       9|2013-07-25 00:00:...|             5657|PENDING_PAYMENT|\n",
      "|      10|2013-07-25 00:00:...|             5648|PENDING_PAYMENT|\n",
      "|      11|2013-07-25 00:00:...|              918| PAYMENT_REVIEW|\n",
      "|      12|2013-07-25 00:00:...|             1837|         CLOSED|\n",
      "|      13|2013-07-25 00:00:...|             9149|PENDING_PAYMENT|\n",
      "|      14|2013-07-25 00:00:...|             9842|     PROCESSING|\n",
      "|      15|2013-07-25 00:00:...|             2568|       COMPLETE|\n",
      "|      16|2013-07-25 00:00:...|             7276|PENDING_PAYMENT|\n",
      "|      17|2013-07-25 00:00:...|             2667|       COMPLETE|\n",
      "|      18|2013-07-25 00:00:...|             1205|         CLOSED|\n",
      "|      19|2013-07-25 00:00:...|             9488|PENDING_PAYMENT|\n",
      "|      20|2013-07-25 00:00:...|             9198|     PROCESSING|\n",
      "+--------+--------------------+-----------------+---------------+\n",
      "only showing top 20 rows\n",
      "\n"
     ]
    }
   ],
   "source": [
    "ordersDS.show"
   ]
  },
  {
   "cell_type": "code",
   "execution_count": 52,
   "metadata": {},
   "outputs": [
    {
     "name": "stdout",
     "output_type": "stream",
     "text": [
      "+-----+\n",
      "|value|\n",
      "+-----+\n",
      "|    1|\n",
      "|    2|\n",
      "|    3|\n",
      "|    4|\n",
      "|    5|\n",
      "|    6|\n",
      "|    7|\n",
      "|    8|\n",
      "|    9|\n",
      "|   10|\n",
      "|   11|\n",
      "|   12|\n",
      "|   13|\n",
      "|   14|\n",
      "|   15|\n",
      "|   16|\n",
      "|   17|\n",
      "|   18|\n",
      "|   19|\n",
      "|   20|\n",
      "+-----+\n",
      "only showing top 20 rows\n",
      "\n"
     ]
    }
   ],
   "source": [
    "ordersDS.map(o => o.order_id).show"
   ]
  },
  {
   "cell_type": "code",
   "execution_count": 53,
   "metadata": {},
   "outputs": [
    {
     "name": "stdout",
     "output_type": "stream",
     "text": [
      "+--------+\n",
      "|order_id|\n",
      "+--------+\n",
      "|       1|\n",
      "|       2|\n",
      "|       3|\n",
      "|       4|\n",
      "|       5|\n",
      "|       6|\n",
      "|       7|\n",
      "|       8|\n",
      "|       9|\n",
      "|      10|\n",
      "|      11|\n",
      "|      12|\n",
      "|      13|\n",
      "|      14|\n",
      "|      15|\n",
      "|      16|\n",
      "|      17|\n",
      "|      18|\n",
      "|      19|\n",
      "|      20|\n",
      "+--------+\n",
      "only showing top 20 rows\n",
      "\n"
     ]
    }
   ],
   "source": [
    "ordersDS.select(\"order_id\").show"
   ]
  },
  {
   "cell_type": "markdown",
   "metadata": {},
   "source": [
    "### Creating Data Sets from Data Frame\n",
    "\n",
    "We can create Data Set from Data Frame using as function by applying case class. But you need to make sure the data types are in sync.\n",
    "\n",
    "* Create Data Frame from JSON\n",
    "* Create case class with required fields and appropriate data sets\n",
    "* Use as and convert Data Frame to Data Set.\n",
    "* Make sure the data types between Data Frame and case class are compatible.\n",
    "* Also as part of map we can only use Data Types such as Int, Long etc. Data Types such as BigInt are not serializable."
   ]
  },
  {
   "cell_type": "code",
   "execution_count": 54,
   "metadata": {},
   "outputs": [
    {
     "name": "stdout",
     "output_type": "stream",
     "text": [
      "root\n",
      " |-- order_customer_id: long (nullable = true)\n",
      " |-- order_date: string (nullable = true)\n",
      " |-- order_id: long (nullable = true)\n",
      " |-- order_status: string (nullable = true)\n",
      "\n"
     ]
    },
    {
     "data": {
      "text/plain": [
       "ordersDF = [order_customer_id: bigint, order_date: string ... 2 more fields]\n",
       "defined class Order\n"
      ]
     },
     "metadata": {},
     "output_type": "display_data",
     "source": "user"
    },
    {
     "data": {
      "text/plain": [
       "[order_customer_id: bigint, order_date: string ... 2 more fields]"
      ]
     },
     "execution_count": 54,
     "metadata": {},
     "output_type": "execute_result"
    }
   ],
   "source": [
    "val ordersDF = spark.read.json(\"/public/retail_db_json/orders\")\n",
    "\n",
    "ordersDF.printSchema\n",
    "\n",
    "case class Order (\n",
    "  order_id: BigInt,\n",
    "  order_date: String,\n",
    "  order_customer_id: BigInt,\n",
    "  order_status: String\n",
    ")\n"
   ]
  },
  {
   "cell_type": "code",
   "execution_count": 55,
   "metadata": {},
   "outputs": [
    {
     "name": "stdout",
     "output_type": "stream",
     "text": [
      "+-----------------+--------------------+--------+---------------+\n",
      "|order_customer_id|          order_date|order_id|   order_status|\n",
      "+-----------------+--------------------+--------+---------------+\n",
      "|            11599|2013-07-25 00:00:...|       1|         CLOSED|\n",
      "|              256|2013-07-25 00:00:...|       2|PENDING_PAYMENT|\n",
      "|            12111|2013-07-25 00:00:...|       3|       COMPLETE|\n",
      "|             8827|2013-07-25 00:00:...|       4|         CLOSED|\n",
      "|            11318|2013-07-25 00:00:...|       5|       COMPLETE|\n",
      "|             7130|2013-07-25 00:00:...|       6|       COMPLETE|\n",
      "|             4530|2013-07-25 00:00:...|       7|       COMPLETE|\n",
      "|             2911|2013-07-25 00:00:...|       8|     PROCESSING|\n",
      "|             5657|2013-07-25 00:00:...|       9|PENDING_PAYMENT|\n",
      "|             5648|2013-07-25 00:00:...|      10|PENDING_PAYMENT|\n",
      "|              918|2013-07-25 00:00:...|      11| PAYMENT_REVIEW|\n",
      "|             1837|2013-07-25 00:00:...|      12|         CLOSED|\n",
      "|             9149|2013-07-25 00:00:...|      13|PENDING_PAYMENT|\n",
      "|             9842|2013-07-25 00:00:...|      14|     PROCESSING|\n",
      "|             2568|2013-07-25 00:00:...|      15|       COMPLETE|\n",
      "|             7276|2013-07-25 00:00:...|      16|PENDING_PAYMENT|\n",
      "|             2667|2013-07-25 00:00:...|      17|       COMPLETE|\n",
      "|             1205|2013-07-25 00:00:...|      18|         CLOSED|\n",
      "|             9488|2013-07-25 00:00:...|      19|PENDING_PAYMENT|\n",
      "|             9198|2013-07-25 00:00:...|      20|     PROCESSING|\n",
      "+-----------------+--------------------+--------+---------------+\n",
      "only showing top 20 rows\n",
      "\n"
     ]
    }
   ],
   "source": [
    "ordersDF.as[Order].show"
   ]
  },
  {
   "cell_type": "code",
   "execution_count": 56,
   "metadata": {},
   "outputs": [
    {
     "name": "stdout",
     "output_type": "stream",
     "text": [
      "+-----+\n",
      "|value|\n",
      "+-----+\n",
      "|    1|\n",
      "|    2|\n",
      "|    3|\n",
      "|    4|\n",
      "|    5|\n",
      "|    6|\n",
      "|    7|\n",
      "|    8|\n",
      "|    9|\n",
      "|   10|\n",
      "|   11|\n",
      "|   12|\n",
      "|   13|\n",
      "|   14|\n",
      "|   15|\n",
      "|   16|\n",
      "|   17|\n",
      "|   18|\n",
      "|   19|\n",
      "|   20|\n",
      "+-----+\n",
      "only showing top 20 rows\n",
      "\n"
     ]
    }
   ],
   "source": [
    "ordersDS.map(o => o.order_id.toLong).show"
   ]
  }
 ],
 "metadata": {
  "kernelspec": {
   "display_name": "Apache Toree - Scala",
   "language": "scala",
   "name": "apache_toree_scala"
  },
  "language_info": {
   "codemirror_mode": "text/x-scala",
   "file_extension": ".scala",
   "mimetype": "text/x-scala",
   "name": "scala",
   "pygments_lexer": "scala",
   "version": "2.11.12"
  }
 },
 "nbformat": 4,
 "nbformat_minor": 4
}
